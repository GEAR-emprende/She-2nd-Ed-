{
  "nbformat": 4,
  "nbformat_minor": 0,
  "metadata": {
    "colab": {
      "name": "pandas&Matplotlib.ipynb",
      "provenance": [],
      "collapsed_sections": [],
      "authorship_tag": "ABX9TyPzANuYpzyFjdsr9u9hN0mR",
      "include_colab_link": true
    },
    "kernelspec": {
      "name": "python3",
      "display_name": "Python 3"
    }
  },
  "cells": [
    {
      "cell_type": "markdown",
      "metadata": {
        "id": "view-in-github",
        "colab_type": "text"
      },
      "source": [
        "<a href=\"https://colab.research.google.com/github/GEAR-emprende/She-2nd-Ed-/blob/main/pandas%26Matplotlib.ipynb\" target=\"_parent\"><img src=\"https://colab.research.google.com/assets/colab-badge.svg\" alt=\"Open In Colab\"/></a>"
      ]
    },
    {
      "cell_type": "markdown",
      "metadata": {
        "id": "_BO7o0rK5-V6"
      },
      "source": [
        "<img src = 'https://drive.google.com/uc?id=1rbP-1s6p2Egd5u-K_CnTRHh9G-RZ-b0v'>"
      ]
    },
    {
      "cell_type": "code",
      "metadata": {
        "id": "FEhMlZkxgy-b"
      },
      "source": [
        "#imports\n",
        "import pandas as pd #Usualmente se utiliza esta notación"
      ],
      "execution_count": null,
      "outputs": []
    },
    {
      "cell_type": "markdown",
      "metadata": {
        "id": "NdmTtQGhsXLX"
      },
      "source": [
        "[https://pandas.pydata.org/](https://)"
      ]
    },
    {
      "cell_type": "markdown",
      "metadata": {
        "id": "cPc-AHvtsnTp"
      },
      "source": [
        "<img src = 'https://drive.google.com/uc?id=1zailTYl9TX0GD9dG7dEocJJvVvGqbAnB'>"
      ]
    },
    {
      "cell_type": "code",
      "metadata": {
        "id": "By2zZCH7sTQM"
      },
      "source": [
        "#Libreria para visualización \n",
        "import matplotlib \n",
        "import matplotlib.pyplot as plt"
      ],
      "execution_count": null,
      "outputs": []
    },
    {
      "cell_type": "markdown",
      "metadata": {
        "id": "g_49l7Fosj5y"
      },
      "source": [
        "[https://matplotlib.org/](https://)"
      ]
    },
    {
      "cell_type": "markdown",
      "metadata": {
        "id": "hDCx2F0bdhju"
      },
      "source": [
        "# **Cargar datos**"
      ]
    },
    {
      "cell_type": "code",
      "metadata": {
        "id": "PtdirMGIE8Yz"
      },
      "source": [
        "#datos = pd.read_csv('Ruta_del_archivo.csv')\n",
        "#datos = pd.read_excel('Ruta_del_archivo.csv')"
      ],
      "execution_count": null,
      "outputs": []
    },
    {
      "cell_type": "code",
      "metadata": {
        "id": "wBeDUH7Yeeei"
      },
      "source": [
        "from google.colab import files\n",
        "uploaded = files.upload()"
      ],
      "execution_count": null,
      "outputs": []
    },
    {
      "cell_type": "code",
      "metadata": {
        "id": "ZM6SPQw6dhIc"
      },
      "source": [
        "path = 'countries.csv'\n",
        "df = pd.read_csv(path)"
      ],
      "execution_count": null,
      "outputs": []
    },
    {
      "cell_type": "markdown",
      "metadata": {
        "id": "IJXrHSEqti_2"
      },
      "source": [
        "<img src = 'https://drive.google.com/uc?id=1iS67DX1Ex4-yoIsTlywQgppH3e0qXMaP'>"
      ]
    },
    {
      "cell_type": "markdown",
      "metadata": {
        "id": "iqiWQUR1tvFb"
      },
      "source": [
        "[https://www.kaggle.com/fernandol/countries-of-the-world](https://)"
      ]
    },
    {
      "cell_type": "code",
      "metadata": {
        "id": "eZ-GAOcAFvVJ"
      },
      "source": [
        "df.shape"
      ],
      "execution_count": null,
      "outputs": []
    },
    {
      "cell_type": "code",
      "metadata": {
        "id": "o6CfYi1KfAsU"
      },
      "source": [
        "df.columns"
      ],
      "execution_count": null,
      "outputs": []
    },
    {
      "cell_type": "code",
      "metadata": {
        "id": "GAm15RDafMU0"
      },
      "source": [
        "df.info()"
      ],
      "execution_count": null,
      "outputs": []
    },
    {
      "cell_type": "code",
      "metadata": {
        "id": "l8MtYzMHjnO6"
      },
      "source": [
        "df.describe()"
      ],
      "execution_count": null,
      "outputs": []
    },
    {
      "cell_type": "code",
      "metadata": {
        "id": "fHu97sQSfSR0"
      },
      "source": [
        "#Primeros 3 registros en el DataFrame\n",
        "df.head(3)"
      ],
      "execution_count": null,
      "outputs": []
    },
    {
      "cell_type": "code",
      "metadata": {
        "id": "0-pN3fE3ffXX"
      },
      "source": [
        "#Ultimos registros en el DataFrame\n",
        "df.tail()"
      ],
      "execution_count": null,
      "outputs": []
    },
    {
      "cell_type": "code",
      "metadata": {
        "id": "aDnX8TwEf-uJ"
      },
      "source": [
        "#Leer una columna en particular\n",
        "print (df[\"Country\"])"
      ],
      "execution_count": null,
      "outputs": []
    },
    {
      "cell_type": "code",
      "metadata": {
        "id": "9rD5shtFlWf1"
      },
      "source": [
        "print (df.Industry)"
      ],
      "execution_count": null,
      "outputs": []
    },
    {
      "cell_type": "code",
      "metadata": {
        "id": "i-YKM_FX5p6o"
      },
      "source": [
        "df = df.astype({'Industry': float})"
      ],
      "execution_count": null,
      "outputs": []
    },
    {
      "cell_type": "code",
      "metadata": {
        "id": "xxaJNtkh5-5l"
      },
      "source": [
        "df['Industry'] = df['Industry'].str.replace(',','.')"
      ],
      "execution_count": null,
      "outputs": []
    },
    {
      "cell_type": "code",
      "metadata": {
        "id": "3jFK02uw6GFz"
      },
      "source": [
        "print (df.Industry)"
      ],
      "execution_count": null,
      "outputs": []
    },
    {
      "cell_type": "code",
      "metadata": {
        "id": "dnIVtMFQ6ICM"
      },
      "source": [
        "df = df.astype({'Industry': float})\n",
        "print (df.Industry)"
      ],
      "execution_count": null,
      "outputs": []
    },
    {
      "cell_type": "code",
      "metadata": {
        "id": "LQDUa9iNgqLw"
      },
      "source": [
        "print (df[[\"Country\", \"Climate\"]])"
      ],
      "execution_count": null,
      "outputs": []
    },
    {
      "cell_type": "code",
      "metadata": {
        "id": "lqxwHVxmhHaO"
      },
      "source": [
        "print (df.iloc[20:26])"
      ],
      "execution_count": null,
      "outputs": []
    },
    {
      "cell_type": "code",
      "metadata": {
        "id": "KGhnm0rHNjGW"
      },
      "source": [
        "print (df.iloc[20:26, [0,14]])"
      ],
      "execution_count": null,
      "outputs": []
    },
    {
      "cell_type": "code",
      "metadata": {
        "id": "Lkka2jO8N5tJ"
      },
      "source": [
        "print (df.iloc[20:26, 0:3])"
      ],
      "execution_count": null,
      "outputs": []
    },
    {
      "cell_type": "code",
      "metadata": {
        "id": "l-HqcgMs6bRG"
      },
      "source": [
        "df['Region'] = df['Region'].str.replace('    ',' ')"
      ],
      "execution_count": null,
      "outputs": []
    },
    {
      "cell_type": "code",
      "metadata": {
        "id": "sCABvWRR6iAT"
      },
      "source": [
        "print (df.iloc[20:26, 0:3])"
      ],
      "execution_count": null,
      "outputs": []
    },
    {
      "cell_type": "code",
      "metadata": {
        "id": "47pAgw56hXBp"
      },
      "source": [
        "#Leer una posicion en especifico [Fila,Columna]\n",
        "print (df.iloc[20,0])"
      ],
      "execution_count": null,
      "outputs": []
    },
    {
      "cell_type": "code",
      "metadata": {
        "id": "QOudjvljhy-E"
      },
      "source": [
        "for index, row in df.iterrows():\n",
        "  print (index,row)"
      ],
      "execution_count": null,
      "outputs": []
    },
    {
      "cell_type": "code",
      "metadata": {
        "id": "SrI3DdxviHyE"
      },
      "source": [
        "for index, row in df.iterrows():\n",
        "  print (index,row[\"Country\"])"
      ],
      "execution_count": null,
      "outputs": []
    },
    {
      "cell_type": "markdown",
      "metadata": {
        "id": "ocH6HMghObNM"
      },
      "source": [
        "# ***Filtros***"
      ]
    },
    {
      "cell_type": "code",
      "metadata": {
        "id": "SFSsf_zMiTCm"
      },
      "source": [
        "df.loc[df['Climate'] == '2']"
      ],
      "execution_count": null,
      "outputs": []
    },
    {
      "cell_type": "code",
      "metadata": {
        "id": "AvoZRMFqRr0Q"
      },
      "source": [
        "df.groupby(['Climate']).Country.count()"
      ],
      "execution_count": null,
      "outputs": []
    },
    {
      "cell_type": "code",
      "metadata": {
        "id": "h2atlej9SbxK"
      },
      "source": [
        "df.groupby(['Region']).mean().sort_values('Population', ascending = True)"
      ],
      "execution_count": null,
      "outputs": []
    },
    {
      "cell_type": "code",
      "metadata": {
        "id": "7QhgZb57SrEk"
      },
      "source": [
        "#Añadir una columna nueva para identificar los países con \"Sobrepoblacion\"\n",
        "df.loc[df['Population'] > 900000, 'SobrePoblacion'] = True"
      ],
      "execution_count": null,
      "outputs": []
    },
    {
      "cell_type": "code",
      "metadata": {
        "id": "qzMDjvaI7ijt"
      },
      "source": [
        "print (df[['Country','Population','SobrePoblacion']])"
      ],
      "execution_count": null,
      "outputs": []
    },
    {
      "cell_type": "code",
      "metadata": {
        "id": "7L3cx8Oj74Et"
      },
      "source": [
        "df.loc[df['SobrePoblacion'] != True, 'SobrePoblacion'] = False"
      ],
      "execution_count": null,
      "outputs": []
    },
    {
      "cell_type": "code",
      "metadata": {
        "id": "n1pesgDx8D5w"
      },
      "source": [
        "print (df[['Country','Population','SobrePoblacion']])"
      ],
      "execution_count": null,
      "outputs": []
    },
    {
      "cell_type": "code",
      "metadata": {
        "id": "QGEuMGd48PzW"
      },
      "source": [
        "df.loc[df['SobrePoblacion'] == False]"
      ],
      "execution_count": null,
      "outputs": []
    },
    {
      "cell_type": "code",
      "metadata": {
        "id": "C_Fc9CfLeDw3"
      },
      "source": [
        "import re\n",
        "df.loc[df['Country'].str.contains(\"x[a-z]*\", flags = re.I, regex=True)]"
      ],
      "execution_count": null,
      "outputs": []
    },
    {
      "cell_type": "code",
      "metadata": {
        "id": "1M8yEN_081BA"
      },
      "source": [
        "df.loc[df['Country'].str.contains(\"[a-z]to\", flags = re.I, regex=True)]"
      ],
      "execution_count": null,
      "outputs": []
    },
    {
      "cell_type": "code",
      "metadata": {
        "id": "XaM8zDZx8hDK"
      },
      "source": [
        "df.loc[~df['Region'].str.contains(\"E\")]"
      ],
      "execution_count": null,
      "outputs": []
    },
    {
      "cell_type": "markdown",
      "metadata": {
        "id": "15gTeO7K-NRj"
      },
      "source": [
        "# **Preguntas de mis datos**"
      ]
    },
    {
      "cell_type": "code",
      "metadata": {
        "id": "oiscj9HZftfm"
      },
      "source": [
        "#¿Cual es el mayor número de GPD per capita?\n",
        "df['GDP ($ per capita)'].max()"
      ],
      "execution_count": null,
      "outputs": []
    },
    {
      "cell_type": "code",
      "metadata": {
        "id": "4EeHC4p3l0-A"
      },
      "source": [
        "#Total Habitantes \n",
        "df.Population.sum()"
      ],
      "execution_count": null,
      "outputs": []
    },
    {
      "cell_type": "code",
      "metadata": {
        "id": "TV2i7YB1l_R3"
      },
      "source": [
        "df['Population'].sum()"
      ],
      "execution_count": null,
      "outputs": []
    },
    {
      "cell_type": "code",
      "metadata": {
        "id": "XRC-KS_3-YMg"
      },
      "source": [
        "#¿Cual es el valor mínimo de habitantes?\n",
        "df['Population'].min()"
      ],
      "execution_count": null,
      "outputs": []
    },
    {
      "cell_type": "code",
      "metadata": {
        "id": "ewC3wV2O-gHz"
      },
      "source": [
        "print (df.loc[df['Population'] == df['Population'].min()])"
      ],
      "execution_count": null,
      "outputs": []
    },
    {
      "cell_type": "code",
      "metadata": {
        "id": "gPAJ2161_KN3"
      },
      "source": [
        "minimo = df['Population'].min()\n",
        "print (df.loc[df['Population'] == minimo])"
      ],
      "execution_count": null,
      "outputs": []
    },
    {
      "cell_type": "code",
      "metadata": {
        "id": "sG4JTzdU_ycw"
      },
      "source": [
        "#¿Cual es el valor promedio del indice de servicios?\n",
        "df['Services'].mean()"
      ],
      "execution_count": null,
      "outputs": []
    },
    {
      "cell_type": "code",
      "metadata": {
        "id": "D-btaHIg_6h_"
      },
      "source": [
        "df.columns"
      ],
      "execution_count": null,
      "outputs": []
    },
    {
      "cell_type": "code",
      "metadata": {
        "id": "5_LgNSyA__p8"
      },
      "source": [
        "df['Service'].mean()"
      ],
      "execution_count": null,
      "outputs": []
    },
    {
      "cell_type": "code",
      "metadata": {
        "id": "zbh_XSZk__2S"
      },
      "source": [
        "df.Service"
      ],
      "execution_count": null,
      "outputs": []
    },
    {
      "cell_type": "code",
      "metadata": {
        "id": "u0jMA99n__ze"
      },
      "source": [
        "df['Service'] = df['Service'].str.replace(',','.')\n",
        "df = df.astype({'Service': float})\n",
        "print (df['Service'].mean())"
      ],
      "execution_count": null,
      "outputs": []
    },
    {
      "cell_type": "code",
      "metadata": {
        "id": "AJgYA4dk__wd"
      },
      "source": [
        "#¿Qué países tienen un indice de servicios por arriba de la media?\n",
        "df[df['Service']>df['Service'].mean()]"
      ],
      "execution_count": null,
      "outputs": []
    },
    {
      "cell_type": "code",
      "metadata": {
        "id": "NNTWKZrQDHLY"
      },
      "source": [
        "#df.to_csv('nombre_archivo.csv')\n",
        "#df.to_csv('nombre_archivo.txt', index=False, sep='\\t')"
      ],
      "execution_count": null,
      "outputs": []
    },
    {
      "cell_type": "code",
      "metadata": {
        "id": "WMDmUohK__uV"
      },
      "source": [
        "#¿Que paises tienen la mayor diferencia entre los datos de natalidad y mortalidad?"
      ],
      "execution_count": null,
      "outputs": []
    },
    {
      "cell_type": "code",
      "metadata": {
        "id": "jaoCbAAfBLgK"
      },
      "source": [
        "#¿Que paises tienen los 5 mayores valores de Industria?"
      ],
      "execution_count": null,
      "outputs": []
    },
    {
      "cell_type": "code",
      "metadata": {
        "id": "dLHBEPhTBQ_r"
      },
      "source": [
        "#Añadir una columna en la que se indique si el promedio de Service+Industry+Agriculture sea mayor a la media de todos los paises"
      ],
      "execution_count": null,
      "outputs": []
    },
    {
      "cell_type": "markdown",
      "metadata": {
        "id": "HoJdkJObPQXx"
      },
      "source": [
        "# ***Matplotlib***"
      ]
    },
    {
      "cell_type": "code",
      "metadata": {
        "id": "dUK_cIbfzyjs"
      },
      "source": [
        "import matplotlib.pyplot as plt\n",
        "plt.plot([1,2,3,4])\n",
        "plt.ylabel('Gráfica Lineal')\n",
        "plt.show()"
      ],
      "execution_count": null,
      "outputs": []
    },
    {
      "cell_type": "code",
      "metadata": {
        "id": "kE8F7_LkX8fd"
      },
      "source": [
        "plt.plot([1,2,3,4], [1,4,9,16],'g+')\n",
        "plt.axis([0, 5, 0, 20])\n",
        "plt.show()"
      ],
      "execution_count": null,
      "outputs": []
    },
    {
      "cell_type": "code",
      "metadata": {
        "id": "2wrn_6iHYLFB"
      },
      "source": [
        "x = [1,2,3,4]\n",
        "y =  [1,4,9,16]\n",
        "plt.plot(x, y, linewidth=5, color = \"yellow\") #color='#44DE10')\n",
        "plt.show()"
      ],
      "execution_count": null,
      "outputs": []
    },
    {
      "cell_type": "code",
      "metadata": {
        "id": "uE_Gc6rNPs43"
      },
      "source": [
        "df.columns"
      ],
      "execution_count": null,
      "outputs": []
    },
    {
      "cell_type": "code",
      "metadata": {
        "id": "DxX60OZfPPgy"
      },
      "source": [
        "df.Industry.hist()"
      ],
      "execution_count": null,
      "outputs": []
    },
    {
      "cell_type": "code",
      "metadata": {
        "id": "cGA0KZmpByCx"
      },
      "source": [
        "plt.hist(df.Industry, color = \"#e9d01a\")\n",
        "plt.show()"
      ],
      "execution_count": null,
      "outputs": []
    },
    {
      "cell_type": "code",
      "metadata": {
        "id": "JExZsE3cPiKz"
      },
      "source": [
        "df['Climate'].hist()"
      ],
      "execution_count": null,
      "outputs": []
    },
    {
      "cell_type": "code",
      "metadata": {
        "id": "Z2-aiUmJP_yy"
      },
      "source": [
        "df.plot.scatter(x = \"Country\", y = \"Population\")"
      ],
      "execution_count": null,
      "outputs": []
    },
    {
      "cell_type": "code",
      "metadata": {
        "id": "DRneqd1qB88B"
      },
      "source": [
        "df.plot.scatter(x = \"Country\", y = \"Industry\")"
      ],
      "execution_count": null,
      "outputs": []
    },
    {
      "cell_type": "code",
      "metadata": {
        "id": "FzGghd75CDn-"
      },
      "source": [
        "df_temp = df.sort_values('Industry', ascending = False)\n",
        "mayorIndustria = df_temp[['Country','Industry']]\n",
        "print (mayorIndustria[:10])\n",
        "mI = mayorIndustria[:10]\n",
        "mI.plot.scatter(x = \"Country\", y = \"Industry\")\n",
        "plt.xticks(rotation=90)\n",
        "plt.show()"
      ],
      "execution_count": null,
      "outputs": []
    },
    {
      "cell_type": "code",
      "metadata": {
        "id": "GYblm0dNQHrT"
      },
      "source": [
        "df.plot.scatter(x=\"Country\", y = \"Region\")\n",
        "plt.xticks(rotation=90)\n",
        "plt.show()"
      ],
      "execution_count": null,
      "outputs": []
    },
    {
      "cell_type": "code",
      "metadata": {
        "id": "gm0GrqnMQXDu"
      },
      "source": [
        "df_temp = df[df['Population']>50000000]\n",
        "print (df_temp.shape)\n",
        "print (df_temp)"
      ],
      "execution_count": null,
      "outputs": []
    },
    {
      "cell_type": "code",
      "metadata": {
        "id": "WUgpCIgWQumG"
      },
      "source": [
        "plt.figure(figsize=(8,5))\n",
        "df_temp.plot.scatter(x = \"Country\", y = \"Region\")\n",
        "plt.xticks(rotation=90)\n",
        "plt.show()"
      ],
      "execution_count": null,
      "outputs": []
    },
    {
      "cell_type": "code",
      "metadata": {
        "id": "cLOpcCbnb6s1"
      },
      "source": [
        "plt.figure(figsize=(8,5))\n",
        "df_temp = df.sort_values('Population', ascending = False)\n",
        "#print (df_temp)\n",
        "poblacion = df_temp.Population[0:15]\n",
        "paises = df_temp.Country[0:15]\n",
        "plt.plot(paises, poblacion, '#456599', label = \"Population\")\n",
        "plt.xticks(rotation=45)\n",
        "plt.legend()\n",
        "plt.show()"
      ],
      "execution_count": null,
      "outputs": []
    },
    {
      "cell_type": "code",
      "metadata": {
        "id": "_WfGygFkjtNv"
      },
      "source": [
        "plt.plot(paises, poblacion, '#456599', label = \"Population\", linewidth =3, marker = \"*\", markeredgecolor=\"yellow\")\n",
        "plt.xticks(rotation=45)\n",
        "plt.legend()\n",
        "#plt.save_fig(\"prueba\", dpi=300)\n",
        "plt.show()"
      ],
      "execution_count": null,
      "outputs": []
    },
    {
      "cell_type": "code",
      "metadata": {
        "id": "6VUr-RskFLEX"
      },
      "source": [
        "plt.figure(figsize=(8,5))\n",
        "plt.title(\"Indice de Servicios e Industria\")\n",
        "plt.plot(df.Country.iloc[50:75], df.Service.iloc[50:75], 'r--', label = 'Service')\n",
        "plt.plot(df.Country.iloc[50:75], df.Industry.iloc[50:75], 'g.-', label = 'Industry')\n",
        "plt.xticks(rotation=45)\n",
        "plt.legend()\n",
        "plt.show()"
      ],
      "execution_count": null,
      "outputs": []
    },
    {
      "cell_type": "code",
      "metadata": {
        "id": "QO1uKbDXxJnK"
      },
      "source": [
        "plt.figure(figsize=(16,8))\n",
        "plt.subplot(121)\n",
        "plt.plot(df.Country.iloc[50:75], df.Service.iloc[50:75], 'b', label = 'Service')\n",
        "plt.legend()\n",
        "plt.xticks(rotation=45)\n",
        "plt.subplot(122)\n",
        "plt.plot(df.Country.iloc[50:75], df.Industry.iloc[50:75], 'y', label = 'Industry')\n",
        "plt.legend()\n",
        "plt.xticks(rotation=45)\n",
        "plt.show()"
      ],
      "execution_count": null,
      "outputs": []
    },
    {
      "cell_type": "code",
      "metadata": {
        "id": "7_Fi-AjmyJSW"
      },
      "source": [
        "plt.figure(figsize=(8,5))\n",
        "plt.subplots_adjust(hspace = 0.8)\n",
        "df_temp = df.sort_values('Population', ascending = False)\n",
        "poblacion = df_temp.Population[0:15]\n",
        "paises = df_temp.Country[0:15]\n",
        "plt.subplot(211)\n",
        "plt.plot(paises, poblacion, '#456599', label = \"Population\")\n",
        "plt.xticks(rotation=45)\n",
        "plt.subplot(212)\n",
        "df_temp = df.sort_values('Population', ascending = True)\n",
        "poblacion = df_temp.Population[0:15]\n",
        "paises = df_temp.Country[0:15]\n",
        "plt.plot(paises, poblacion, '#ab6599', label = \"Population\")\n",
        "plt.xticks(rotation=45)\n",
        "plt.show()"
      ],
      "execution_count": null,
      "outputs": []
    },
    {
      "cell_type": "code",
      "metadata": {
        "id": "XpzewX33RBc3"
      },
      "source": [
        "from collections import Counter\n",
        "x = df.Region\n",
        "# Utilizamos la clase \"Counter\" para crear un diccionario con las regiones y su frecuencia en los datos\n",
        "country_counts = Counter(x)\n",
        "print (country_counts)\n",
        "df_paises = pd.DataFrame.from_dict(country_counts, orient='index')\n",
        "#print (df_paises)\n",
        "print (df_paises.shape)\n",
        "df_paises = df_paises[0].sort_values(ascending = True)[0:12]\n",
        "df_paises.plot(kind='bar')\n",
        "plt.xlabel('Regiones')\n",
        "plt.ylabel('Cantidad de países por región')\n",
        "plt.title('Distribución de Países por Regiones')\n",
        "# show the plot\n",
        "plt.show()"
      ],
      "execution_count": null,
      "outputs": []
    },
    {
      "cell_type": "code",
      "metadata": {
        "id": "sA989XmLEfHi"
      },
      "source": [
        "#grafica de pastel\n",
        "climas = df.groupby('Climate').sum()\n",
        "print (climas)"
      ],
      "execution_count": null,
      "outputs": []
    },
    {
      "cell_type": "code",
      "metadata": {
        "id": "-ha6tg75I2XG"
      },
      "source": [
        "uno = df.loc[df['Climate'] == '1'].count()[0]\n",
        "uno_cinco = df.loc[df['Climate'] == '1,5'].count()[0]\n",
        "dos = df.loc[df['Climate'] == '2'].count()[0]\n",
        "dos_cinco = df.loc[df['Climate'] == '2,5'].count()[0]\n",
        "tres = df.loc[df['Climate'] == '3'].count()[0]\n",
        "cuatro = df.loc[df['Climate'] == '4'].count()[0]"
      ],
      "execution_count": null,
      "outputs": []
    },
    {
      "cell_type": "code",
      "metadata": {
        "id": "yY8bGOj2I4RY"
      },
      "source": [
        "print (uno, uno_cinco, dos, dos_cinco, tres, cuatro)\n",
        "print(df[df['Climate'] == '1,5'])"
      ],
      "execution_count": null,
      "outputs": []
    },
    {
      "cell_type": "code",
      "metadata": {
        "id": "BWf29_ZqJPOW"
      },
      "source": [
        "plt.pie([uno, uno_cinco, dos, dos_cinco, tres, cuatro])\n",
        "plt.show()"
      ],
      "execution_count": null,
      "outputs": []
    },
    {
      "cell_type": "code",
      "metadata": {
        "id": "Xea-M5BzJmO7"
      },
      "source": [
        "labels = [\"1\", \"1.5\", \"2\", \"2.5\", \"3\", \"4\"]\n",
        "colors = [\"red\", \"green\", \"yellow\", \"blue\", \"gray\", \"orange\"]\n",
        "#colors = [\"#554213\", \"#a21231\", \"#b98756\", \"#23498f\", \"#002123\", \"#76fabc\"]\n",
        "plt.pie([uno, uno_cinco, dos, dos_cinco, tres, cuatro], labels = labels, colors = colors)\n",
        "plt.show()"
      ],
      "execution_count": null,
      "outputs": []
    },
    {
      "cell_type": "code",
      "metadata": {
        "id": "rCzLdaqTKSAU"
      },
      "source": [
        "labels = [\"1\", \"1.5\", \"2\", \"2.5\", \"3\", \"4\"]\n",
        "colors = [\"red\", \"green\", \"yellow\", \"blue\", \"gray\", \"orange\"]\n",
        "#colors = [\"#554213\", \"#a21231\", \"#b98756\", \"#23498f\", \"#002123\", \"#76fabc\"]\n",
        "plt.title(\"Distribucion de los tipos de climas\")\n",
        "plt.pie([uno, uno_cinco, dos, dos_cinco, tres, cuatro], labels = labels, colors = colors, autopct='%.2f %%')\n",
        "plt.show()"
      ],
      "execution_count": null,
      "outputs": []
    },
    {
      "cell_type": "code",
      "metadata": {
        "id": "A-5ktEwKK1iJ"
      },
      "source": [
        "labels = [\"1\", \"1.5\", \"2\", \"2.5\", \"3\", \"4\"]\n",
        "colors = [\"red\", \"green\", \"yellow\", \"blue\", \"gray\", \"orange\"]\n",
        "#colors = [\"#454213\", \"#121231\", \"#898756\", \"#23498f\", \"#002123\"]\n",
        "plt.title(\"Distribucion de los tipos de climas\")\n",
        "explode = (0.1,0.1,0.1,0.1,0.1,0.1)\n",
        "#explode = (0.1,0.1,0.6,0.1,0.1,0.1)\n",
        "plt.pie([uno, uno_cinco, dos, dos_cinco, tres, cuatro], labels = labels, colors = colors, autopct='%.2f %%', pctdistance=0.8, explode = explode)\n",
        "plt.show()"
      ],
      "execution_count": null,
      "outputs": []
    },
    {
      "cell_type": "code",
      "metadata": {
        "id": "fHSdT3GcEOJi"
      },
      "source": [
        "#Boxplot\n",
        "df['Agriculture'] = df['Agriculture'].str.replace(',','.')\n",
        "df = df.astype({'Agriculture': float})\n",
        "boxplot = df.boxplot(column=['Industry', 'Service', 'Agriculture'], grid=False, vert=False, fontsize=12, medianprops=dict(color='red', linewidth=2))\n",
        "plt.show()"
      ],
      "execution_count": null,
      "outputs": []
    },
    {
      "cell_type": "code",
      "metadata": {
        "id": "i0nvXxo_EZKL"
      },
      "source": [
        "#Boxplot\n",
        "boxplot = df.boxplot(column=['Industry', 'Service', 'Agriculture'], grid=False, fontsize=12, medianprops=dict(color='red', linewidth=2))\n",
        "plt.show()"
      ],
      "execution_count": null,
      "outputs": []
    },
    {
      "cell_type": "code",
      "metadata": {
        "id": "6CKVfleyZmNg"
      },
      "source": [
        "import numpy as np\n",
        "def f(t):\n",
        "  return np.exp(-t) * np.cos(2*np.pi*t+3)\n",
        "t1 = np.arange(0.0, 5.0, 0.1)\n",
        "t2 = np.arange(0.0, 5.0, 0.02)\n",
        "plt.figure(1)\n",
        "plt.subplot(211)\n",
        "plt.plot(t1, f(t1),'bo', t2, f(t2),'k')\n",
        "plt.subplot(212)\n",
        "plt.plot(t2, np.cos(2*np.pi*t2),'r--')\n",
        "plt.show()"
      ],
      "execution_count": null,
      "outputs": []
    },
    {
      "cell_type": "markdown",
      "metadata": {
        "id": "juUzbW6tQ8jD"
      },
      "source": [
        "# **Creacion de un dataframe**"
      ]
    },
    {
      "cell_type": "code",
      "metadata": {
        "id": "oA2ku3fhjPCd"
      },
      "source": [
        "ciudades = ['Leon','Guanajuato','Silao','Celaya','Salamanca', \"San Miguel de Allende\"]\n",
        "cantidadHabitantes = [968, 155, 77, 578, 973, 99]\n",
        "temperaturaMinima = [12,8,6,6,8,5]"
      ],
      "execution_count": null,
      "outputs": []
    },
    {
      "cell_type": "code",
      "metadata": {
        "id": "hntb2p_Fb3KY"
      },
      "source": [
        "datosGuanajuato = list(zip(ciudades,cantidadHabitantes,temperaturaMinima))\n",
        "datosGuanajuato"
      ],
      "execution_count": null,
      "outputs": []
    },
    {
      "cell_type": "code",
      "metadata": {
        "id": "X5Xm7x8jcLup"
      },
      "source": [
        "df_guanajuato = pd.DataFrame(data = datosGuanajuato, columns=['Ciudad', 'Habitantes','TempMinima'])\n",
        "df_guanajuato"
      ],
      "execution_count": null,
      "outputs": []
    },
    {
      "cell_type": "code",
      "metadata": {
        "id": "1OV3nu-p75Bz"
      },
      "source": [
        "df_sub = df_guanajuato[['Ciudad', 'TempMinima']]\n",
        "print (df_sub)"
      ],
      "execution_count": null,
      "outputs": []
    }
  ]
}