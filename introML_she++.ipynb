{
  "nbformat": 4,
  "nbformat_minor": 0,
  "metadata": {
    "colab": {
      "name": "introML_she++.ipynb",
      "provenance": [],
      "authorship_tag": "ABX9TyP+SwWD3VkoNwud8crK7oBV",
      "include_colab_link": true
    },
    "kernelspec": {
      "name": "python3",
      "display_name": "Python 3"
    }
  },
  "cells": [
    {
      "cell_type": "markdown",
      "metadata": {
        "id": "view-in-github",
        "colab_type": "text"
      },
      "source": [
        "<a href=\"https://colab.research.google.com/github/GEAR-emprende/She-2nd-Ed-/blob/main/introML_she%2B%2B.ipynb\" target=\"_parent\"><img src=\"https://colab.research.google.com/assets/colab-badge.svg\" alt=\"Open In Colab\"/></a>"
      ]
    },
    {
      "cell_type": "markdown",
      "metadata": {
        "id": "HOzaQkmA3lOK"
      },
      "source": [
        "# Introducción al Aprendizaje Automático"
      ]
    },
    {
      "cell_type": "markdown",
      "metadata": {
        "id": "74wS122X3wWm"
      },
      "source": [
        "<img src = 'https://drive.google.com/uc?id=1y8F0XOKGE8UUbRbFtZPypzDdxDegzXLo'>"
      ]
    },
    {
      "cell_type": "markdown",
      "metadata": {
        "id": "KhnK_CCvMrFa"
      },
      "source": [
        "#  [**scikit-learn**](https://scikit-learn.org/stable/)"
      ]
    },
    {
      "cell_type": "code",
      "metadata": {
        "id": "HE9edpPI0N74"
      },
      "source": [
        "import sklearn"
      ],
      "execution_count": null,
      "outputs": []
    },
    {
      "cell_type": "code",
      "metadata": {
        "id": "H3qXBoLB5V8v"
      },
      "source": [
        "from sklearn.datasets import load_iris\n",
        "dataIris = load_iris()\n",
        "print(dataIris.data.shape)"
      ],
      "execution_count": null,
      "outputs": []
    },
    {
      "cell_type": "markdown",
      "metadata": {
        "id": "RA0E3v3k5hMg"
      },
      "source": [
        "<img src = 'https://drive.google.com/uc?id=10F5Cj8lcoBw46vJJ-QlP37ecHBUzdW4_'>"
      ]
    },
    {
      "cell_type": "code",
      "metadata": {
        "id": "kqXETGqm2cJi"
      },
      "source": [
        "#Para generar una gráfica de la base de datos IrisPlant\n",
        "from matplotlib import pyplot as plt\n",
        "# Indices que vamos a graficar\n",
        "x_index = 0\n",
        "y_index = 3\n",
        "formatter = plt.FuncFormatter(lambda i, *args: dataIris.target_names[int(i)])\n",
        "plt.figure(figsize=(5, 4))\n",
        "plt.scatter(dataIris.data[:, x_index], dataIris.data[:, y_index], c=dataIris.target)\n",
        "plt.colorbar(ticks=[0, 1, 2, 2], format=formatter)\n",
        "plt.xlabel(dataIris.feature_names[x_index])\n",
        "plt.ylabel(dataIris.feature_names[y_index])\n",
        "plt.tight_layout()\n",
        "plt.show()"
      ],
      "execution_count": null,
      "outputs": []
    },
    {
      "cell_type": "code",
      "metadata": {
        "id": "UH_KdaWx1DjQ"
      },
      "source": [
        "from sklearn.datasets import load_digits\n",
        "dataDigits = load_digits()\n",
        "print(dataDigits.data.shape)"
      ],
      "execution_count": null,
      "outputs": []
    },
    {
      "cell_type": "markdown",
      "metadata": {
        "id": "yb2xwQG068oR"
      },
      "source": [
        "<img src = 'https://drive.google.com/uc?id=1IPDPol36X9bwOHleUH_twPiaWl1y2hXL'>"
      ]
    },
    {
      "cell_type": "code",
      "metadata": {
        "id": "YAsLEqWV6TL5"
      },
      "source": [
        "print (dataDigits.target_names)"
      ],
      "execution_count": null,
      "outputs": []
    },
    {
      "cell_type": "code",
      "metadata": {
        "id": "MQ1rXtTX4kkp"
      },
      "source": [
        "print (dataDigits.images[0])\n",
        "import matplotlib.pyplot as plt \n",
        "plt.gray()\n",
        "plt.matshow(dataDigits.images[15]) \n",
        "plt.show() "
      ],
      "execution_count": null,
      "outputs": []
    },
    {
      "cell_type": "markdown",
      "metadata": {
        "id": "OfZj9o2j7KmO"
      },
      "source": [
        "\n",
        "\n",
        "---\n",
        "\n",
        "\n",
        "\n",
        "---\n",
        "\n"
      ]
    },
    {
      "cell_type": "markdown",
      "metadata": {
        "id": "k2v5Sswd3ims"
      },
      "source": [
        "# Diseño del experimento"
      ]
    },
    {
      "cell_type": "code",
      "metadata": {
        "id": "HHl1NjMo07qi"
      },
      "source": [
        "#Cargar la base de datos Iris-plant\n",
        "print (dataIris.feature_names)\n",
        "print (dataIris.target_names)"
      ],
      "execution_count": null,
      "outputs": []
    },
    {
      "cell_type": "markdown",
      "metadata": {
        "id": "IicyGLxol63Q"
      },
      "source": [
        "<img src = 'https://drive.google.com/uc?id=1klCFKWTkGY_4WpMbl4jAEh6XlBU0qA50'>"
      ]
    },
    {
      "cell_type": "code",
      "metadata": {
        "id": "4v4jGVXJ2oJv"
      },
      "source": [
        "#Dividir mis datos para entrenamiento y prueba\n",
        "from sklearn.model_selection import train_test_split\n",
        "dataset = dataDigits\n",
        "#caracteristicas\n",
        "X = dataset.data\n",
        "#print (X[0])\n",
        "#clases\n",
        "y = dataset.target\n",
        "#print (y)\n",
        "X_train, X_test, y_train, y_test = train_test_split(X, y, test_size=0.3)\n",
        "print(y_train.shape)\n",
        "print(y_test.shape)"
      ],
      "execution_count": null,
      "outputs": []
    },
    {
      "cell_type": "markdown",
      "metadata": {
        "id": "9MafS6TX37y7"
      },
      "source": [
        "# **Clasificación con Vecinos más cercanos**"
      ]
    },
    {
      "cell_type": "markdown",
      "metadata": {
        "id": "B63x2bmAorAS"
      },
      "source": [
        "<img src = 'https://drive.google.com/uc?id=1QeKJfLE8Qm6982uJnSOmsbvB15P07CyD' width=\"300\" height=\"250\">"
      ]
    },
    {
      "cell_type": "code",
      "metadata": {
        "id": "oUShI0LU4BGs"
      },
      "source": [
        "from sklearn.neighbors import KNeighborsClassifier\n",
        "from sklearn import metrics\n",
        "from sklearn.metrics import accuracy_score"
      ],
      "execution_count": null,
      "outputs": []
    },
    {
      "cell_type": "code",
      "metadata": {
        "id": "tOOJR9WU3BDN"
      },
      "source": [
        "#Creamos un clasificador de tipo KNN\n",
        "knn = KNeighborsClassifier(n_neighbors=1)\n",
        "\n",
        "#Entrenar el modelo\n",
        "knn.fit(X_train,y_train)\n",
        "\n",
        "#Clasificamos las instancias de test utilizando el modelo que entrenamos\n",
        "y_pred=knn.predict(X_test)"
      ],
      "execution_count": null,
      "outputs": []
    },
    {
      "cell_type": "code",
      "metadata": {
        "id": "B45g5z5V30nh"
      },
      "source": [
        "#Evaluaremos el modelo utilizando la metrica \"Accuracy\"\n",
        "print (y_test[150:175])\n",
        "print (y_pred[150:175])\n",
        "accuracy_knn = metrics.accuracy_score(y_test,y_pred)\n",
        "print (accuracy_knn)"
      ],
      "execution_count": null,
      "outputs": []
    },
    {
      "cell_type": "markdown",
      "metadata": {
        "id": "b00htArWmja0"
      },
      "source": [
        "<img src = 'https://drive.google.com/uc?id=1wSOWkDDittSWxHNM3vr2PZpcNhP7RCKw' width=\"300\" height=\"250\">"
      ]
    },
    {
      "cell_type": "code",
      "metadata": {
        "id": "3zgHECrjduVw"
      },
      "source": [
        "from sklearn.metrics import confusion_matrix\n",
        "confusion_matrix(y_test, y_pred, labels=dataset.target_names)"
      ],
      "execution_count": null,
      "outputs": []
    },
    {
      "cell_type": "code",
      "metadata": {
        "id": "7r5NKi8JbhuE"
      },
      "source": [
        "#Reporte de resultados\n",
        "print(metrics.classification_report(y_test, y_pred))"
      ],
      "execution_count": null,
      "outputs": []
    },
    {
      "cell_type": "code",
      "metadata": {
        "id": "CDxkQSA_3-1y"
      },
      "source": [
        "scores = {}\n",
        "scores_list = []\n",
        "for k in range(1,10,2):\n",
        "        knn = KNeighborsClassifier(n_neighbors=k)\n",
        "        knn.fit(X_train,y_train)\n",
        "        y_pred=knn.predict(X_test)\n",
        "        scores[k] = metrics.accuracy_score(y_test,y_pred)\n",
        "        scores_list.append(metrics.accuracy_score(y_test,y_pred))\n",
        "accuracy_knn = metrics.accuracy_score(y_test,y_pred)\n",
        "print (scores)"
      ],
      "execution_count": null,
      "outputs": []
    },
    {
      "cell_type": "markdown",
      "metadata": {
        "id": "yU984b5QTthZ"
      },
      "source": [
        "# Clasificador Bayes"
      ]
    },
    {
      "cell_type": "markdown",
      "metadata": {
        "id": "547zKKlJrAOP"
      },
      "source": [
        "<img src = 'https://drive.google.com/uc?id=1bqQ_xdooZIV0-R82U18bfGFL8kWm4PSf' width=\"300\" height=\"250\">"
      ]
    },
    {
      "cell_type": "code",
      "metadata": {
        "id": "iAdtbFlRTs_y"
      },
      "source": [
        "from sklearn.naive_bayes import GaussianNB\n",
        "bayes = GaussianNB()\n",
        "bayes.fit(X_train,y_train)\n",
        "y_pred=bayes.predict(X_test)\n",
        "accuracy_bayes = metrics.accuracy_score(y_test,y_pred)\n",
        "print (accuracy_bayes)"
      ],
      "execution_count": null,
      "outputs": []
    },
    {
      "cell_type": "markdown",
      "metadata": {
        "id": "S5PUng5qTzSn"
      },
      "source": [
        "# Clasificador DT"
      ]
    },
    {
      "cell_type": "markdown",
      "metadata": {
        "id": "fMcbaHIRphwg"
      },
      "source": [
        "<img src = 'https://drive.google.com/uc?id=1ZCka024gJeMZwSUvDHhszlSQ6RGaVVKs' width=\"300\" height=\"250\">"
      ]
    },
    {
      "cell_type": "code",
      "metadata": {
        "id": "pDJsJ8BWTyzG"
      },
      "source": [
        "from sklearn.tree import DecisionTreeClassifier\n",
        "\n",
        "dt = DecisionTreeClassifier()\n",
        "dt.fit(X_train,y_train)\n",
        "y_pred = dt.predict(X_test)\n",
        "accuracy_dt = metrics.accuracy_score(y_test,y_pred)\n",
        "print (accuracy_dt)"
      ],
      "execution_count": null,
      "outputs": []
    },
    {
      "cell_type": "markdown",
      "metadata": {
        "id": "m-T1N9KBT2cL"
      },
      "source": [
        "# Clasificador SVM"
      ]
    },
    {
      "cell_type": "markdown",
      "metadata": {
        "id": "lYaCbkXGr8pL"
      },
      "source": [
        "<img src = 'https://drive.google.com/uc?id=1JbHgcTvyA_tFjY9lJce9EnBtnog4OTDm' width=\"280\" height=\"220\">"
      ]
    },
    {
      "cell_type": "code",
      "metadata": {
        "id": "bHqRo1ycT5BZ"
      },
      "source": [
        "from sklearn import svm\n",
        "SVM = svm.SVC()\n",
        "SVM.fit(X_train,y_train)\n",
        "y_pred = SVM.predict(X_test)\n",
        "accuracy_SVM = metrics.accuracy_score(y_test,y_pred)\n",
        "print (accuracy_SVM)"
      ],
      "execution_count": null,
      "outputs": []
    },
    {
      "cell_type": "markdown",
      "metadata": {
        "id": "tEc_JQjLlwfc"
      },
      "source": [
        "<img src = 'https://drive.google.com/uc?id=1uG2kmIyWEjsV4kytoclyKaAzHGGhgfwd' width=\"320\" height=\"220\">"
      ]
    },
    {
      "cell_type": "code",
      "metadata": {
        "id": "-kV3Z6QYp5Hq"
      },
      "source": [
        "from sklearn.model_selection import cross_validate\n",
        "clf = svm.SVC() \n",
        "scores = cross_validate(clf, X, y, cv=10, scoring = 'accuracy')\n",
        "sorted(scores.keys())\n",
        "print (\"Accuracy = \" + str(scores['test_score'].mean()))"
      ],
      "execution_count": null,
      "outputs": []
    },
    {
      "cell_type": "markdown",
      "metadata": {
        "id": "FswXLkW-p2Yv"
      },
      "source": [
        "\n",
        "\n",
        "---\n",
        "\n",
        "\n",
        "\n",
        "---\n",
        "\n"
      ]
    },
    {
      "cell_type": "markdown",
      "metadata": {
        "id": "Mm7UwULKT7Mh"
      },
      "source": [
        "# Clasificación de Imágenes"
      ]
    },
    {
      "cell_type": "code",
      "metadata": {
        "id": "M_0NTx9jT6ng"
      },
      "source": [
        "import matplotlib.pyplot as plt\n",
        "from sklearn.datasets import fetch_olivetti_faces\n",
        "\n",
        "caras = fetch_olivetti_faces() \n",
        "print(\"Total:\", caras.target.shape)\n",
        "clases = caras.target \n",
        "#print (clases)"
      ],
      "execution_count": null,
      "outputs": []
    },
    {
      "cell_type": "code",
      "metadata": {
        "id": "lAfLcaXrWAq0"
      },
      "source": [
        "imagenes = caras.images \n",
        "index = 120\n",
        "plt.imshow(imagenes[index], cmap =\"gray\")\n",
        "print (\"Clase: \" + str(clases[index]))"
      ],
      "execution_count": null,
      "outputs": []
    },
    {
      "cell_type": "code",
      "metadata": {
        "id": "NuuecmBMcRtp"
      },
      "source": [
        "fig = plt.figure(figsize=(15,10)) \n",
        "n = 0\n",
        "import random\n",
        "randomlist = []\n",
        "for i in range(20):\n",
        "  num = random.randint(0,400)\n",
        "  randomlist.append(num)\n",
        "print(randomlist)\n",
        "\n",
        "for i in randomlist: \n",
        "    # subplot : 4 filas y 5 columnas\n",
        "    img_grid = fig.add_subplot(4, 5, n+1)\n",
        "    img_grid.imshow(imagenes[i], cmap = \"gray\")\n",
        "    n = n + 1  \n",
        "plt.show()"
      ],
      "execution_count": null,
      "outputs": []
    },
    {
      "cell_type": "code",
      "metadata": {
        "id": "GLOn_FL0eCs_"
      },
      "source": [
        "caracteristicas = caras.data\n",
        "print (caracteristicas.shape)\n",
        "print (caracteristicas[100])"
      ],
      "execution_count": null,
      "outputs": []
    },
    {
      "cell_type": "code",
      "metadata": {
        "id": "zrnPDvp3enx-"
      },
      "source": [
        "X = caras.data\n",
        "y = caras.target\n",
        "X_train, X_test, y_train, y_test = train_test_split(X, y, test_size=0.2)\n",
        "print(y_train.shape)\n",
        "print(y_test.shape)"
      ],
      "execution_count": null,
      "outputs": []
    },
    {
      "cell_type": "code",
      "metadata": {
        "id": "q4I0z1PqfelN"
      },
      "source": [
        "import numpy as np"
      ],
      "execution_count": null,
      "outputs": []
    },
    {
      "cell_type": "code",
      "metadata": {
        "id": "TpfutimgfnkM"
      },
      "source": [
        "clasificadores = []\n",
        "clasificadores.append(('NB', GaussianNB()))\n",
        "clasificadores.append(('SVM', svm.SVC()))\n",
        "clasificadores.append(('DT', DecisionTreeClassifier()))\n",
        "clasificadores.append(('KNN-3', KNeighborsClassifier(n_neighbors=3)))\n",
        "clasificadores.append(('KNN-5', KNeighborsClassifier(n_neighbors=5)))\n",
        "clasificadores.append(('KNN-7', KNeighborsClassifier(n_neighbors=7)))"
      ],
      "execution_count": null,
      "outputs": []
    },
    {
      "cell_type": "code",
      "metadata": {
        "id": "DROqOiqOffq_"
      },
      "source": [
        "accuracies = []\n",
        "for nomClas, clasificador in clasificadores:\n",
        "    print (\"------\")\n",
        "    print (nomClas)\n",
        "    clasificador.fit(X_train, y_train)\n",
        "    predicciones = clasificador.predict(X_test)\n",
        "    accuracy = accuracy_score(y_test, predicciones)\n",
        "    print (accuracy)\n",
        "    accuracies.append(accuracy)"
      ],
      "execution_count": null,
      "outputs": []
    },
    {
      "cell_type": "code",
      "metadata": {
        "id": "3fLRuAgkhN-S"
      },
      "source": [
        "plt.plot(['BAYES', 'SVM','DT','KNN-3','KNN-5','KNN-7'],accuracies, 'g*-')\n",
        "plt.ylabel('Accuracy')\n",
        "plt.show()"
      ],
      "execution_count": null,
      "outputs": []
    },
    {
      "cell_type": "code",
      "metadata": {
        "id": "3nmQJLLghGXi"
      },
      "source": [
        "plt.rcdefaults()\n",
        "fig, ax = plt.subplots()\n",
        "\n",
        "clasif = ['BAYES', 'SVM','DT','KNN-3','KNN-5','KNN-7']\n",
        "y_pos = np.arange(len(clasif))\n",
        "\n",
        "ax.barh(y_pos, accuracies, align='center')\n",
        "ax.set_xlabel('Accuracy')\n",
        "ax.set_yticks(y_pos)\n",
        "ax.set_yticklabels(clasif) \n",
        "\n",
        "plt.show()"
      ],
      "execution_count": null,
      "outputs": []
    },
    {
      "cell_type": "markdown",
      "metadata": {
        "id": "oV-YHIUvUCu7"
      },
      "source": [
        "# Clasificación de Textos"
      ]
    },
    {
      "cell_type": "code",
      "metadata": {
        "id": "ClhnECc1UCAF"
      },
      "source": [
        "from sklearn.datasets import fetch_20newsgroups\n",
        "\n",
        "textos = fetch_20newsgroups()\n",
        "print (textos.target.shape)\n",
        "print (textos.target_names)"
      ],
      "execution_count": null,
      "outputs": []
    },
    {
      "cell_type": "code",
      "metadata": {
        "id": "qrKEXCj9CRoI"
      },
      "source": [
        "subconjunto_clases = ['comp.sys.mac.hardware', 'sci.med', 'misc.forsale', 'rec.autos']\n",
        "subNews = fetch_20newsgroups(categories=subconjunto_clases, shuffle=True)\n",
        "print (subNews.target.shape)\n",
        "print (subNews.target_names)"
      ],
      "execution_count": null,
      "outputs": []
    },
    {
      "cell_type": "code",
      "metadata": {
        "id": "Hwe2-lHJDEIq"
      },
      "source": [
        "print (subNews.data[5])"
      ],
      "execution_count": null,
      "outputs": []
    },
    {
      "cell_type": "markdown",
      "metadata": {
        "id": "YO7VzhicoMdY"
      },
      "source": [
        "<img src = 'https://drive.google.com/uc?id=1qIuBHhBmqhGDDu41zeKbCroTcalgs-SP' width=\"320\" height=\"220\">"
      ]
    },
    {
      "cell_type": "code",
      "metadata": {
        "id": "e6j8rsdfDoZn"
      },
      "source": [
        "#Bolsa de palabras\n",
        "from sklearn.feature_extraction.text import CountVectorizer\n",
        "count_vect = CountVectorizer()\n",
        "subNews_counts = count_vect.fit_transform(subNews.data)\n",
        "print (subNews_counts.shape)"
      ],
      "execution_count": null,
      "outputs": []
    },
    {
      "cell_type": "code",
      "metadata": {
        "id": "CgSu7jy-EL33"
      },
      "source": [
        "print (count_vect.vocabulary_)"
      ],
      "execution_count": null,
      "outputs": []
    },
    {
      "cell_type": "code",
      "metadata": {
        "id": "GaaxG3gREp9T"
      },
      "source": [
        "print (count_vect.vocabulary_.get(\"women\"))"
      ],
      "execution_count": null,
      "outputs": []
    },
    {
      "cell_type": "code",
      "metadata": {
        "id": "HYWED6U6FuBR"
      },
      "source": [
        "from sklearn.feature_extraction.text import CountVectorizer\n",
        "count_vect = CountVectorizer(binary = True, min_df = 1000)\n",
        "subNews_counts = count_vect.fit_transform(subNews.data)\n",
        "print (subNews_counts.shape)"
      ],
      "execution_count": null,
      "outputs": []
    },
    {
      "cell_type": "code",
      "metadata": {
        "id": "CCNpQJCCGnYt"
      },
      "source": [
        "X = subNews.data\n",
        "y = subNews.target\n",
        "X_train, X_test, y_train, y_test = train_test_split(X, y, test_size=0.2)\n",
        "print(y_train.shape)\n",
        "print(y_test.shape)"
      ],
      "execution_count": null,
      "outputs": []
    },
    {
      "cell_type": "code",
      "metadata": {
        "id": "-_uCdNIvGNnW"
      },
      "source": [
        "count_vect_binario = CountVectorizer(binary = True)\n",
        "count_vect_frecuencias = CountVectorizer()\n",
        "# word1 word2 word3 ...\n",
        "# 0       1     0   \n",
        "subNews_binario_Train = count_vect_binario.fit_transform(X_train)\n",
        "subNews_binario_Test = count_vect_binario.transform(X_test)\n",
        "print (subNews_binario_Train.shape)\n",
        "print (subNews_binario_Test.shape)\n",
        "\n",
        "# word1 word2 word3 ...\n",
        "# 3       2    5\n",
        "subNews_frecuencias_Train = count_vect_frecuencias.fit_transform(X_train)\n",
        "subNews_frecuencias_Test = count_vect_frecuencias.transform(X_test)\n",
        "print (subNews_frecuencias_Train.shape)\n",
        "print (subNews_frecuencias_Test.shape)"
      ],
      "execution_count": null,
      "outputs": []
    },
    {
      "cell_type": "code",
      "metadata": {
        "id": "UgX4sbSqH_Il"
      },
      "source": [
        "clasificadores = []\n",
        "clasificadores.append(('SVM', svm.SVC()))\n",
        "clasificadores.append(('DT', DecisionTreeClassifier()))\n",
        "clasificadores.append(('KNN-3', KNeighborsClassifier(n_neighbors=3)))\n",
        "print (clasificadores)\n",
        "accuracies = []\n",
        "for nomClas, clasificador in clasificadores:\n",
        "    print (\"------\")\n",
        "    print (nomClas)\n",
        "    clasificador.fit(subNews_binario_Train, y_train)\n",
        "    predicciones = clasificador.predict(subNews_binario_Test)\n",
        "    accuracy = accuracy_score(y_test, predicciones)\n",
        "    print (accuracy)\n",
        "    accuracies.append(accuracies)"
      ],
      "execution_count": null,
      "outputs": []
    },
    {
      "cell_type": "code",
      "metadata": {
        "id": "IP_GmWAtIhHL"
      },
      "source": [
        "accuracies = []\n",
        "for nomClas, clasificador in clasificadores:\n",
        "    print (\"------\")\n",
        "    print (nomClas)\n",
        "    clasificador.fit(subNews_frecuencias_Train, y_train)\n",
        "    predicciones = clasificador.predict(subNews_frecuencias_Test)\n",
        "    accuracy = accuracy_score(y_test, predicciones)\n",
        "    print (accuracy)\n",
        "    accuracies.append(accuracies)\n",
        "    print(metrics.classification_report(y_test, predicciones, target_names=subNews.target_names))"
      ],
      "execution_count": null,
      "outputs": []
    },
    {
      "cell_type": "markdown",
      "metadata": {
        "id": "QfN6IZHFJD5T"
      },
      "source": [
        "# EJEMPLO DATOS"
      ]
    },
    {
      "cell_type": "markdown",
      "metadata": {
        "id": "8YSi03KGzQJk"
      },
      "source": [
        "https://archive.ics.uci.edu/ml/machine-learning-databases/tae/\n",
        "\n",
        "<img src = 'https://drive.google.com/uc?id=1Ma43ctEOihV9jKdAClLHWP2GFKrOSaQA' width=\"520\" height=\"320\">"
      ]
    },
    {
      "cell_type": "code",
      "metadata": {
        "id": "pm3gkChhJiXW"
      },
      "source": [
        "import pandas as pd\n",
        "teachingData = pd.read_csv('https://archive.ics.uci.edu/ml/machine-learning-databases/tae/tae.data')"
      ],
      "execution_count": null,
      "outputs": []
    },
    {
      "cell_type": "code",
      "metadata": {
        "id": "xeezSVM4WlT-"
      },
      "source": [
        "print (teachingData)\n",
        "print (teachingData.shape)"
      ],
      "execution_count": null,
      "outputs": []
    },
    {
      "cell_type": "markdown",
      "metadata": {
        "id": "qLOUookAWykX"
      },
      "source": [
        "Attribute Information:\n",
        "\n",
        "1. Whether of not the TA is a native English speaker (binary); 1=English speaker, 2=non-English speaker\n",
        "2. Course instructor (categorical, 25 categories)\n",
        "3. Course (categorical, 26 categories)\n",
        "4. Summer or regular semester (binary) 1=Summer, 2=Regular\n",
        "5. Class size (numerical)\n",
        "6. Class attribute (categorical) 1=Low, 2=Medium, 3=High"
      ]
    },
    {
      "cell_type": "code",
      "metadata": {
        "id": "xTqQ6xX-W0rV"
      },
      "source": [
        "teachingData = pd.read_csv('https://archive.ics.uci.edu/ml/machine-learning-databases/tae/tae.data',  names = [\"NativeSpeaker\", \"Instructor\", \"Course\", \"Semester\", \"Size\", \"Clase\"])\n",
        "print (teachingData)\n",
        "print (teachingData.shape)"
      ],
      "execution_count": null,
      "outputs": []
    },
    {
      "cell_type": "code",
      "metadata": {
        "id": "zbypDgIqHlGu"
      },
      "source": [
        "teachingData.hist(\"NativeSpeaker\")"
      ],
      "execution_count": null,
      "outputs": []
    },
    {
      "cell_type": "code",
      "metadata": {
        "id": "_NRUSI51IZf8"
      },
      "source": [
        "X = teachingData.iloc[:,:5]\n",
        "print (X)\n",
        "print (X.shape)\n",
        "#clases\n",
        "y = teachingData.iloc[:,5:6]\n",
        "print (y)\n",
        "print (y.shape)"
      ],
      "execution_count": null,
      "outputs": []
    },
    {
      "cell_type": "code",
      "metadata": {
        "id": "WR43RnINJG8C"
      },
      "source": [
        "X_train, X_test, y_train, y_test = train_test_split(X, y, test_size=0.3)\n",
        "print(y_train.shape)\n",
        "print(y_test.shape)"
      ],
      "execution_count": null,
      "outputs": []
    },
    {
      "cell_type": "code",
      "metadata": {
        "id": "UCqo3_ouJTdf"
      },
      "source": [
        "clasificadores = []\n",
        "clasificadores.append(('NB', GaussianNB()))\n",
        "clasificadores.append(('SVM', svm.SVC()))\n",
        "clasificadores.append(('DT', DecisionTreeClassifier()))\n",
        "clasificadores.append(('KNN-3', KNeighborsClassifier(n_neighbors=3)))\n",
        "clasificadores.append(('KNN-5', KNeighborsClassifier(n_neighbors=5)))\n",
        "clasificadores.append(('KNN-7', KNeighborsClassifier(n_neighbors=7)))\n",
        "\n",
        "accuracies = []\n",
        "for nomClas, clasificador in clasificadores:\n",
        "    print (\"------\")\n",
        "    print (nomClas)\n",
        "    clasificador.fit(X_train, y_train.values.ravel())\n",
        "    predicciones = clasificador.predict(X_test)\n",
        "    accuracy = accuracy_score(y_test.values.ravel(), predicciones)\n",
        "    print (accuracy)\n",
        "    accuracies.append(accuracy)\n",
        "    print(metrics.classification_report(y_test.values.ravel(), predicciones, target_names=[\"1\", \"2\", \"3\"]))"
      ],
      "execution_count": null,
      "outputs": []
    },
    {
      "cell_type": "markdown",
      "metadata": {
        "id": "z7Umhz1gUHpd"
      },
      "source": [
        "# Otras técnicas"
      ]
    },
    {
      "cell_type": "markdown",
      "metadata": {
        "id": "F2MZoK0axejf"
      },
      "source": [
        "\n",
        "\n",
        "*   Pre-procesamiento de imágenes y textos\n",
        "*   Normalización de características\n",
        "*   Selección de características\n",
        "*   etc. \n",
        "\n"
      ]
    },
    {
      "cell_type": "markdown",
      "metadata": {
        "id": "96u0bVwg0f0w"
      },
      "source": [
        "<img src = 'https://drive.google.com/uc?id=1xSTXchaYwEKxxsNjN2tP7fN3N-P-oleI' width=\"320\" height=\"220\">"
      ]
    }
  ]
}