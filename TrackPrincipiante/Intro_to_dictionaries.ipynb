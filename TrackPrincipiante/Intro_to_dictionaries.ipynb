{
 "cells": [
  {
   "cell_type": "markdown",
   "metadata": {},
   "source": [
    "# Introducción a diccionarios"
   ]
  },
  {
   "cell_type": "markdown",
   "metadata": {},
   "source": [
    "Existen distintos tipos de objetos en Python:\n",
    "* int - enteros\n",
    "* float - flotantes\n",
    "* bool - boleanos\n",
    "* tuple - tuplas\n",
    "* **list - lista**\n",
    "* **dict - diccionarios**\n",
    "* ..."
   ]
  },
  {
   "cell_type": "markdown",
   "metadata": {},
   "source": [
    "# ¿Qué es un diccionario?"
   ]
  },
  {
   "cell_type": "markdown",
   "metadata": {},
   "source": [
    "Los diccionarios son similares a las listas que son una colección de objetos. Ambos tienen las siguientes característocas:\n",
    "* Son mutables.\n",
    "* Son dinámicos.\n",
    "* Pueden ser anidados.\n",
    "\n",
    "y la diferencia entre ellos consiste principalmente en como accedemos a los elementos:\n",
    "* Los elementos en una lista pueden ser accesados mediante su posición en la lista, índice ([i]).\n",
    "* En los diccionarios podemos accesar a los elementos a través de las llaves, keys."
   ]
  },
  {
   "cell_type": "markdown",
   "metadata": {},
   "source": [
    "### ¿Qué son las llaves (keys)?\n",
    "Las llaves son tipos de objetos inmutables que pueden ser cadenas o números. Son únicas dentro de un diccionario y no pueden ser duplicadas dentro de él, en caso de ser usada más de una vez, las entradas subsecuentes se sobreescribirán en el valor anterior."
   ]
  },
  {
   "cell_type": "code",
   "execution_count": 1,
   "metadata": {},
   "outputs": [
    {
     "data": {
      "text/html": [
       "<img src=\"https://res.cloudinary.com/dyd911kmh/image/upload/f_auto,q_auto:best/v1584113961/dictionary2_obxo0j.jpg\" width=\"950\" height=\"1000\"/>"
      ],
      "text/plain": [
       "<IPython.core.display.Image object>"
      ]
     },
     "execution_count": 1,
     "metadata": {},
     "output_type": "execute_result"
    }
   ],
   "source": [
    "from IPython.display import Image\n",
    "from IPython.core.display import HTML \n",
    "Image(url= \"https://res.cloudinary.com/dyd911kmh/image/upload/f_auto,q_auto:best/v1584113961/dictionary2_obxo0j.jpg\", width=950, height=1000)"
   ]
  },
  {
   "cell_type": "markdown",
   "metadata": {},
   "source": [
    "<h3><center>key:value</center></h3>"
   ]
  },
  {
   "cell_type": "markdown",
   "metadata": {},
   "source": [
    "# ¿Cómo construir un diccionario desde cero?"
   ]
  },
  {
   "cell_type": "markdown",
   "metadata": {},
   "source": [
    "<h4><center>dictionary = {\"key_1\":\"value_1\",\"key_2\":\"value_2\"}</center></h4>"
   ]
  },
  {
   "cell_type": "code",
   "execution_count": 2,
   "metadata": {},
   "outputs": [],
   "source": [
    "dictionary_unique = {\"a\": \"alpha\", \"o\": \"omega\", \"g\": \"gamma\"}"
   ]
  },
  {
   "cell_type": "code",
   "execution_count": 3,
   "metadata": {},
   "outputs": [
    {
     "name": "stdout",
     "output_type": "stream",
     "text": [
      "{'a': 'alpha', 'o': 'omega', 'g': 'gamma'}\n"
     ]
    }
   ],
   "source": [
    "print(dictionary_unique)"
   ]
  },
  {
   "cell_type": "code",
   "execution_count": 4,
   "metadata": {},
   "outputs": [
    {
     "data": {
      "text/plain": [
       "dict"
      ]
     },
     "execution_count": 4,
     "metadata": {},
     "output_type": "execute_result"
    }
   ],
   "source": [
    "type(dictionary_unique)"
   ]
  },
  {
   "cell_type": "code",
   "execution_count": 5,
   "metadata": {},
   "outputs": [],
   "source": [
    "dictionary_unique = {\"a\": \"alpha\", \"o\": \"omega\", \"g\": \"gamma\", \"g\": \"beta\"}"
   ]
  },
  {
   "cell_type": "code",
   "execution_count": 6,
   "metadata": {},
   "outputs": [
    {
     "name": "stdout",
     "output_type": "stream",
     "text": [
      "{'a': 'alpha', 'o': 'omega', 'g': 'beta'}\n"
     ]
    }
   ],
   "source": [
    "print(dictionary_unique)"
   ]
  },
  {
   "cell_type": "code",
   "execution_count": 10,
   "metadata": {},
   "outputs": [
    {
     "ename": "TypeError",
     "evalue": "unhashable type: 'list'",
     "output_type": "error",
     "traceback": [
      "\u001b[0;31m---------------------------------------------------------------------------\u001b[0m",
      "\u001b[0;31mTypeError\u001b[0m                                 Traceback (most recent call last)",
      "\u001b[0;32m<ipython-input-10-78a55d50cd65>\u001b[0m in \u001b[0;36m<module>\u001b[0;34m\u001b[0m\n\u001b[0;32m----> 1\u001b[0;31m \u001b[0mdictionary_immutable\u001b[0m \u001b[0;34m=\u001b[0m \u001b[0;34m{\u001b[0m\u001b[0;34m[\u001b[0m\u001b[0;34m\"a\"\u001b[0m\u001b[0;34m,\u001b[0m\u001b[0;34m\"b\"\u001b[0m\u001b[0;34m,\u001b[0m\u001b[0;34m\"c\"\u001b[0m\u001b[0;34m]\u001b[0m\u001b[0;34m:\u001b[0m \u001b[0;34m\"alpha\"\u001b[0m\u001b[0;34m,\u001b[0m \u001b[0;34m\"o\"\u001b[0m\u001b[0;34m:\u001b[0m \u001b[0;34m\"omega\"\u001b[0m\u001b[0;34m,\u001b[0m \u001b[0;34m\"g\"\u001b[0m\u001b[0;34m:\u001b[0m \u001b[0;34m\"gamma\"\u001b[0m\u001b[0;34m,\u001b[0m \u001b[0;34m\"g\"\u001b[0m\u001b[0;34m:\u001b[0m \u001b[0;34m\"beta\"\u001b[0m\u001b[0;34m}\u001b[0m\u001b[0;34m\u001b[0m\u001b[0;34m\u001b[0m\u001b[0m\n\u001b[0m",
      "\u001b[0;31mTypeError\u001b[0m: unhashable type: 'list'"
     ]
    }
   ],
   "source": [
    "dictionary_immutable = {[\"a\",\"b\",\"c\"]: \"alpha\", \"o\": \"omega\", \"g\": \"gamma\", \"g\": \"beta\"}"
   ]
  },
  {
   "cell_type": "markdown",
   "metadata": {},
   "source": [
    "### ¿Cómo acceder a los valores del diccionario?"
   ]
  },
  {
   "cell_type": "code",
   "execution_count": 151,
   "metadata": {},
   "outputs": [],
   "source": [
    "Frutas = dict(manzanas = 430, platanos = 312, naranjas = 525, peras = 217)"
   ]
  },
  {
   "cell_type": "code",
   "execution_count": 17,
   "metadata": {},
   "outputs": [],
   "source": [
    "MLB_team = dict(\n",
    "Colorado='Rockies',Boston='Red Sox',Minnesota='Twins',Milwaukee='Brewers',Seattle='Mariners')"
   ]
  },
  {
   "cell_type": "code",
   "execution_count": 87,
   "metadata": {},
   "outputs": [],
   "source": [
    "Frutas = dict([('manzanas', 430),('platanos', 312), ('naranjas', 525),('peras', 217),('kiwi', 50)])"
   ]
  },
  {
   "cell_type": "code",
   "execution_count": 88,
   "metadata": {},
   "outputs": [
    {
     "data": {
      "text/plain": [
       "dict_items([('manzanas', 430), ('platanos', 312), ('naranjas', 525), ('peras', 217), ('kiwi', 50)])"
      ]
     },
     "execution_count": 88,
     "metadata": {},
     "output_type": "execute_result"
    }
   ],
   "source": [
    "Frutas.items()"
   ]
  },
  {
   "cell_type": "code",
   "execution_count": 89,
   "metadata": {},
   "outputs": [
    {
     "data": {
      "text/plain": [
       "dict_keys(['manzanas', 'platanos', 'naranjas', 'peras', 'kiwi'])"
      ]
     },
     "execution_count": 89,
     "metadata": {},
     "output_type": "execute_result"
    }
   ],
   "source": [
    "Frutas.keys()"
   ]
  },
  {
   "cell_type": "code",
   "execution_count": 157,
   "metadata": {},
   "outputs": [
    {
     "data": {
      "text/plain": [
       "dict_values([430, 312, 525, 217])"
      ]
     },
     "execution_count": 157,
     "metadata": {},
     "output_type": "execute_result"
    }
   ],
   "source": [
    "Frutas.values()"
   ]
  },
  {
   "cell_type": "code",
   "execution_count": 91,
   "metadata": {},
   "outputs": [
    {
     "ename": "KeyError",
     "evalue": "1",
     "output_type": "error",
     "traceback": [
      "\u001b[0;31m---------------------------------------------------------------------------\u001b[0m",
      "\u001b[0;31mKeyError\u001b[0m                                  Traceback (most recent call last)",
      "\u001b[0;32m<ipython-input-91-133f06146d97>\u001b[0m in \u001b[0;36m<module>\u001b[0;34m\u001b[0m\n\u001b[0;32m----> 1\u001b[0;31m \u001b[0mFrutas\u001b[0m\u001b[0;34m[\u001b[0m\u001b[0;36m1\u001b[0m\u001b[0;34m]\u001b[0m\u001b[0;34m\u001b[0m\u001b[0;34m\u001b[0m\u001b[0m\n\u001b[0m",
      "\u001b[0;31mKeyError\u001b[0m: 1"
     ]
    }
   ],
   "source": [
    "Frutas[1]"
   ]
  },
  {
   "cell_type": "code",
   "execution_count": 94,
   "metadata": {},
   "outputs": [
    {
     "data": {
      "text/plain": [
       "430"
      ]
     },
     "execution_count": 94,
     "metadata": {},
     "output_type": "execute_result"
    }
   ],
   "source": [
    "Frutas['manzanas']"
   ]
  },
  {
   "cell_type": "code",
   "execution_count": 158,
   "metadata": {},
   "outputs": [],
   "source": [
    "import numpy as np\n",
    "Frutas_list = list(Frutas.values())\n",
    "Frutas_array = np.array(Frutas_list)"
   ]
  },
  {
   "cell_type": "code",
   "execution_count": 162,
   "metadata": {},
   "outputs": [
    {
     "data": {
      "text/plain": [
       "array([430, 312, 525, 217])"
      ]
     },
     "execution_count": 162,
     "metadata": {},
     "output_type": "execute_result"
    }
   ],
   "source": [
    "Frutas_array"
   ]
  },
  {
   "cell_type": "markdown",
   "metadata": {},
   "source": [
    "### Nueva entrada"
   ]
  },
  {
   "cell_type": "code",
   "execution_count": 95,
   "metadata": {},
   "outputs": [],
   "source": [
    "Frutas['fresas'] = 500"
   ]
  },
  {
   "cell_type": "code",
   "execution_count": 96,
   "metadata": {},
   "outputs": [
    {
     "data": {
      "text/plain": [
       "{'manzanas': 430,\n",
       " 'platanos': 312,\n",
       " 'naranjas': 525,\n",
       " 'peras': 217,\n",
       " 'kiwi': 50,\n",
       " 'fresas': 500}"
      ]
     },
     "execution_count": 96,
     "metadata": {},
     "output_type": "execute_result"
    }
   ],
   "source": [
    "Frutas"
   ]
  },
  {
   "cell_type": "code",
   "execution_count": 97,
   "metadata": {},
   "outputs": [],
   "source": [
    "#Asignar un nuevo valor\n",
    "Frutas['fresas'] = 0"
   ]
  },
  {
   "cell_type": "code",
   "execution_count": 98,
   "metadata": {},
   "outputs": [
    {
     "data": {
      "text/plain": [
       "{'manzanas': 430,\n",
       " 'platanos': 312,\n",
       " 'naranjas': 525,\n",
       " 'peras': 217,\n",
       " 'kiwi': 50,\n",
       " 'fresas': 0}"
      ]
     },
     "execution_count": 98,
     "metadata": {},
     "output_type": "execute_result"
    }
   ],
   "source": [
    "Frutas"
   ]
  },
  {
   "cell_type": "code",
   "execution_count": 99,
   "metadata": {},
   "outputs": [],
   "source": [
    "del Frutas['fresas']"
   ]
  },
  {
   "cell_type": "code",
   "execution_count": 100,
   "metadata": {},
   "outputs": [
    {
     "data": {
      "text/plain": [
       "{'manzanas': 430, 'platanos': 312, 'naranjas': 525, 'peras': 217, 'kiwi': 50}"
      ]
     },
     "execution_count": 100,
     "metadata": {},
     "output_type": "execute_result"
    }
   ],
   "source": [
    "Frutas"
   ]
  },
  {
   "cell_type": "code",
   "execution_count": 101,
   "metadata": {},
   "outputs": [
    {
     "data": {
      "text/plain": [
       "5"
      ]
     },
     "execution_count": 101,
     "metadata": {},
     "output_type": "execute_result"
    }
   ],
   "source": [
    "len(Frutas)"
   ]
  },
  {
   "cell_type": "code",
   "execution_count": 103,
   "metadata": {},
   "outputs": [
    {
     "data": {
      "text/plain": [
       "525"
      ]
     },
     "execution_count": 103,
     "metadata": {},
     "output_type": "execute_result"
    }
   ],
   "source": [
    "Frutas.get('naranjas')"
   ]
  },
  {
   "cell_type": "code",
   "execution_count": 104,
   "metadata": {},
   "outputs": [
    {
     "data": {
      "text/plain": [
       "430"
      ]
     },
     "execution_count": 104,
     "metadata": {},
     "output_type": "execute_result"
    }
   ],
   "source": [
    "Frutas.pop('manzanas')"
   ]
  },
  {
   "cell_type": "code",
   "execution_count": 105,
   "metadata": {},
   "outputs": [
    {
     "data": {
      "text/plain": [
       "{'platanos': 312, 'naranjas': 525, 'peras': 217, 'kiwi': 50}"
      ]
     },
     "execution_count": 105,
     "metadata": {},
     "output_type": "execute_result"
    }
   ],
   "source": [
    "Frutas"
   ]
  },
  {
   "cell_type": "code",
   "execution_count": 106,
   "metadata": {},
   "outputs": [
    {
     "data": {
      "text/plain": [
       "('kiwi', 50)"
      ]
     },
     "execution_count": 106,
     "metadata": {},
     "output_type": "execute_result"
    }
   ],
   "source": [
    "Frutas.popitem()"
   ]
  },
  {
   "cell_type": "code",
   "execution_count": 107,
   "metadata": {},
   "outputs": [
    {
     "data": {
      "text/plain": [
       "{'platanos': 312, 'naranjas': 525, 'peras': 217}"
      ]
     },
     "execution_count": 107,
     "metadata": {},
     "output_type": "execute_result"
    }
   ],
   "source": [
    "Frutas"
   ]
  },
  {
   "cell_type": "code",
   "execution_count": 108,
   "metadata": {},
   "outputs": [],
   "source": [
    "Frutas.clear()"
   ]
  },
  {
   "cell_type": "code",
   "execution_count": 109,
   "metadata": {},
   "outputs": [
    {
     "data": {
      "text/plain": [
       "{}"
      ]
     },
     "execution_count": 109,
     "metadata": {},
     "output_type": "execute_result"
    }
   ],
   "source": [
    "Frutas"
   ]
  },
  {
   "cell_type": "markdown",
   "metadata": {},
   "source": [
    "### Otro ejemplo"
   ]
  },
  {
   "cell_type": "code",
   "execution_count": 31,
   "metadata": {},
   "outputs": [],
   "source": [
    "person = {}"
   ]
  },
  {
   "cell_type": "code",
   "execution_count": 32,
   "metadata": {},
   "outputs": [
    {
     "data": {
      "text/plain": [
       "dict"
      ]
     },
     "execution_count": 32,
     "metadata": {},
     "output_type": "execute_result"
    }
   ],
   "source": [
    "type(person)"
   ]
  },
  {
   "cell_type": "code",
   "execution_count": 33,
   "metadata": {},
   "outputs": [],
   "source": [
    "person['fname'] = 'Joe'\n",
    "person['lname'] = 'Fonebone'\n",
    "person['age'] = 51\n",
    "person['couple'] = 'Edna'\n",
    "person['children'] = ['Ralph', 'Betty', 'Joey']\n",
    "person['pets'] = {'dog': 'Fido', 'cat': 'Sox'}"
   ]
  },
  {
   "cell_type": "code",
   "execution_count": 36,
   "metadata": {},
   "outputs": [
    {
     "data": {
      "text/plain": [
       "{'fname': 'Joe',\n",
       " 'lname': 'Fonebone',\n",
       " 'age': 51,\n",
       " 'couple': 'Edna',\n",
       " 'children': ['Ralph', 'Betty', 'Joey'],\n",
       " 'pets': {'dog': 'Fido', 'cat': 'Sox'}}"
      ]
     },
     "execution_count": 36,
     "metadata": {},
     "output_type": "execute_result"
    }
   ],
   "source": [
    "person"
   ]
  },
  {
   "cell_type": "code",
   "execution_count": 34,
   "metadata": {},
   "outputs": [
    {
     "data": {
      "text/plain": [
       "'Joey'"
      ]
     },
     "execution_count": 34,
     "metadata": {},
     "output_type": "execute_result"
    }
   ],
   "source": [
    "person['children'][-1]"
   ]
  },
  {
   "cell_type": "code",
   "execution_count": 35,
   "metadata": {},
   "outputs": [
    {
     "data": {
      "text/plain": [
       "'Sox'"
      ]
     },
     "execution_count": 35,
     "metadata": {},
     "output_type": "execute_result"
    }
   ],
   "source": [
    "person['pets']['cat']"
   ]
  },
  {
   "cell_type": "markdown",
   "metadata": {},
   "source": [
    "## Diccionarios anidados"
   ]
  },
  {
   "cell_type": "code",
   "execution_count": 147,
   "metadata": {
    "jupyter": {
     "source_hidden": true
    }
   },
   "outputs": [
    {
     "data": {
      "text/html": [
       "<img src=\"data:image/png;base64,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\" width=\"450\" height=\"100\"/>"
      ],
      "text/plain": [
       "<IPython.core.display.Image object>"
      ]
     },
     "execution_count": 147,
     "metadata": {},
     "output_type": "execute_result"
    }
   ],
   "source": [
    "Image(url= \"data:image/png;base64,iVBORw0KGgoAAAANSUhEUgAAAQsAAAC9CAMAAACTb6i8AAAA3lBMVEX////wUTYAAADwTzPwTTDvQyHvRSTX19fvQR1ZWVmBgYG7u7v5xsD72dXvRyfwWD/84+HydmXzhXb60c3xaVXOzs75+fl1dXVnZ2fFxcX+8/KJiYmampq1tbWmpqb96ef3tKz5wLnvNgP1nZLvPRXq6urt7e3ycF31kYT3qqD3sKdmZmaenp7i4uJwcHD1mY1KSkrzfm3xYEkqKio6OjoTExM0NDT6zMb1k4dUVFQRERFGRkYhISErKys3NzfxZVAnAACfMBzhUz1hbm+ThoTEbWLWhXzuJgB2goOXHwASA9E1AAAUk0lEQVR4nO2dC3+isJqHQwgYFYOiYo0XLqYqtmq1nbGddsazZ/ec2f3+X2iTQCtaL4C1t+N/fjooJiUPuby5vQBw1llnnXXWWWedddZZZ5111llnnXXWWWedUk35flk/9Du7afP3vnwXwS6fw/dPdGHvLxsWxH9duHkil9v4DGXq4bX81IQRkz48SPHLyIawyP/rvGLxOFn/HLFohz+8a0RfH83ClvnKHtvHRfMWsmED9iMW425HfJXrdmxQv8s3x/z+d2UZqnfr45CFLdGN4RjYnW49ZFHPRUXoUoSMIkiqjshhfZh/+6Sllg3Hk6eQRRcW8vzCWrDxAPs3v54eO+DmV+vHBQAFmL+7CVmAyWP4loMPF7AtWTzxTFLnRDuwcMX/u4aNPLzc/2dXEiwuYePwD08vG+YAnAgWfX4ErlpA3HiekodClFtgbgybgkeYPJklRMHgt7MI5eHPgihCfVv+rAFgV0aQUPxvjGFLHtZ5+P5YHOX64LJTfO9iI1hcwiJPVRO22+38A2jAligXN/xWXfy8bl/Lky/1haxI2j+AKFHtBrRjLOoigqs/PGMViskvoANzIYoxfLyB/RxHzS9oXIRXeTh+8+TulWDB72/rB3+r15ui6DdbTzzfShY39Waz3u+sseBNCOyIEtVtdtfyRR02wwjqrVuYuKXtQHghD35xIq0HWSu3HsFjK03mehtJFjwvPPGbIbKDLa+Al5N8PmppbSDLSOulCni6E19fXclGRbB4yIvTfYkI9MMIOkkvoAjb8seXsN3ptKAod4D/vXaYO99VIQvwE4qUXRS4+QAfWnl+W3km7YBHURuOeV0xebh7YdHlVabIHo3J77CMdGD+4TcP0oVXBZ7f4WPrKnndydPeETXMWLDoFAVGWSZF5nrvjNGRubkvW8rutWgdO+2wZWzzG9Nsd8X5ertpv7ST0VGuXex3+Ie+OF2UX/II6jKCbnJjtMjLY1HAEC+h6z+PXZG9APjdfrtkfgkJFjyTtXjuaFw/PEjrj38Db1oNmDsc/Fsp1xK5rF7I8aNCVxzfiV6B3Wm137uIfD6Nj2pK7U7hIrkKKQzkj9DFTfaw/SvY6NSTq9OAF5+bRmY1n+vfFLr+Rh3tmIrJLbyYQrvqm2kMs2X3/rvbMafX76z3t3j3ptfxCZR7yhz0x3czZArp681nXbfe8Do+g56ymyW5P294HZ9Br0Zsk8s+Iuyn1DHp+UAWdjcPU+iulST7x9NTnZn7NVvsDLuhUe1AVFLLHs1EArRhI80Mk51rw4fDv4+l554hdb8Qu98Rdl3U1A9FFYogJ3mKVrq9Sm8TdQ9byqv0eEw5LOZtDbuhJVqFQIQQpMbjQPGzZupEAfDrOkMgblQesgFW6THV2NW/XDxZZ6HOt4ZdVylGFU1d1+0p8eTPrNgnbKRO1EUhdRCp3CEL+yU9FEdXp9dcI1AiGGgUu2557XRL2A25MYDYcadTF8xXOYO4Xuw86aVN0jhzld06AHHFIrqZJLB7lmtH106Ats6CJWAxWmMx0xHzRgTp/J+iaoiN3KNYXCQeIN/UISNgkwUvBLx8E16vabywSBYEKZqq8IKTkYVGfCPQa07ZGSCzTMvGcSwy9iWFHvb3vTZZkMCQOUFVyw71MGehudQpqVrJpQFZKyM7Ma+x4El3DUfFtOYj6lcDH9OjWIx/pQwQU3v/sPgrFtFd0w3X952hBtjQYb5r+OUFEyfQPw5bNv+lxlm40xHFaA54HQp8oKjkuDKSe8hCIVRxf4XxikVUs2F7rvI8wgDP30RdUr88k7Uo2xZ2Q+5GfcFcA8/tea02x7ap6u5xLNbWFth0v9bDpmSBZtRXFVXHNMYC1VYsUtcXFlIRWDI69MkQLzxfOa6MxFlQS2d7hedrTXZKFjxTeypbVom3YDqd6YDNKGEL13eysdBLPBzpefq87Di8NanSkhu8EYsy3mjwX0tlQRYWz/YF8Sh1pogY1OnpyNH1Hq9Edb1akX84rX2h6CIYb4NUjWj8e52/x08fw2K+QsFtWbJu3D7bAqycngWoPcdMNF3jx7ourh3LzyRKk4KWW8Ouq5zEmo+Eq5lZlPBLLCjgxW8QwlAFBa1WimCgYQYW1UT9kerWsBuakcMxRVdaS4kixsLTo0hUpHsBdmu8nuNdwmUZ8xaAgig5aJCBBXAZQftFfHdH2A0N8IGYIuFlasPpNQukWMjjdZCq6EtLQRWqmGj29zgWwAms/QrozrAbWgwPRCU1TN8xe80CWcAolQMfzLFHDTotg9I9QuxIFmn1IeNar1hodIB9p+dTs0J9nahz6iNhB0Us1Npq8rN9sW9qNPf1WSgAK7y+8KkSiG+4XSjq1BWLf/7385z45ObnZM+U+eTrsyCAlwjez6Fmr8pUYRcyXon6wFdflZHm/lmMr89CN6rzIQh820Tgfh7MEJiZqDIAg4r6H1df8Aa0PJpa2DDRfFFyeRtSCrBXXVTDjtV/BovFs2nJTVlhd/K6QZqHiJuGRNf10MhBs1XYNCzKxn6V94TdUPVAVKGq6cdlVizsjSG37cKx0erkLJwa0/eLLZ0dYTfkEnwgqlAaHmVnwY3DwyhIvNOQmAXVD/b6ePajW8NuomDqwagisWP67C7TyX6xSjznJWZhHUYhjbzDLGT3X+U9OpygX8JSzhatjeVQz92v9VKdmIW4boJVrKsq3n3pJAELafKYZUpp7zBfkrKU5I7YM5NmLEdzbccumcrmRED8NiYcy9HKPR8rLhEzTypSxMwZf6mEIHHA31E0jJF2AOOdWKChwzDrVVTA5MwZCt/Dqw6TkZgFBiZRVd64DbxgbhFroKLhEs0DzyJoaAYWtoxA+8QsiOsxJIaI7KXnKiqyPG+JlGnNGCEVma43EH0ee0vYDYlxLeLSe5P33CvgvkdLfrWHsGPhamBRiznOqBaUZ25V+7ws1BpwK0RXFVC1jBKuVa2prZlgYXkOVuz7Ga2pCvmf1otga7v+JTKQZi2oM2OlIW83S/6CsyhbiDEtcH1niBlAKqPq52WhIHNUtrnpCrjNZuvIJ5gOTMAPaGXkEdTjp/TOSrDY2ap/CxYq0lkFMDpA6P6ZBfZKRpmzqCAVeIaxMD8xC17AMSkFCGBVodqyXPUAZ8EUrXrPU2EYU5SojIj6Qq1hQnygl+4xcwUL7NNZzf7715UsMBCj+Z84X6g1Xk36rkuAppqUeSP/rz1QACI+HQTeX+aT5HUncUpB4Bi4AgK3XGVD2lsASwNBQCUL0qO9UVn/vCxQj7qBQUWbqpoAWza/fp4vqkGppCHq9UpDlHx+RJ8FQUVT0DIYWiWNzIKBtURmcF+rkOGc1zuDoGd+1nzBKzOFmL1gyJtOnmb+IpWgZpmmjYKhzpvU+6CCeC2wNey6wtlpFDbCKtHvS2LOHkn7AkXGhvhCGuq6my4978JiKko5ktcfvRC3kngGYeGiInmKTLeG3ZC+1h1RB/d7zE+ccvnau7DgxtHWiw1iCSHmjrDrWvjrMHajUH1vVyQ79D4swJDhLfJXh2xo7wq7rtJ8a1SvxMy002bvxQKA8n7tDbsueiCqUBlWNJ6SRXanJMeskMmuE7K4yr49qDg5/Ju31wlZdK4yx/yQwhfB2+mELLIXkuzrLI/SKVl0fmaM+PZDssVJWYCri0zxXn1IbXFiFiB/l76Y9H9mI3i8TssCdOGknmbSxq5PknvqeGudmAWncZNmlw68yb5h72idnMUX0pnFSmcWK51ZrHRmsdLJWdjtP6kakrvuh/kCOTWLNizkUhkYuUYG/yFvoxOzuHlIf5f7d9k7uEfptCwestUoFx9jhZ+URfcxY8y/P8QOPymLzPv6Lj94HV96HWLRzd73zn/ECMYpWeSzD3h2PmII41OO8QEwzu5rJ7tOyiJ71B/iGOXdWNDSfq3Pfe5jUT4Qk9Tm5FMSvRMLOmNY2yfMZnEau1ksTLY3ouf4UNrZ1PdiQffMAb9MLiuxFngnC8NPuO5XZcesgU6t5CyG0YJLTFZ7YF+teo0vOtjFwt6zVnZTLK3HnPdhEaEQW3Wf1+sSqm9ce3wxyi4WRnyprI4x1pCCXiLS1vJM2mW/78Mi3MSNywbS5guxnkbs1xUrgJFc8apGbm7YYacPa3u4q9RxypZ2X4pgaM4yDuPIvf3plI5FtLWfKGge9JDKWahkGswRqihDa3NDexIWws8BWYL50kKqXPWD6VKNVUxHslh4e2WsL2pIzkKU8meXD6hiBy5FGhCL1gJ7xsqOYSV1+rDp50DB1aFZQYP5cFRDnAWaD9GbsPB07dCOl/i+hrQsvHBjvsazNfNGDLDAYJrl+OUeC6+fdFeC3a36d9xPklNhGNs1q+R71A2E84e5aVtvwiKJFywS226WlkUQ7uISrkDQdOEDfxEQdW775efLJ+2V4HV7m/4VZ1Hm9YUdYMHCY8wIfFqxB6uMcwyLWBUtfPo8/1VVbF4hCg6rpbjTqnQsVBPwQk1kMceux/MFfyMVZ8UidRmZabyVRoJFQIhgAaax+3kEi8WKBfECH8yiK+T10aDMG8PQYViKvXeb7Qjp2b0hryksOuwBUwPY5J/pkDkvLNLWnTJgnEXFtlYt9REsXvwcIIK9QB+Yws8GQkvgE8ti/mghz6fYk/naYU7N9QLeklQ810RohMRmiQpBvZp6FIshZzGSLGxeX9y/RX3xzEKfLoZegKfc9hktpnPXDmZir07UimdiYUcpUElsIw1RXvYCRWcT2FpezECLIKq1e2LNELJmpGdyvOYLi+y21vMebrc8C2iPM9aoOzOGgT0VO5aZEzZWKfZwxzffJfHgQWJuRhLZ4BFEVW7SES8k8L6cTrv1btt+dgX5JbGffVj2+R2cCwtJYV7kFVD95/8WnpW/K+xTK9Y3Q4f7ZkiN9R929s28pHsy1137ZGOx1c8BDpzohqi1ZjFSs3X1crxNzXiffXCop80qyfrsBtrf+X/ps7tpUWzZ228vdd8R+YKbQURHS5vnjqnDnvdwZ6kvhJzqfq1n6H1jOaUDMUmVUjB41usyMqXBgkq/KOVSULYw9awBEBb4q/ri+47xvfg5GASDQY0MuYU1DAa8E9mbze+5pml9PnxhFi8+pYQXIjXc6IHCd1V6JgpPJvcp9YVZrDzR7hOLFcRvzKLMEvigi2/++cYsgDM4tEFFWRtc/s4suBng7Nd62DQsytPKfk3XZjT2sPCsAzFJzdxEyV/TO82PBIed0K2N4e9kYdcS+qDT5qkdx5/Qr2uMhZHIOWHMjf5OFhUStXRoT00f7sxc7ohip47y95u4bzZfbRvdXT/HHSvuYlEKR5Gnvd5w9/QTsuR4OF5sjyPJBafWoTUFa+NaKpmOhJP36W4YeDVxtouFHDLVq9XRyADLXTlDCwc20vvEvjrCP3hix/FMURXb63mgktAxyt6xHL3aw4QFBlF1jJGi6or0N040LI4wjkYN07PI7kLwkN/4tXxBRh7v6Zmmafvh9WMsndOKDwrB0hVQChYawj1DV6vUsUitqqOZwUZBiS4IqjnUKGVkIZ5inEmHn9i1xiIo+eJpGSZ1KZ2hecmhgT4vyQ96z3E8LdHYb1hGFsa0F/AWpTRiJpgPKJZjng5izj2jFquArCxAtrWllykeuiHqC1IFi6GGTDD0ZxTPZ4wBhX9gNUBmjv93MUQKOrwq+P9UyaI68oCKxNSbZgS1kIUREN0Llrw8sqxlhOfHXxkWR3USPJxufU5AU+6rYKnYTFWoTubTnl0TzkD4hXvVIDAMkjxf8PqCBVVMwmGnFQsSssDZWYjnERdS7YQad+FdgkfTrbEQvV3f9ZCNhTOQezqsUMkClyzDnc1mvFVgh9uR5/qCKBjUcHnIsCTqG88smD3g5eYIFsC+TrUT6raQ6Fls685ALN6fKU8VWzhG8T33rwl4Kmb8wtWh47O5YJG87uQFalrGc8ehPV33bMcLWRgjrUKd0jH54kSK5wsx3+RQVzMlC82k5SrPF9Rz7CHBLu8HVVBi+yJ0KI40RcVq6CSd6Jpwmi5eiH8XLnj5nCyE3alquiKaUWF2YZkKjOa2j8RcJdFU0c7GjOa9dmdCpbc7T6hVerZPW6vztekOFpuq3dkfGSRxcyiF5jui+BDF0tNj6PWjuMTszup4bT5jJws61xI90wvpSqZnep1K8fSUhrX9Gq6N4u8Zv3ArB2KSqqRexXdaHdHt63+Mp4PT6ccRD8rMuvPks+qIB6geGhr5cqpnX+x/1CPhP6Uy+/ToHjHy+Ek1zriD5PKInSefVsVMTxcff8+n1Tdh+odwtr4nCm40TeBFt5lc11ew8WGbuE8uu9hqJFer+X1JnHXWWWedddZZmdUMJwy6B/sUxfCHTTnr1Pkw13On1ET2rOxXlvR4czjjRzhI8SCWBl1l6rl8ejWg8Nv5mkVxc9zud8gif8VfRzwO/DNrMrltRCz67ZYoAONWqwiaDdjlOaPeaokckGu17J8Riwvw8Eui6LTaNigKhv2uDbqt6y/fdZ80+rAoWYxhocs7qjlYaP/odh5gowDa8LoFx6AOr1q3P8Jnmuev8n/Cg6fuBeS/4IeFP+Dp5vriy48ATxqgw0s/Z/HYkL57W7/5tzYQeyhsyOvL9gV4moix7pDFFYRy/KsuUv7YAWIGHzZtUYF8+YLDWYDJk2ABHxoTXpOO4W2rHtYXdTiZNG5+A5n62yhfTLryYxs2Jo0fBdC44SxFFTL5+k2LYAGeLgSL9uX4UtQOzQIvKiGLHP+qD6Tz1pcyArric/tXn5+zxcjgrWhycte3H+Ep5k0lWVxCzuLqjh/lgDAjWjecA8ciy8UYPNyJlWIvLCSMnKhtOQtwcyNKU06Uoq9eeYben4s8ZfYPmIe3oADzeVEJ3MI8rzR+P3AGHNXN78i+uMnLn3d5Ibl5FDyasCVI/b6ARyxK/hwah3Mb0iVhvSMyxWWxKG9wk1cLdrMorSpubeYuY78fiya4KEe1cqHdFYb9D1f+y2eHN5N9d84PZ5111llnnXXWWWd9K/0/upQemlMvr40AAAAASUVORK5CYII=\", width=450, height=100)"
   ]
  },
  {
   "cell_type": "code",
   "execution_count": 45,
   "metadata": {},
   "outputs": [],
   "source": [
    "dictionary_nested = {\"datacamp\":{\"Deep Learning\": \"Python\", \"Machine Learning\": \"Pandas\"},\"linkedin\":\"jobs\",\"nvidia\":\"hardware\"}"
   ]
  },
  {
   "cell_type": "code",
   "execution_count": 122,
   "metadata": {},
   "outputs": [],
   "source": [
    "people = {1: {'name': 'John', 'age': '27', 'sex': 'Male'},2: {'name': 'Marie', 'age': '22', 'sex': 'Female'}}"
   ]
  },
  {
   "cell_type": "code",
   "execution_count": 46,
   "metadata": {},
   "outputs": [
    {
     "data": {
      "text/plain": [
       "{'datacamp': {'Deep Learning': 'Python', 'Machine Learning': 'Pandas'},\n",
       " 'linkedin': 'jobs',\n",
       " 'nvidia': 'hardware'}"
      ]
     },
     "execution_count": 46,
     "metadata": {},
     "output_type": "execute_result"
    }
   ],
   "source": [
    "dictionary_nested"
   ]
  },
  {
   "cell_type": "code",
   "execution_count": 111,
   "metadata": {},
   "outputs": [
    {
     "data": {
      "text/plain": [
       "{1: {'name': 'John', 'age': '27', 'sex': 'Male'},\n",
       " 2: {'name': 'Marie', 'age': '22', 'sex': 'Female'}}"
      ]
     },
     "execution_count": 111,
     "metadata": {},
     "output_type": "execute_result"
    }
   ],
   "source": [
    "people"
   ]
  },
  {
   "cell_type": "code",
   "execution_count": 112,
   "metadata": {},
   "outputs": [
    {
     "data": {
      "text/plain": [
       "'Marie'"
      ]
     },
     "execution_count": 112,
     "metadata": {},
     "output_type": "execute_result"
    }
   ],
   "source": [
    "people[2]['name']"
   ]
  },
  {
   "cell_type": "code",
   "execution_count": 113,
   "metadata": {},
   "outputs": [
    {
     "data": {
      "text/plain": [
       "'22'"
      ]
     },
     "execution_count": 113,
     "metadata": {},
     "output_type": "execute_result"
    }
   ],
   "source": [
    "people[2]['age']"
   ]
  },
  {
   "cell_type": "code",
   "execution_count": 126,
   "metadata": {},
   "outputs": [],
   "source": [
    "people[3] = {}"
   ]
  },
  {
   "cell_type": "code",
   "execution_count": 127,
   "metadata": {},
   "outputs": [
    {
     "data": {
      "text/plain": [
       "{1: {'name': 'John', 'age': '27', 'sex': 'Male'},\n",
       " 2: {'name': 'Marie', 'age': '22', 'sex': 'Female'},\n",
       " 3: {}}"
      ]
     },
     "execution_count": 127,
     "metadata": {},
     "output_type": "execute_result"
    }
   ],
   "source": [
    "people"
   ]
  },
  {
   "cell_type": "code",
   "execution_count": 128,
   "metadata": {},
   "outputs": [],
   "source": [
    "people[3]['name'] = 'Luna'\n",
    "people[3]['age'] = '24'\n",
    "people[3]['sex'] = 'Female'\n",
    "people[3]['married'] = 'No'"
   ]
  },
  {
   "cell_type": "code",
   "execution_count": 129,
   "metadata": {},
   "outputs": [
    {
     "data": {
      "text/plain": [
       "{1: {'name': 'John', 'age': '27', 'sex': 'Male'},\n",
       " 2: {'name': 'Marie', 'age': '22', 'sex': 'Female'},\n",
       " 3: {'name': 'Luna', 'age': '24', 'sex': 'Female', 'married': 'No'}}"
      ]
     },
     "execution_count": 129,
     "metadata": {},
     "output_type": "execute_result"
    }
   ],
   "source": [
    "people"
   ]
  },
  {
   "cell_type": "code",
   "execution_count": 130,
   "metadata": {},
   "outputs": [],
   "source": [
    "people[4] = {'name': 'Peter', 'age': '29', 'sex': 'Male', 'married': 'Yes'}"
   ]
  },
  {
   "cell_type": "code",
   "execution_count": 131,
   "metadata": {},
   "outputs": [
    {
     "data": {
      "text/plain": [
       "{1: {'name': 'John', 'age': '27', 'sex': 'Male'},\n",
       " 2: {'name': 'Marie', 'age': '22', 'sex': 'Female'},\n",
       " 3: {'name': 'Luna', 'age': '24', 'sex': 'Female', 'married': 'No'},\n",
       " 4: {'name': 'Peter', 'age': '29', 'sex': 'Male', 'married': 'Yes'}}"
      ]
     },
     "execution_count": 131,
     "metadata": {},
     "output_type": "execute_result"
    }
   ],
   "source": [
    "people"
   ]
  },
  {
   "cell_type": "code",
   "execution_count": 132,
   "metadata": {},
   "outputs": [
    {
     "name": "stdout",
     "output_type": "stream",
     "text": [
      "\n",
      "Person ID: 1\n",
      "name: John\n",
      "age: 27\n",
      "sex: Male\n",
      "\n",
      "Person ID: 2\n",
      "name: Marie\n",
      "age: 22\n",
      "sex: Female\n",
      "\n",
      "Person ID: 3\n",
      "name: Luna\n",
      "age: 24\n",
      "sex: Female\n",
      "married: No\n",
      "\n",
      "Person ID: 4\n",
      "name: Peter\n",
      "age: 29\n",
      "sex: Male\n",
      "married: Yes\n"
     ]
    }
   ],
   "source": [
    "for p_id, p_info in people.items():\n",
    "    print(\"\\nPerson ID:\", p_id)\n",
    "    \n",
    "    for key in p_info:\n",
    "        print(key + ':', p_info[key])"
   ]
  },
  {
   "cell_type": "code",
   "execution_count": 144,
   "metadata": {},
   "outputs": [
    {
     "data": {
      "text/plain": [
       "True"
      ]
     },
     "execution_count": 144,
     "metadata": {},
     "output_type": "execute_result"
    }
   ],
   "source": [
    "'No' in people[3]['married']"
   ]
  },
  {
   "cell_type": "code",
   "execution_count": 145,
   "metadata": {},
   "outputs": [
    {
     "data": {
      "text/plain": [
       "False"
      ]
     },
     "execution_count": 145,
     "metadata": {},
     "output_type": "execute_result"
    }
   ],
   "source": [
    "'No' not in people[3]['married']"
   ]
  },
  {
   "cell_type": "markdown",
   "metadata": {},
   "source": [
    "# Dictionary Comprehension"
   ]
  },
  {
   "cell_type": "code",
   "execution_count": 60,
   "metadata": {},
   "outputs": [
    {
     "name": "stdout",
     "output_type": "stream",
     "text": [
      "8.797645568847656e-05\n"
     ]
    }
   ],
   "source": [
    "import time\n",
    "t1 = time.time()\n",
    "dict_comprehension = {i: i**3 for i in range(20)}\n",
    "print(time.time() - t1)"
   ]
  },
  {
   "cell_type": "code",
   "execution_count": 61,
   "metadata": {},
   "outputs": [
    {
     "data": {
      "text/plain": [
       "{0: 0, 1: 1, 2: 8, 3: 27, 4: 64, 5: 125, 6: 216, 7: 343, 8: 512, 9: 729}"
      ]
     },
     "execution_count": 61,
     "metadata": {},
     "output_type": "execute_result"
    }
   ],
   "source": [
    "dict_comprehension"
   ]
  },
  {
   "cell_type": "code",
   "execution_count": 52,
   "metadata": {},
   "outputs": [],
   "source": [
    "from itertools import islice"
   ]
  },
  {
   "cell_type": "code",
   "execution_count": 53,
   "metadata": {},
   "outputs": [
    {
     "name": "stdout",
     "output_type": "stream",
     "text": [
      "[(0, 0), (1, 1), (2, 8), (3, 27), (4, 64), (5, 125), (6, 216), (7, 343), (8, 512), (9, 729)]\n"
     ]
    }
   ],
   "source": [
    "comp_10 = list(islice(dict_comprehension.items(),10))\n",
    "print(comp_10)"
   ]
  },
  {
   "cell_type": "code",
   "execution_count": null,
   "metadata": {},
   "outputs": [],
   "source": [
    "t1 = time.time()\n",
    "dict_comprehension = dict()\n",
    "for i in range(20):\n",
    "    dict_comprehension[i+1] = i**3\n",
    "print(time.time() - t1)"
   ]
  },
  {
   "cell_type": "markdown",
   "metadata": {},
   "source": [
    "# Ejemplos:"
   ]
  },
  {
   "cell_type": "markdown",
   "metadata": {},
   "source": [
    "### Identificación de palabras"
   ]
  },
  {
   "cell_type": "code",
   "execution_count": 55,
   "metadata": {},
   "outputs": [],
   "source": [
    "Frase_Coral_Herrera = 'Es entonces cuando comprendes que el amor esta en todas partes y que la pareja es una mas de tus relaciones'"
   ]
  },
  {
   "cell_type": "code",
   "execution_count": 62,
   "metadata": {},
   "outputs": [],
   "source": [
    "word_freq = dict()\n",
    "corpus_word = Frase_Coral_Herrera.split()\n",
    "for word in range(len(corpus_word)):\n",
    "    if corpus_word[word] not in word_freq:\n",
    "        word_freq[corpus_word[word]] = 1\n",
    "    else:\n",
    "         word_freq[corpus_word[word]] += 1"
   ]
  },
  {
   "cell_type": "code",
   "execution_count": 63,
   "metadata": {},
   "outputs": [
    {
     "data": {
      "text/plain": [
       "{'Es': 1,\n",
       " 'entonces': 1,\n",
       " 'cuando': 1,\n",
       " 'comprendes': 1,\n",
       " 'que': 2,\n",
       " 'el': 1,\n",
       " 'amor': 1,\n",
       " 'esta': 1,\n",
       " 'en': 1,\n",
       " 'todas': 1,\n",
       " 'partes': 1,\n",
       " 'y': 1,\n",
       " 'la': 1,\n",
       " 'pareja': 1,\n",
       " 'es': 1,\n",
       " 'una': 1,\n",
       " 'mas': 1,\n",
       " 'de': 1,\n",
       " 'tus': 1,\n",
       " 'relaciones': 1}"
      ]
     },
     "execution_count": 63,
     "metadata": {},
     "output_type": "execute_result"
    }
   ],
   "source": [
    "word_freq"
   ]
  },
  {
   "cell_type": "markdown",
   "metadata": {},
   "source": [
    "### Diccionarios y arreglos"
   ]
  },
  {
   "cell_type": "code",
   "execution_count": 164,
   "metadata": {},
   "outputs": [],
   "source": [
    "path = \"/Users/atalianb/Documents/data_LBSG/dwarf-LSBG/dwarf-LSBG/\""
   ]
  },
  {
   "cell_type": "code",
   "execution_count": 165,
   "metadata": {},
   "outputs": [],
   "source": [
    "D631 = np.loadtxt(path+\"D631-7_rotmod.dat\")"
   ]
  },
  {
   "cell_type": "code",
   "execution_count": 166,
   "metadata": {},
   "outputs": [],
   "source": [
    "vecRp_D631 = np.array([row[0] for row in D631])# galactocentric distance [kpc]\n",
    "vecvRp_D631 = np.array([row[1] for row in D631])# rotation velocity [km/s]\n",
    "vecerrvRp_D631 = np.array([row[2] for row in D631])# error in rotation velocity [km/s]"
   ]
  },
  {
   "cell_type": "code",
   "execution_count": 168,
   "metadata": {},
   "outputs": [],
   "source": [
    "import matplotlib.pyplot as plt"
   ]
  },
  {
   "cell_type": "code",
   "execution_count": 169,
   "metadata": {},
   "outputs": [
    {
     "data": {
      "text/plain": [
       "[<matplotlib.lines.Line2D at 0x7faccfea0150>]"
      ]
     },
     "execution_count": 169,
     "metadata": {},
     "output_type": "execute_result"
    },
    {
     "data": {
      "image/png": "[encoded data removed]",
      "text/plain": [
       "<Figure size 432x288 with 1 Axes>"
      ]
     },
     "metadata": {
      "needs_background": "light"
     },
     "output_type": "display_data"
    }
   ],
   "source": [
    "plt.plot(vecRp_D631,vecvRp_D631)"
   ]
  },
  {
   "cell_type": "code",
   "execution_count": 170,
   "metadata": {},
   "outputs": [
    {
     "data": {
      "text/plain": [
       "Text(0.5, 1.0, 'D631 data')"
      ]
     },
     "execution_count": 170,
     "metadata": {},
     "output_type": "execute_result"
    },
    {
     "data": {
      "image/png": "[encoded data removed]",
      "text/plain": [
       "<Figure size 432x288 with 1 Axes>"
      ]
     },
     "metadata": {
      "needs_background": "light"
     },
     "output_type": "display_data"
    }
   ],
   "source": [
    "plt.errorbar(vecRp_D631,vecvRp_D631,yerr=vecerrvRp_D631,fmt='.')\n",
    "plt.ylabel(r'$v_{c}(r)$[km/s]')\n",
    "plt.xlabel(\"r[kpc]\")\n",
    "plt.title('D631 data')"
   ]
  },
  {
   "cell_type": "code",
   "execution_count": 185,
   "metadata": {},
   "outputs": [],
   "source": [
    "list_vecRp_D631 = vecRp_D631.tolist()\n",
    "list_vecvRp_D631 = vecvRp_D631.tolist()\n",
    "list_vecerrvRp_D631 = vecerrvRp_D631.tolist()"
   ]
  },
  {
   "cell_type": "code",
   "execution_count": 186,
   "metadata": {},
   "outputs": [],
   "source": [
    "D631_dic = {'Rad':list_vecRp_D631,'Vobs': list_vecvRp_D631, 'errV': list_vecerrvRp_D631}"
   ]
  },
  {
   "cell_type": "code",
   "execution_count": 187,
   "metadata": {
    "collapsed": true,
    "jupyter": {
     "outputs_hidden": true
    }
   },
   "outputs": [
    {
     "data": {
      "text/plain": [
       "{'Rad': [0.45,\n",
       "  0.9,\n",
       "  1.35,\n",
       "  1.8,\n",
       "  2.25,\n",
       "  2.69,\n",
       "  3.14,\n",
       "  3.59,\n",
       "  4.04,\n",
       "  4.49,\n",
       "  4.94,\n",
       "  5.39,\n",
       "  5.84,\n",
       "  6.29,\n",
       "  6.74,\n",
       "  7.19],\n",
       " 'Vobs': [8.41,\n",
       "  17.8,\n",
       "  26.0,\n",
       "  30.9,\n",
       "  34.7,\n",
       "  38.8,\n",
       "  42.5,\n",
       "  45.6,\n",
       "  48.8,\n",
       "  51.8,\n",
       "  54.8,\n",
       "  56.6,\n",
       "  58.4,\n",
       "  58.5,\n",
       "  57.7,\n",
       "  57.3],\n",
       " 'errV': [1.58,\n",
       "  2.22,\n",
       "  2.35,\n",
       "  2.22,\n",
       "  1.82,\n",
       "  1.81,\n",
       "  1.57,\n",
       "  1.59,\n",
       "  1.83,\n",
       "  1.91,\n",
       "  2.19,\n",
       "  2.73,\n",
       "  3.27,\n",
       "  3.95,\n",
       "  4.07,\n",
       "  3.94]}"
      ]
     },
     "execution_count": 187,
     "metadata": {},
     "output_type": "execute_result"
    }
   ],
   "source": [
    "D631_dic"
   ]
  },
  {
   "cell_type": "code",
   "execution_count": 177,
   "metadata": {},
   "outputs": [
    {
     "data": {
      "text/plain": [
       "dict"
      ]
     },
     "execution_count": 177,
     "metadata": {},
     "output_type": "execute_result"
    }
   ],
   "source": [
    "type(D631_dic)"
   ]
  },
  {
   "cell_type": "code",
   "execution_count": 188,
   "metadata": {},
   "outputs": [
    {
     "data": {
      "text/plain": [
       "[<matplotlib.lines.Line2D at 0x7faccfea81d0>]"
      ]
     },
     "execution_count": 188,
     "metadata": {},
     "output_type": "execute_result"
    },
    {
     "data": {
      "image/png": "[encoded data removed]",
      "text/plain": [
       "<Figure size 432x288 with 1 Axes>"
      ]
     },
     "metadata": {
      "needs_background": "light"
     },
     "output_type": "display_data"
    }
   ],
   "source": [
    "plt.plot(D631_dic['Rad'],D631_dic['Vobs'])"
   ]
  },
  {
   "cell_type": "code",
   "execution_count": 192,
   "metadata": {},
   "outputs": [
    {
     "data": {
      "text/plain": [
       "Text(0.5, 1.0, 'D631 data')"
      ]
     },
     "execution_count": 192,
     "metadata": {},
     "output_type": "execute_result"
    },
    {
     "data": {
      "image/png": "[encoded data removed]",
      "text/plain": [
       "<Figure size 432x288 with 1 Axes>"
      ]
     },
     "metadata": {
      "needs_background": "light"
     },
     "output_type": "display_data"
    }
   ],
   "source": [
    "plt.errorbar(D631_dic['Rad'],D631_dic['Vobs'],yerr=D631_dic['errV'],fmt='.')\n",
    "plt.ylabel(r'$v_{c}(r)$[km/s]')\n",
    "plt.xlabel(\"r[kpc]\")\n",
    "plt.title('D631 data')"
   ]
  },
  {
   "cell_type": "code",
   "execution_count": 189,
   "metadata": {},
   "outputs": [],
   "source": [
    "import json"
   ]
  },
  {
   "cell_type": "code",
   "execution_count": 190,
   "metadata": {},
   "outputs": [],
   "source": [
    "a_file = open(\"data_D631.json\", \"w\")\n",
    "json.dump(D631_dic, a_file)\n",
    "a_file.close()"
   ]
  },
  {
   "cell_type": "code",
   "execution_count": 191,
   "metadata": {},
   "outputs": [
    {
     "name": "stdout",
     "output_type": "stream",
     "text": [
      "{\"Rad\": [0.45, 0.9, 1.35, 1.8, 2.25, 2.69, 3.14, 3.59, 4.04, 4.49, 4.94, 5.39, 5.84, 6.29, 6.74, 7.19], \"Vobs\": [8.41, 17.8, 26.0, 30.9, 34.7, 38.8, 42.5, 45.6, 48.8, 51.8, 54.8, 56.6, 58.4, 58.5, 57.7, 57.3], \"errV\": [1.58, 2.22, 2.35, 2.22, 1.82, 1.81, 1.57, 1.59, 1.83, 1.91, 2.19, 2.73, 3.27, 3.95, 4.07, 3.94]}\n"
     ]
    }
   ],
   "source": [
    "a_file = open(\"data_D631.json\", \"r\")\n",
    "output = a_file.read()\n",
    "print(output)"
   ]
  },
  {
   "cell_type": "markdown",
   "metadata": {},
   "source": [
    "# Uso de archivos .json  (JavaScript Object Notation) "
   ]
  },
  {
   "cell_type": "markdown",
   "metadata": {},
   "source": [
    "### API y .json"
   ]
  },
  {
   "cell_type": "code",
   "execution_count": 66,
   "metadata": {},
   "outputs": [],
   "source": [
    "import requests"
   ]
  },
  {
   "cell_type": "code",
   "execution_count": 72,
   "metadata": {},
   "outputs": [],
   "source": [
    "response = requests.get('https://api.covid19api.com/summary').text"
   ]
  },
  {
   "cell_type": "code",
   "execution_count": 73,
   "metadata": {
    "collapsed": true,
    "jupyter": {
     "outputs_hidden": true
    }
   },
   "outputs": [
    {
     "data": {
      "text/plain": [
       "'{\"Message\":\"\",\"Global\":{\"NewConfirmed\":560934,\"TotalConfirmed\":50387839,\"NewDeaths\":5741,\"TotalDeaths\":1256103,\"NewRecovered\":253207,\"TotalRecovered\":33025966},\"Countries\":[{\"Country\":\"Afghanistan\",\"CountryCode\":\"AF\",\"Slug\":\"afghanistan\",\"NewConfirmed\":59,\"TotalConfirmed\":42092,\"NewDeaths\":2,\"TotalDeaths\":1558,\"NewRecovered\":12,\"TotalRecovered\":34458,\"Date\":\"2020-11-09T21:01:31Z\",\"Premium\":{}},{\"Country\":\"Albania\",\"CountryCode\":\"AL\",\"Slug\":\"albania\",\"NewConfirmed\":501,\"TotalConfirmed\":24206,\"NewDeaths\":2,\"TotalDeaths\":559,\"NewRecovered\":90,\"TotalRecovered\":12092,\"Date\":\"2020-11-09T21:01:31Z\",\"Premium\":{}},{\"Country\":\"Algeria\",\"CountryCode\":\"DZ\",\"Slug\":\"algeria\",\"NewConfirmed\":670,\"TotalConfirmed\":62051,\"NewDeaths\":12,\"TotalDeaths\":2048,\"NewRecovered\":254,\"TotalRecovered\":42037,\"Date\":\"2020-11-09T21:01:31Z\",\"Premium\":{}},{\"Country\":\"Andorra\",\"CountryCode\":\"AD\",\"Slug\":\"andorra\",\"NewConfirmed\":64,\"TotalConfirmed\":5383,\"NewDeaths\":0,\"TotalDeaths\":75,\"NewRecovered\":205,\"TotalRecovered\":4248,\"Date\":\"2020-11-09T21:01:31Z\",\"Premium\":{}},{\"Country\":\"Angola\",\"CountryCode\":\"AO\",\"Slug\":\"angola\",\"NewConfirmed\":98,\"TotalConfirmed\":12433,\"NewDeaths\":4,\"TotalDeaths\":307,\"NewRecovered\":252,\"TotalRecovered\":5899,\"Date\":\"2020-11-09T21:01:31Z\",\"Premium\":{}},{\"Country\":\"Antigua and Barbuda\",\"CountryCode\":\"AG\",\"Slug\":\"antigua-and-barbuda\",\"NewConfirmed\":0,\"TotalConfirmed\":131,\"NewDeaths\":0,\"TotalDeaths\":3,\"NewRecovered\":0,\"TotalRecovered\":122,\"Date\":\"2020-11-09T21:01:31Z\",\"Premium\":{}},{\"Country\":\"Argentina\",\"CountryCode\":\"AR\",\"Slug\":\"argentina\",\"NewConfirmed\":5331,\"TotalConfirmed\":1242182,\"NewDeaths\":212,\"TotalDeaths\":33560,\"NewRecovered\":9598,\"TotalRecovered\":1062911,\"Date\":\"2020-11-09T21:01:31Z\",\"Premium\":{}},{\"Country\":\"Armenia\",\"CountryCode\":\"AM\",\"Slug\":\"armenia\",\"NewConfirmed\":2175,\"TotalConfirmed\":106424,\"NewDeaths\":26,\"TotalDeaths\":1559,\"NewRecovered\":921,\"TotalRecovered\":64179,\"Date\":\"2020-11-09T21:01:31Z\",\"Premium\":{}},{\"Country\":\"Australia\",\"CountryCode\":\"AU\",\"Slug\":\"australia\",\"NewConfirmed\":7,\"TotalConfirmed\":27665,\"NewDeaths\":0,\"TotalDeaths\":907,\"NewRecovered\":0,\"TotalRecovered\":25451,\"Date\":\"2020-11-09T21:01:31Z\",\"Premium\":{}},{\"Country\":\"Austria\",\"CountryCode\":\"AT\",\"Slug\":\"austria\",\"NewConfirmed\":5933,\"TotalConfirmed\":153153,\"NewDeaths\":34,\"TotalDeaths\":1411,\"NewRecovered\":3446,\"TotalRecovered\":91719,\"Date\":\"2020-11-09T21:01:31Z\",\"Premium\":{}},{\"Country\":\"Azerbaijan\",\"CountryCode\":\"AZ\",\"Slug\":\"azerbaijan\",\"NewConfirmed\":1663,\"TotalConfirmed\":65411,\"NewDeaths\":16,\"TotalDeaths\":840,\"NewRecovered\":859,\"TotalRecovered\":48908,\"Date\":\"2020-11-09T21:01:31Z\",\"Premium\":{}},{\"Country\":\"Bahamas\",\"CountryCode\":\"BS\",\"Slug\":\"bahamas\",\"NewConfirmed\":0,\"TotalConfirmed\":6947,\"NewDeaths\":0,\"TotalDeaths\":152,\"NewRecovered\":0,\"TotalRecovered\":4942,\"Date\":\"2020-11-09T21:01:31Z\",\"Premium\":{}},{\"Country\":\"Bahrain\",\"CountryCode\":\"BH\",\"Slug\":\"bahrain\",\"NewConfirmed\":192,\"TotalConfirmed\":83456,\"NewDeaths\":0,\"TotalDeaths\":329,\"NewRecovered\":237,\"TotalRecovered\":81000,\"Date\":\"2020-11-09T21:01:31Z\",\"Premium\":{}},{\"Country\":\"Bangladesh\",\"CountryCode\":\"BD\",\"Slug\":\"bangladesh\",\"NewConfirmed\":1474,\"TotalConfirmed\":420238,\"NewDeaths\":18,\"TotalDeaths\":6067,\"NewRecovered\":1577,\"TotalRecovered\":338145,\"Date\":\"2020-11-09T21:01:31Z\",\"Premium\":{}},{\"Country\":\"Barbados\",\"CountryCode\":\"BB\",\"Slug\":\"barbados\",\"NewConfirmed\":0,\"TotalConfirmed\":242,\"NewDeaths\":0,\"TotalDeaths\":7,\"NewRecovered\":0,\"TotalRecovered\":228,\"Date\":\"2020-11-09T21:01:31Z\",\"Premium\":{}},{\"Country\":\"Belarus\",\"CountryCode\":\"BY\",\"Slug\":\"belarus\",\"NewConfirmed\":996,\"TotalConfirmed\":106279,\"NewDeaths\":3,\"TotalDeaths\":1007,\"NewRecovered\":940,\"TotalRecovered\":90998,\"Date\":\"2020-11-09T21:01:31Z\",\"Premium\":{}},{\"Country\":\"Belgium\",\"CountryCode\":\"BE\",\"Slug\":\"belgium\",\"NewConfirmed\":6621,\"TotalConfirmed\":500789,\"NewDeaths\":148,\"TotalDeaths\":13055,\"NewRecovered\":294,\"TotalRecovered\":29651,\"Date\":\"2020-11-09T21:01:31Z\",\"Premium\":{}},{\"Country\":\"Belize\",\"CountryCode\":\"BZ\",\"Slug\":\"belize\",\"NewConfirmed\":100,\"TotalConfirmed\":4176,\"NewDeaths\":2,\"TotalDeaths\":70,\"NewRecovered\":11,\"TotalRecovered\":2364,\"Date\":\"2020-11-09T21:01:31Z\",\"Premium\":{}},{\"Country\":\"Benin\",\"CountryCode\":\"BJ\",\"Slug\":\"benin\",\"NewConfirmed\":0,\"TotalConfirmed\":2745,\"NewDeaths\":0,\"TotalDeaths\":43,\"NewRecovered\":0,\"TotalRecovered\":2466,\"Date\":\"2020-11-09T21:01:31Z\",\"Premium\":{}},{\"Country\":\"Bhutan\",\"CountryCode\":\"BT\",\"Slug\":\"bhutan\",\"NewConfirmed\":0,\"TotalConfirmed\":359,\"NewDeaths\":0,\"TotalDeaths\":0,\"NewRecovered\":0,\"TotalRecovered\":338,\"Date\":\"2020-11-09T21:01:31Z\",\"Premium\":{}},{\"Country\":\"Bolivia\",\"CountryCode\":\"BO\",\"Slug\":\"bolivia\",\"NewConfirmed\":48,\"TotalConfirmed\":142475,\"NewDeaths\":5,\"TotalDeaths\":8795,\"NewRecovered\":241,\"TotalRecovered\":114466,\"Date\":\"2020-11-09T21:01:31Z\",\"Premium\":{}},{\"Country\":\"Bosnia and Herzegovina\",\"CountryCode\":\"BA\",\"Slug\":\"bosnia-and-herzegovina\",\"NewConfirmed\":1211,\"TotalConfirmed\":62423,\"NewDeaths\":20,\"TotalDeaths\":1510,\"NewRecovered\":285,\"TotalRecovered\":30939,\"Date\":\"2020-11-09T21:01:31Z\",\"Premium\":{}},{\"Country\":\"Botswana\",\"CountryCode\":\"BW\",\"Slug\":\"botswana\",\"NewConfirmed\":0,\"TotalConfirmed\":7835,\"NewDeaths\":0,\"TotalDeaths\":27,\"NewRecovered\":0,\"TotalRecovered\":5534,\"Date\":\"2020-11-09T21:01:31Z\",\"Premium\":{}},{\"Country\":\"Brazil\",\"CountryCode\":\"BR\",\"Slug\":\"brazil\",\"NewConfirmed\":10554,\"TotalConfirmed\":5664115,\"NewDeaths\":128,\"TotalDeaths\":162397,\"NewRecovered\":8531,\"TotalRecovered\":5147172,\"Date\":\"2020-11-09T21:01:31Z\",\"Premium\":{}},{\"Country\":\"Brunei Darussalam\",\"CountryCode\":\"BN\",\"Slug\":\"brunei\",\"NewConfirmed\":0,\"TotalConfirmed\":148,\"NewDeaths\":0,\"TotalDeaths\":3,\"NewRecovered\":0,\"TotalRecovered\":144,\"Date\":\"2020-11-09T21:01:31Z\",\"Premium\":{}},{\"Country\":\"Bulgaria\",\"CountryCode\":\"BG\",\"Slug\":\"bulgaria\",\"NewConfirmed\":675,\"TotalConfirmed\":75160,\"NewDeaths\":33,\"TotalDeaths\":1665,\"NewRecovered\":603,\"TotalRecovered\":24408,\"Date\":\"2020-11-09T21:01:31Z\",\"Premium\":{}},{\"Country\":\"Burkina Faso\",\"CountryCode\":\"BF\",\"Slug\":\"burkina-faso\",\"NewConfirmed\":4,\"TotalConfirmed\":2569,\"NewDeaths\":0,\"TotalDeaths\":67,\"NewRecovered\":11,\"TotalRecovered\":2381,\"Date\":\"2020-11-09T21:01:31Z\",\"Premium\":{}},{\"Country\":\"Burundi\",\"CountryCode\":\"BI\",\"Slug\":\"burundi\",\"NewConfirmed\":0,\"TotalConfirmed\":612,\"NewDeaths\":0,\"TotalDeaths\":1,\"NewRecovered\":38,\"TotalRecovered\":549,\"Date\":\"2020-11-09T21:01:31Z\",\"Premium\":{}},{\"Country\":\"Cambodia\",\"CountryCode\":\"KH\",\"Slug\":\"cambodia\",\"NewConfirmed\":2,\"TotalConfirmed\":297,\"NewDeaths\":0,\"TotalDeaths\":0,\"NewRecovered\":0,\"TotalRecovered\":288,\"Date\":\"2020-11-09T21:01:31Z\",\"Premium\":{}},{\"Country\":\"Cameroon\",\"CountryCode\":\"CM\",\"Slug\":\"cameroon\",\"NewConfirmed\":79,\"TotalConfirmed\":22421,\"NewDeaths\":4,\"TotalDeaths\":433,\"NewRecovered\":359,\"TotalRecovered\":21510,\"Date\":\"2020-11-09T21:01:31Z\",\"Premium\":{}},{\"Country\":\"Canada\",\"CountryCode\":\"CA\",\"Slug\":\"canada\",\"NewConfirmed\":3943,\"TotalConfirmed\":267150,\"NewDeaths\":28,\"TotalDeaths\":10574,\"NewRecovered\":1941,\"TotalRecovered\":218279,\"Date\":\"2020-11-09T21:01:31Z\",\"Premium\":{}},{\"Country\":\"Cape Verde\",\"CountryCode\":\"CV\",\"Slug\":\"cape-verde\",\"NewConfirmed\":78,\"TotalConfirmed\":9369,\"NewDeaths\":0,\"TotalDeaths\":100,\"NewRecovered\":34,\"TotalRecovered\":8465,\"Date\":\"2020-11-09T21:01:31Z\",\"Premium\":{}},{\"Country\":\"Central African Republic\",\"CountryCode\":\"CF\",\"Slug\":\"central-african-republic\",\"NewConfirmed\":0,\"TotalConfirmed\":4879,\"NewDeaths\":0,\"TotalDeaths\":62,\"NewRecovered\":0,\"TotalRecovered\":1924,\"Date\":\"2020-11-09T21:01:31Z\",\"Premium\":{}},{\"Country\":\"Chad\",\"CountryCode\":\"TD\",\"Slug\":\"chad\",\"NewConfirmed\":4,\"TotalConfirmed\":1547,\"NewDeaths\":0,\"TotalDeaths\":99,\"NewRecovered\":17,\"TotalRecovered\":1382,\"Date\":\"2020-11-09T21:01:31Z\",\"Premium\":{}},{\"Country\":\"Chile\",\"CountryCode\":\"CL\",\"Slug\":\"chile\",\"NewConfirmed\":1581,\"TotalConfirmed\":521558,\"NewDeaths\":44,\"TotalDeaths\":14543,\"NewRecovered\":1559,\"TotalRecovered\":497411,\"Date\":\"2020-11-09T21:01:31Z\",\"Premium\":{}},{\"Country\":\"China\",\"CountryCode\":\"CN\",\"Slug\":\"china\",\"NewConfirmed\":43,\"TotalConfirmed\":91665,\"NewDeaths\":0,\"TotalDeaths\":4741,\"NewRecovered\":25,\"TotalRecovered\":86369,\"Date\":\"2020-11-09T21:01:31Z\",\"Premium\":{}},{\"Country\":\"Colombia\",\"CountryCode\":\"CO\",\"Slug\":\"colombia\",\"NewConfirmed\":7440,\"TotalConfirmed\":1143887,\"NewDeaths\":196,\"TotalDeaths\":32791,\"NewRecovered\":9000,\"TotalRecovered\":1038082,\"Date\":\"2020-11-09T21:01:31Z\",\"Premium\":{}},{\"Country\":\"Comoros\",\"CountryCode\":\"KM\",\"Slug\":\"comoros\",\"NewConfirmed\":0,\"TotalConfirmed\":563,\"NewDeaths\":0,\"TotalDeaths\":7,\"NewRecovered\":0,\"TotalRecovered\":532,\"Date\":\"2020-11-09T21:01:31Z\",\"Premium\":{}},{\"Country\":\"Congo (Brazzaville)\",\"CountryCode\":\"CG\",\"Slug\":\"congo-brazzaville\",\"NewConfirmed\":0,\"TotalConfirmed\":5379,\"NewDeaths\":0,\"TotalDeaths\":92,\"NewRecovered\":0,\"TotalRecovered\":3887,\"Date\":\"2020-11-09T21:01:31Z\",\"Premium\":{}},{\"Country\":\"Congo (Kinshasa)\",\"CountryCode\":\"CD\",\"Slug\":\"congo-kinshasa\",\"NewConfirmed\":41,\"TotalConfirmed\":11591,\"NewDeaths\":0,\"TotalDeaths\":316,\"NewRecovered\":0,\"TotalRecovered\":10838,\"Date\":\"2020-11-09T21:01:31Z\",\"Premium\":{}},{\"Country\":\"Costa Rica\",\"CountryCode\":\"CR\",\"Slug\":\"costa-rica\",\"NewConfirmed\":0,\"TotalConfirmed\":116363,\"NewDeaths\":0,\"TotalDeaths\":1464,\"NewRecovered\":0,\"TotalRecovered\":71119,\"Date\":\"2020-11-09T21:01:31Z\",\"Premium\":{}},{\"Country\":\"Croatia\",\"CountryCode\":\"HR\",\"Slug\":\"croatia\",\"NewConfirmed\":2543,\"TotalConfirmed\":67247,\"NewDeaths\":42,\"TotalDeaths\":794,\"NewRecovered\":2365,\"TotalRecovered\":50775,\"Date\":\"2020-11-09T21:01:31Z\",\"Premium\":{}},{\"Country\":\"Cuba\",\"CountryCode\":\"CU\",\"Slug\":\"cuba\",\"NewConfirmed\":30,\"TotalConfirmed\":7297,\"NewDeaths\":0,\"TotalDeaths\":130,\"NewRecovered\":98,\"TotalRecovered\":6680,\"Date\":\"2020-11-09T21:01:31Z\",\"Premium\":{}},{\"Country\":\"Cyprus\",\"CountryCode\":\"CY\",\"Slug\":\"cyprus\",\"NewConfirmed\":116,\"TotalConfirmed\":5987,\"NewDeaths\":0,\"TotalDeaths\":35,\"NewRecovered\":0,\"TotalRecovered\":1882,\"Date\":\"2020-11-09T21:01:31Z\",\"Premium\":{}},{\"Country\":\"Czech Republic\",\"CountryCode\":\"CZ\",\"Slug\":\"czech-republic\",\"NewConfirmed\":3608,\"TotalConfirmed\":414828,\"NewDeaths\":177,\"TotalDeaths\":4858,\"NewRecovered\":5372,\"TotalRecovered\":243129,\"Date\":\"2020-11-09T21:01:31Z\",\"Premium\":{}},{\"Country\":\"Côte d\\'Ivoire\",\"CountryCode\":\"CI\",\"Slug\":\"cote-divoire\",\"NewConfirmed\":19,\"TotalConfirmed\":20832,\"NewDeaths\":0,\"TotalDeaths\":126,\"NewRecovered\":19,\"TotalRecovered\":20508,\"Date\":\"2020-11-09T21:01:31Z\",\"Premium\":{}},{\"Country\":\"Denmark\",\"CountryCode\":\"DK\",\"Slug\":\"denmark\",\"NewConfirmed\":893,\"TotalConfirmed\":55635,\"NewDeaths\":3,\"TotalDeaths\":743,\"NewRecovered\":815,\"TotalRecovered\":40815,\"Date\":\"2020-11-09T21:01:31Z\",\"Premium\":{}},{\"Country\":\"Djibouti\",\"CountryCode\":\"DJ\",\"Slug\":\"djibouti\",\"NewConfirmed\":3,\"TotalConfirmed\":5608,\"NewDeaths\":0,\"TotalDeaths\":61,\"NewRecovered\":1,\"TotalRecovered\":5486,\"Date\":\"2020-11-09T21:01:31Z\",\"Premium\":{}},{\"Country\":\"Dominica\",\"CountryCode\":\"DM\",\"Slug\":\"dominica\",\"NewConfirmed\":0,\"TotalConfirmed\":63,\"NewDeaths\":0,\"TotalDeaths\":0,\"NewRecovered\":0,\"TotalRecovered\":35,\"Date\":\"2020-11-09T21:01:31Z\",\"Premium\":{}},{\"Country\":\"Dominican Republic\",\"CountryCode\":\"DO\",\"Slug\":\"dominican-republic\",\"NewConfirmed\":537,\"TotalConfirmed\":130182,\"NewDeaths\":2,\"TotalDeaths\":2265,\"NewRecovered\":441,\"TotalRecovered\":108021,\"Date\":\"2020-11-09T21:01:31Z\",\"Premium\":{}},{\"Country\":\"Ecuador\",\"CountryCode\":\"EC\",\"Slug\":\"ecuador\",\"NewConfirmed\":1421,\"TotalConfirmed\":174907,\"NewDeaths\":15,\"TotalDeaths\":12830,\"NewRecovered\":5908,\"TotalRecovered\":154956,\"Date\":\"2020-11-09T21:01:31Z\",\"Premium\":{}},{\"Country\":\"Egypt\",\"CountryCode\":\"EG\",\"Slug\":\"egypt\",\"NewConfirmed\":239,\"TotalConfirmed\":109201,\"NewDeaths\":13,\"TotalDeaths\":6368,\"NewRecovered\":103,\"TotalRecovered\":100342,\"Date\":\"2020-11-09T21:01:31Z\",\"Premium\":{}},{\"Country\":\"El Salvador\",\"CountryCode\":\"SV\",\"Slug\":\"el-salvador\",\"NewConfirmed\":0,\"TotalConfirmed\":35145,\"NewDeaths\":4,\"TotalDeaths\":1010,\"NewRecovered\":0,\"TotalRecovered\":31172,\"Date\":\"2020-11-09T21:01:31Z\",\"Premium\":{}},{\"Country\":\"Equatorial Guinea\",\"CountryCode\":\"GQ\",\"Slug\":\"equatorial-guinea\",\"NewConfirmed\":0,\"TotalConfirmed\":5092,\"NewDeaths\":0,\"TotalDeaths\":85,\"NewRecovered\":0,\"TotalRecovered\":4968,\"Date\":\"2020-11-09T21:01:31Z\",\"Premium\":{}},{\"Country\":\"Eritrea\",\"CountryCode\":\"ER\",\"Slug\":\"eritrea\",\"NewConfirmed\":0,\"TotalConfirmed\":491,\"NewDeaths\":0,\"TotalDeaths\":0,\"NewRecovered\":0,\"TotalRecovered\":438,\"Date\":\"2020-11-09T21:01:31Z\",\"Premium\":{}},{\"Country\":\"Estonia\",\"CountryCode\":\"EE\",\"Slug\":\"estonia\",\"NewConfirmed\":192,\"TotalConfirmed\":6125,\"NewDeaths\":2,\"TotalDeaths\":75,\"NewRecovered\":9,\"TotalRecovered\":4193,\"Date\":\"2020-11-09T21:01:31Z\",\"Premium\":{}},{\"Country\":\"Ethiopia\",\"CountryCode\":\"ET\",\"Slug\":\"ethiopia\",\"NewConfirmed\":474,\"TotalConfirmed\":99675,\"NewDeaths\":5,\"TotalDeaths\":1523,\"NewRecovered\":818,\"TotalRecovered\":59766,\"Date\":\"2020-11-09T21:01:31Z\",\"Premium\":{}},{\"Country\":\"Fiji\",\"CountryCode\":\"FJ\",\"Slug\":\"fiji\",\"NewConfirmed\":0,\"TotalConfirmed\":34,\"NewDeaths\":0,\"TotalDeaths\":2,\"NewRecovered\":0,\"TotalRecovered\":31,\"Date\":\"2020-11-09T21:01:31Z\",\"Premium\":{}},{\"Country\":\"Finland\",\"CountryCode\":\"FI\",\"Slug\":\"finland\",\"NewConfirmed\":412,\"TotalConfirmed\":17797,\"NewDeaths\":0,\"TotalDeaths\":362,\"NewRecovered\":0,\"TotalRecovered\":12700,\"Date\":\"2020-11-09T21:01:31Z\",\"Premium\":{}},{\"Country\":\"France\",\"CountryCode\":\"FR\",\"Slug\":\"france\",\"NewConfirmed\":125414,\"TotalConfirmed\":1835187,\"NewDeaths\":270,\"TotalDeaths\":40490,\"NewRecovered\":676,\"TotalRecovered\":134095,\"Date\":\"2020-11-09T21:01:31Z\",\"Premium\":{}},{\"Country\":\"Gabon\",\"CountryCode\":\"GA\",\"Slug\":\"gabon\",\"NewConfirmed\":0,\"TotalConfirmed\":9022,\"NewDeaths\":0,\"TotalDeaths\":55,\"NewRecovered\":0,\"TotalRecovered\":8878,\"Date\":\"2020-11-09T21:01:31Z\",\"Premium\":{}},{\"Country\":\"Gambia\",\"CountryCode\":\"GM\",\"Slug\":\"gambia\",\"NewConfirmed\":0,\"TotalConfirmed\":3684,\"NewDeaths\":0,\"TotalDeaths\":121,\"NewRecovered\":6,\"TotalRecovered\":3533,\"Date\":\"2020-11-09T21:01:31Z\",\"Premium\":{}},{\"Country\":\"Georgia\",\"CountryCode\":\"GE\",\"Slug\":\"georgia\",\"NewConfirmed\":2901,\"TotalConfirmed\":57753,\"NewDeaths\":34,\"TotalDeaths\":475,\"NewRecovered\":2799,\"TotalRecovered\":42572,\"Date\":\"2020-11-09T21:01:31Z\",\"Premium\":{}},{\"Country\":\"Germany\",\"CountryCode\":\"DE\",\"Slug\":\"germany\",\"NewConfirmed\":14510,\"TotalConfirmed\":682624,\"NewDeaths\":66,\"TotalDeaths\":11372,\"NewRecovered\":7667,\"TotalRecovered\":421151,\"Date\":\"2020-11-09T21:01:31Z\",\"Premium\":{}},{\"Country\":\"Ghana\",\"CountryCode\":\"GH\",\"Slug\":\"ghana\",\"NewConfirmed\":198,\"TotalConfirmed\":49102,\"NewDeaths\":0,\"TotalDeaths\":320,\"NewRecovered\":115,\"TotalRecovered\":47726,\"Date\":\"2020-11-09T21:01:31Z\",\"Premium\":{}},{\"Country\":\"Greece\",\"CountryCode\":\"GR\",\"Slug\":\"greece\",\"NewConfirmed\":1889,\"TotalConfirmed\":56698,\"NewDeaths\":35,\"TotalDeaths\":784,\"NewRecovered\":0,\"TotalRecovered\":23074,\"Date\":\"2020-11-09T21:01:31Z\",\"Premium\":{}},{\"Country\":\"Grenada\",\"CountryCode\":\"GD\",\"Slug\":\"grenada\",\"NewConfirmed\":2,\"TotalConfirmed\":32,\"NewDeaths\":0,\"TotalDeaths\":0,\"NewRecovered\":0,\"TotalRecovered\":27,\"Date\":\"2020-11-09T21:01:31Z\",\"Premium\":{}},{\"Country\":\"Guatemala\",\"CountryCode\":\"GT\",\"Slug\":\"guatemala\",\"NewConfirmed\":212,\"TotalConfirmed\":111262,\"NewDeaths\":10,\"TotalDeaths\":3821,\"NewRecovered\":327,\"TotalRecovered\":101135,\"Date\":\"2020-11-09T21:01:31Z\",\"Premium\":{}},{\"Country\":\"Guinea\",\"CountryCode\":\"GN\",\"Slug\":\"guinea\",\"NewConfirmed\":14,\"TotalConfirmed\":12414,\"NewDeaths\":1,\"TotalDeaths\":74,\"NewRecovered\":37,\"TotalRecovered\":10817,\"Date\":\"2020-11-09T21:01:31Z\",\"Premium\":{}},{\"Country\":\"Guinea-Bissau\",\"CountryCode\":\"GW\",\"Slug\":\"guinea-bissau\",\"NewConfirmed\":0,\"TotalConfirmed\":2414,\"NewDeaths\":0,\"TotalDeaths\":42,\"NewRecovered\":0,\"TotalRecovered\":1862,\"Date\":\"2020-11-09T21:01:31Z\",\"Premium\":{}},{\"Country\":\"Guyana\",\"CountryCode\":\"GY\",\"Slug\":\"guyana\",\"NewConfirmed\":30,\"TotalConfirmed\":4514,\"NewDeaths\":0,\"TotalDeaths\":134,\"NewRecovered\":15,\"TotalRecovered\":3526,\"Date\":\"2020-11-09T21:01:31Z\",\"Premium\":{}},{\"Country\":\"Haiti\",\"CountryCode\":\"HT\",\"Slug\":\"haiti\",\"NewConfirmed\":0,\"TotalConfirmed\":9127,\"NewDeaths\":0,\"TotalDeaths\":232,\"NewRecovered\":0,\"TotalRecovered\":7618,\"Date\":\"2020-11-09T21:01:31Z\",\"Premium\":{}},{\"Country\":\"Holy See (Vatican City State)\",\"CountryCode\":\"VA\",\"Slug\":\"holy-see-vatican-city-state\",\"NewConfirmed\":0,\"TotalConfirmed\":27,\"NewDeaths\":0,\"TotalDeaths\":0,\"NewRecovered\":0,\"TotalRecovered\":15,\"Date\":\"2020-11-09T21:01:31Z\",\"Premium\":{}},{\"Country\":\"Honduras\",\"CountryCode\":\"HN\",\"Slug\":\"honduras\",\"NewConfirmed\":0,\"TotalConfirmed\":100041,\"NewDeaths\":0,\"TotalDeaths\":2745,\"NewRecovered\":0,\"TotalRecovered\":42815,\"Date\":\"2020-11-09T21:01:31Z\",\"Premium\":{}},{\"Country\":\"Hungary\",\"CountryCode\":\"HU\",\"Slug\":\"hungary\",\"NewConfirmed\":4673,\"TotalConfirmed\":109616,\"NewDeaths\":81,\"TotalDeaths\":2438,\"NewRecovered\":223,\"TotalRecovered\":25070,\"Date\":\"2020-11-09T21:01:31Z\",\"Premium\":{}},{\"Country\":\"Iceland\",\"CountryCode\":\"IS\",\"Slug\":\"iceland\",\"NewConfirmed\":15,\"TotalConfirmed\":5078,\"NewDeaths\":2,\"TotalDeaths\":20,\"NewRecovered\":88,\"TotalRecovered\":4423,\"Date\":\"2020-11-09T21:01:31Z\",\"Premium\":{}},{\"Country\":\"India\",\"CountryCode\":\"IN\",\"Slug\":\"india\",\"NewConfirmed\":45903,\"TotalConfirmed\":8553657,\"NewDeaths\":490,\"TotalDeaths\":126611,\"NewRecovered\":48405,\"TotalRecovered\":7917373,\"Date\":\"2020-11-09T21:01:31Z\",\"Premium\":{}},{\"Country\":\"Indonesia\",\"CountryCode\":\"ID\",\"Slug\":\"indonesia\",\"NewConfirmed\":3880,\"TotalConfirmed\":437716,\"NewDeaths\":74,\"TotalDeaths\":14614,\"NewRecovered\":3881,\"TotalRecovered\":368298,\"Date\":\"2020-11-09T21:01:31Z\",\"Premium\":{}},{\"Country\":\"Iran, Islamic Republic of\",\"CountryCode\":\"IR\",\"Slug\":\"iran\",\"NewConfirmed\":9236,\"TotalConfirmed\":682486,\"NewDeaths\":459,\"TotalDeaths\":38291,\"NewRecovered\":5176,\"TotalRecovered\":520329,\"Date\":\"2020-11-09T21:01:31Z\",\"Premium\":{}},{\"Country\":\"Iraq\",\"CountryCode\":\"IQ\",\"Slug\":\"iraq\",\"NewConfirmed\":2530,\"TotalConfirmed\":498549,\"NewDeaths\":44,\"TotalDeaths\":11327,\"NewRecovered\":3002,\"TotalRecovered\":428928,\"Date\":\"2020-11-09T21:01:31Z\",\"Premium\":{}},{\"Country\":\"Ireland\",\"CountryCode\":\"IE\",\"Slug\":\"ireland\",\"NewConfirmed\":539,\"TotalConfirmed\":65394,\"NewDeaths\":2,\"TotalDeaths\":1947,\"NewRecovered\":0,\"TotalRecovered\":23364,\"Date\":\"2020-11-09T21:01:31Z\",\"Premium\":{}},{\"Country\":\"Israel\",\"CountryCode\":\"IL\",\"Slug\":\"israel\",\"NewConfirmed\":292,\"TotalConfirmed\":319241,\"NewDeaths\":10,\"TotalDeaths\":2674,\"NewRecovered\":1090,\"TotalRecovered\":308563,\"Date\":\"2020-11-09T21:01:31Z\",\"Premium\":{}},{\"Country\":\"Italy\",\"CountryCode\":\"IT\",\"Slug\":\"italy\",\"NewConfirmed\":32614,\"TotalConfirmed\":935104,\"NewDeaths\":331,\"TotalDeaths\":41394,\"NewRecovered\":6183,\"TotalRecovered\":335074,\"Date\":\"2020-11-09T21:01:31Z\",\"Premium\":{}},{\"Country\":\"Jamaica\",\"CountryCode\":\"JM\",\"Slug\":\"jamaica\",\"NewConfirmed\":34,\"TotalConfirmed\":9506,\"NewDeaths\":3,\"TotalDeaths\":221,\"NewRecovered\":56,\"TotalRecovered\":4934,\"Date\":\"2020-11-09T21:01:31Z\",\"Premium\":{}},{\"Country\":\"Japan\",\"CountryCode\":\"JP\",\"Slug\":\"japan\",\"NewConfirmed\":955,\"TotalConfirmed\":108394,\"NewDeaths\":6,\"TotalDeaths\":1821,\"NewRecovered\":727,\"TotalRecovered\":96430,\"Date\":\"2020-11-09T21:01:31Z\",\"Premium\":{}},{\"Country\":\"Jordan\",\"CountryCode\":\"JO\",\"Slug\":\"jordan\",\"NewConfirmed\":4519,\"TotalConfirmed\":109321,\"NewDeaths\":52,\"TotalDeaths\":1233,\"NewRecovered\":179,\"TotalRecovered\":8808,\"Date\":\"2020-11-09T21:01:31Z\",\"Premium\":{}},{\"Country\":\"Kazakhstan\",\"CountryCode\":\"KZ\",\"Slug\":\"kazakhstan\",\"NewConfirmed\":610,\"TotalConfirmed\":116772,\"NewDeaths\":0,\"TotalDeaths\":1857,\"NewRecovered\":175,\"TotalRecovered\":107843,\"Date\":\"2020-11-09T21:01:31Z\",\"Premium\":{}},{\"Country\":\"Kenya\",\"CountryCode\":\"KE\",\"Slug\":\"kenya\",\"NewConfirmed\":719,\"TotalConfirmed\":62488,\"NewDeaths\":8,\"TotalDeaths\":1111,\"NewRecovered\":912,\"TotalRecovered\":41931,\"Date\":\"2020-11-09T21:01:31Z\",\"Premium\":{}},{\"Country\":\"Korea (South)\",\"CountryCode\":\"KR\",\"Slug\":\"korea-south\",\"NewConfirmed\":126,\"TotalConfirmed\":27553,\"NewDeaths\":2,\"TotalDeaths\":480,\"NewRecovered\":61,\"TotalRecovered\":25029,\"Date\":\"2020-11-09T21:01:31Z\",\"Premium\":{}},{\"Country\":\"Kuwait\",\"CountryCode\":\"KW\",\"Slug\":\"kuwait\",\"NewConfirmed\":538,\"TotalConfirmed\":131743,\"NewDeaths\":3,\"TotalDeaths\":811,\"NewRecovered\":687,\"TotalRecovered\":122576,\"Date\":\"2020-11-09T21:01:31Z\",\"Premium\":{}},{\"Country\":\"Kyrgyzstan\",\"CountryCode\":\"KG\",\"Slug\":\"kyrgyzstan\",\"NewConfirmed\":515,\"TotalConfirmed\":62819,\"NewDeaths\":5,\"TotalDeaths\":1177,\"NewRecovered\":546,\"TotalRecovered\":53952,\"Date\":\"2020-11-09T21:01:31Z\",\"Premium\":{}},{\"Country\":\"Lao PDR\",\"CountryCode\":\"LA\",\"Slug\":\"lao-pdr\",\"NewConfirmed\":0,\"TotalConfirmed\":24,\"NewDeaths\":0,\"TotalDeaths\":0,\"NewRecovered\":0,\"TotalRecovered\":23,\"Date\":\"2020-11-09T21:01:31Z\",\"Premium\":{}},{\"Country\":\"Latvia\",\"CountryCode\":\"LV\",\"Slug\":\"latvia\",\"NewConfirmed\":215,\"TotalConfirmed\":8095,\"NewDeaths\":3,\"TotalDeaths\":99,\"NewRecovered\":22,\"TotalRecovered\":1466,\"Date\":\"2020-11-09T21:01:31Z\",\"Premium\":{}},{\"Country\":\"Lebanon\",\"CountryCode\":\"LB\",\"Slug\":\"lebanon\",\"NewConfirmed\":1139,\"TotalConfirmed\":94236,\"NewDeaths\":10,\"TotalDeaths\":723,\"NewRecovered\":0,\"TotalRecovered\":46602,\"Date\":\"2020-11-09T21:01:31Z\",\"Premium\":{}},{\"Country\":\"Lesotho\",\"CountryCode\":\"LS\",\"Slug\":\"lesotho\",\"NewConfirmed\":0,\"TotalConfirmed\":1967,\"NewDeaths\":0,\"TotalDeaths\":44,\"NewRecovered\":0,\"TotalRecovered\":1024,\"Date\":\"2020-11-09T21:01:31Z\",\"Premium\":{}},{\"Country\":\"Liberia\",\"CountryCode\":\"LR\",\"Slug\":\"liberia\",\"NewConfirmed\":0,\"TotalConfirmed\":1442,\"NewDeaths\":0,\"TotalDeaths\":82,\"NewRecovered\":0,\"TotalRecovered\":1310,\"Date\":\"2020-11-09T21:01:31Z\",\"Premium\":{}},{\"Country\":\"Libya\",\"CountryCode\":\"LY\",\"Slug\":\"libya\",\"NewConfirmed\":1078,\"TotalConfirmed\":68117,\"NewDeaths\":9,\"TotalDeaths\":929,\"NewRecovered\":876,\"TotalRecovered\":40119,\"Date\":\"2020-11-09T21:01:31Z\",\"Premium\":{}},{\"Country\":\"Liechtenstein\",\"CountryCode\":\"LI\",\"Slug\":\"liechtenstein\",\"NewConfirmed\":23,\"TotalConfirmed\":788,\"NewDeaths\":0,\"TotalDeaths\":3,\"NewRecovered\":0,\"TotalRecovered\":481,\"Date\":\"2020-11-09T21:01:31Z\",\"Premium\":{}},{\"Country\":\"Lithuania\",\"CountryCode\":\"LT\",\"Slug\":\"lithuania\",\"NewConfirmed\":1980,\"TotalConfirmed\":24699,\"NewDeaths\":4,\"TotalDeaths\":207,\"NewRecovered\":85,\"TotalRecovered\":5700,\"Date\":\"2020-11-09T21:01:31Z\",\"Premium\":{}},{\"Country\":\"Luxembourg\",\"CountryCode\":\"LU\",\"Slug\":\"luxembourg\",\"NewConfirmed\":0,\"TotalConfirmed\":21806,\"NewDeaths\":0,\"TotalDeaths\":180,\"NewRecovered\":0,\"TotalRecovered\":12094,\"Date\":\"2020-11-09T21:01:31Z\",\"Premium\":{}},{\"Country\":\"Macao, SAR China\",\"CountryCode\":\"MO\",\"Slug\":\"macao-sar-china\",\"NewConfirmed\":0,\"TotalConfirmed\":0,\"NewDeaths\":0,\"TotalDeaths\":0,\"NewRecovered\":0,\"TotalRecovered\":0,\"Date\":\"2020-11-09T21:01:31Z\",\"Premium\":{}},{\"Country\":\"Macedonia, Republic of\",\"CountryCode\":\"MK\",\"Slug\":\"macedonia\",\"NewConfirmed\":978,\"TotalConfirmed\":39760,\"NewDeaths\":26,\"TotalDeaths\":1136,\"NewRecovered\":24,\"TotalRecovered\":23035,\"Date\":\"2020-11-09T21:01:31Z\",\"Premium\":{}},{\"Country\":\"Madagascar\",\"CountryCode\":\"MG\",\"Slug\":\"madagascar\",\"NewConfirmed\":112,\"TotalConfirmed\":17223,\"NewDeaths\":5,\"TotalDeaths\":249,\"NewRecovered\":107,\"TotalRecovered\":16516,\"Date\":\"2020-11-09T21:01:31Z\",\"Premium\":{}},{\"Country\":\"Malawi\",\"CountryCode\":\"MW\",\"Slug\":\"malawi\",\"NewConfirmed\":3,\"TotalConfirmed\":5951,\"NewDeaths\":0,\"TotalDeaths\":184,\"NewRecovered\":2,\"TotalRecovered\":5348,\"Date\":\"2020-11-09T21:01:31Z\",\"Premium\":{}},{\"Country\":\"Malaysia\",\"CountryCode\":\"MY\",\"Slug\":\"malaysia\",\"NewConfirmed\":852,\"TotalConfirmed\":40209,\"NewDeaths\":4,\"TotalDeaths\":286,\"NewRecovered\":825,\"TotalRecovered\":28234,\"Date\":\"2020-11-09T21:01:31Z\",\"Premium\":{}},{\"Country\":\"Maldives\",\"CountryCode\":\"MV\",\"Slug\":\"maldives\",\"NewConfirmed\":24,\"TotalConfirmed\":11986,\"NewDeaths\":0,\"TotalDeaths\":39,\"NewRecovered\":26,\"TotalRecovered\":11092,\"Date\":\"2020-11-09T21:01:31Z\",\"Premium\":{}},{\"Country\":\"Mali\",\"CountryCode\":\"ML\",\"Slug\":\"mali\",\"NewConfirmed\":30,\"TotalConfirmed\":3706,\"NewDeaths\":0,\"TotalDeaths\":137,\"NewRecovered\":6,\"TotalRecovered\":2828,\"Date\":\"2020-11-09T21:01:31Z\",\"Premium\":{}},{\"Country\":\"Malta\",\"CountryCode\":\"MT\",\"Slug\":\"malta\",\"NewConfirmed\":102,\"TotalConfirmed\":7141,\"NewDeaths\":2,\"TotalDeaths\":76,\"NewRecovered\":103,\"TotalRecovered\":5103,\"Date\":\"2020-11-09T21:01:31Z\",\"Premium\":{}},{\"Country\":\"Marshall Islands\",\"CountryCode\":\"MH\",\"Slug\":\"marshall-islands\",\"NewConfirmed\":0,\"TotalConfirmed\":1,\"NewDeaths\":0,\"TotalDeaths\":0,\"NewRecovered\":0,\"TotalRecovered\":0,\"Date\":\"2020-11-09T21:01:31Z\",\"Premium\":{}},{\"Country\":\"Mauritania\",\"CountryCode\":\"MR\",\"Slug\":\"mauritania\",\"NewConfirmed\":6,\"TotalConfirmed\":7820,\"NewDeaths\":0,\"TotalDeaths\":165,\"NewRecovered\":6,\"TotalRecovered\":7479,\"Date\":\"2020-11-09T21:01:31Z\",\"Premium\":{}},{\"Country\":\"Mauritius\",\"CountryCode\":\"MU\",\"Slug\":\"mauritius\",\"NewConfirmed\":0,\"TotalConfirmed\":453,\"NewDeaths\":0,\"TotalDeaths\":10,\"NewRecovered\":0,\"TotalRecovered\":416,\"Date\":\"2020-11-09T21:01:31Z\",\"Premium\":{}},{\"Country\":\"Mexico\",\"CountryCode\":\"MX\",\"Slug\":\"mexico\",\"NewConfirmed\":5887,\"TotalConfirmed\":967825,\"NewDeaths\":219,\"TotalDeaths\":95027,\"NewRecovered\":7696,\"TotalRecovered\":824355,\"Date\":\"2020-11-09T21:01:31Z\",\"Premium\":{}},{\"Country\":\"Moldova\",\"CountryCode\":\"MD\",\"Slug\":\"moldova\",\"NewConfirmed\":671,\"TotalConfirmed\":82346,\"NewDeaths\":2,\"TotalDeaths\":1893,\"NewRecovered\":1194,\"TotalRecovered\":62508,\"Date\":\"2020-11-09T21:01:31Z\",\"Premium\":{}},{\"Country\":\"Monaco\",\"CountryCode\":\"MC\",\"Slug\":\"monaco\",\"NewConfirmed\":3,\"TotalConfirmed\":486,\"NewDeaths\":0,\"TotalDeaths\":2,\"NewRecovered\":14,\"TotalRecovered\":345,\"Date\":\"2020-11-09T21:01:31Z\",\"Premium\":{}},{\"Country\":\"Mongolia\",\"CountryCode\":\"MN\",\"Slug\":\"mongolia\",\"NewConfirmed\":5,\"TotalConfirmed\":362,\"NewDeaths\":0,\"TotalDeaths\":0,\"NewRecovered\":3,\"TotalRecovered\":317,\"Date\":\"2020-11-09T21:01:31Z\",\"Premium\":{}},{\"Country\":\"Montenegro\",\"CountryCode\":\"ME\",\"Slug\":\"montenegro\",\"NewConfirmed\":426,\"TotalConfirmed\":22805,\"NewDeaths\":4,\"TotalDeaths\":337,\"NewRecovered\":349,\"TotalRecovered\":15893,\"Date\":\"2020-11-09T21:01:31Z\",\"Premium\":{}},{\"Country\":\"Morocco\",\"CountryCode\":\"MA\",\"Slug\":\"morocco\",\"NewConfirmed\":4596,\"TotalConfirmed\":256781,\"NewDeaths\":75,\"TotalDeaths\":4272,\"NewRecovered\":4245,\"TotalRecovered\":209801,\"Date\":\"2020-11-09T21:01:31Z\",\"Premium\":{}},{\"Country\":\"Mozambique\",\"CountryCode\":\"MZ\",\"Slug\":\"mozambique\",\"NewConfirmed\":191,\"TotalConfirmed\":13768,\"NewDeaths\":0,\"TotalDeaths\":99,\"NewRecovered\":24,\"TotalRecovered\":11605,\"Date\":\"2020-11-09T21:01:31Z\",\"Premium\":{}},{\"Country\":\"Myanmar\",\"CountryCode\":\"MM\",\"Slug\":\"myanmar\",\"NewConfirmed\":1029,\"TotalConfirmed\":61377,\"NewDeaths\":24,\"TotalDeaths\":1420,\"NewRecovered\":1090,\"TotalRecovered\":45756,\"Date\":\"2020-11-09T21:01:31Z\",\"Premium\":{}},{\"Country\":\"Namibia\",\"CountryCode\":\"NA\",\"Slug\":\"namibia\",\"NewConfirmed\":41,\"TotalConfirmed\":13211,\"NewDeaths\":0,\"TotalDeaths\":134,\"NewRecovered\":3,\"TotalRecovered\":11605,\"Date\":\"2020-11-09T21:01:31Z\",\"Premium\":{}},{\"Country\":\"Nepal\",\"CountryCode\":\"NP\",\"Slug\":\"nepal\",\"NewConfirmed\":2817,\"TotalConfirmed\":194453,\"NewDeaths\":21,\"TotalDeaths\":1108,\"NewRecovered\":2812,\"TotalRecovered\":157926,\"Date\":\"2020-11-09T21:01:31Z\",\"Premium\":{}},{\"Country\":\"Netherlands\",\"CountryCode\":\"NL\",\"Slug\":\"netherlands\",\"NewConfirmed\":5664,\"TotalConfirmed\":410065,\"NewDeaths\":44,\"TotalDeaths\":8004,\"NewRecovered\":0,\"TotalRecovered\":0,\"Date\":\"2020-11-09T21:01:31Z\",\"Premium\":{}},{\"Country\":\"New Zealand\",\"CountryCode\":\"NZ\",\"Slug\":\"new-zealand\",\"NewConfirmed\":4,\"TotalConfirmed\":1986,\"NewDeaths\":0,\"TotalDeaths\":25,\"NewRecovered\":1,\"TotalRecovered\":1910,\"Date\":\"2020-11-09T21:01:31Z\",\"Premium\":{}},{\"Country\":\"Nicaragua\",\"CountryCode\":\"NI\",\"Slug\":\"nicaragua\",\"NewConfirmed\":0,\"TotalConfirmed\":5591,\"NewDeaths\":0,\"TotalDeaths\":157,\"NewRecovered\":0,\"TotalRecovered\":4225,\"Date\":\"2020-11-09T21:01:31Z\",\"Premium\":{}},{\"Country\":\"Niger\",\"CountryCode\":\"NE\",\"Slug\":\"niger\",\"NewConfirmed\":1,\"TotalConfirmed\":1243,\"NewDeaths\":0,\"TotalDeaths\":69,\"NewRecovered\":1,\"TotalRecovered\":1144,\"Date\":\"2020-11-09T21:01:31Z\",\"Premium\":{}},{\"Country\":\"Nigeria\",\"CountryCode\":\"NG\",\"Slug\":\"nigeria\",\"NewConfirmed\":300,\"TotalConfirmed\":64090,\"NewDeaths\":0,\"TotalDeaths\":1155,\"NewRecovered\":26,\"TotalRecovered\":59910,\"Date\":\"2020-11-09T21:01:31Z\",\"Premium\":{}},{\"Country\":\"Norway\",\"CountryCode\":\"NO\",\"Slug\":\"norway\",\"NewConfirmed\":489,\"TotalConfirmed\":24732,\"NewDeaths\":0,\"TotalDeaths\":285,\"NewRecovered\":0,\"TotalRecovered\":11863,\"Date\":\"2020-11-09T21:01:31Z\",\"Premium\":{}},{\"Country\":\"Oman\",\"CountryCode\":\"OM\",\"Slug\":\"oman\",\"NewConfirmed\":973,\"TotalConfirmed\":118140,\"NewDeaths\":15,\"TotalDeaths\":1301,\"NewRecovered\":1313,\"TotalRecovered\":108681,\"Date\":\"2020-11-09T21:01:31Z\",\"Premium\":{}},{\"Country\":\"Pakistan\",\"CountryCode\":\"PK\",\"Slug\":\"pakistan\",\"NewConfirmed\":1650,\"TotalConfirmed\":344839,\"NewDeaths\":9,\"TotalDeaths\":6977,\"NewRecovered\":464,\"TotalRecovered\":318881,\"Date\":\"2020-11-09T21:01:31Z\",\"Premium\":{}},{\"Country\":\"Palestinian Territory\",\"CountryCode\":\"PS\",\"Slug\":\"palestine\",\"NewConfirmed\":501,\"TotalConfirmed\":58158,\"NewDeaths\":3,\"TotalDeaths\":515,\"NewRecovered\":432,\"TotalRecovered\":50407,\"Date\":\"2020-11-09T21:01:31Z\",\"Premium\":{}},{\"Country\":\"Panama\",\"CountryCode\":\"PA\",\"Slug\":\"panama\",\"NewConfirmed\":1021,\"TotalConfirmed\":139527,\"NewDeaths\":17,\"TotalDeaths\":2798,\"NewRecovered\":947,\"TotalRecovered\":117770,\"Date\":\"2020-11-09T21:01:31Z\",\"Premium\":{}},{\"Country\":\"Papua New Guinea\",\"CountryCode\":\"PG\",\"Slug\":\"papua-new-guinea\",\"NewConfirmed\":2,\"TotalConfirmed\":599,\"NewDeaths\":0,\"TotalDeaths\":7,\"NewRecovered\":5,\"TotalRecovered\":585,\"Date\":\"2020-11-09T21:01:31Z\",\"Premium\":{}},{\"Country\":\"Paraguay\",\"CountryCode\":\"PY\",\"Slug\":\"paraguay\",\"NewConfirmed\":648,\"TotalConfirmed\":67589,\"NewDeaths\":11,\"TotalDeaths\":1490,\"NewRecovered\":668,\"TotalRecovered\":47822,\"Date\":\"2020-11-09T21:01:31Z\",\"Premium\":{}},{\"Country\":\"Peru\",\"CountryCode\":\"PE\",\"Slug\":\"peru\",\"NewConfirmed\":2507,\"TotalConfirmed\":920010,\"NewDeaths\":38,\"TotalDeaths\":34821,\"NewRecovered\":7432,\"TotalRecovered\":846215,\"Date\":\"2020-11-09T21:01:31Z\",\"Premium\":{}},{\"Country\":\"Philippines\",\"CountryCode\":\"PH\",\"Slug\":\"philippines\",\"NewConfirmed\":2434,\"TotalConfirmed\":396395,\"NewDeaths\":54,\"TotalDeaths\":7539,\"NewRecovered\":11422,\"TotalRecovered\":361638,\"Date\":\"2020-11-09T21:01:31Z\",\"Premium\":{}},{\"Country\":\"Poland\",\"CountryCode\":\"PL\",\"Slug\":\"poland\",\"NewConfirmed\":24785,\"TotalConfirmed\":546425,\"NewDeaths\":236,\"TotalDeaths\":7872,\"NewRecovered\":8853,\"TotalRecovered\":209363,\"Date\":\"2020-11-09T21:01:31Z\",\"Premium\":{}},{\"Country\":\"Portugal\",\"CountryCode\":\"PT\",\"Slug\":\"portugal\",\"NewConfirmed\":5784,\"TotalConfirmed\":179324,\"NewDeaths\":48,\"TotalDeaths\":2896,\"NewRecovered\":2034,\"TotalRecovered\":99781,\"Date\":\"2020-11-09T21:01:31Z\",\"Premium\":{}},{\"Country\":\"Qatar\",\"CountryCode\":\"QA\",\"Slug\":\"qatar\",\"NewConfirmed\":190,\"TotalConfirmed\":134203,\"NewDeaths\":0,\"TotalDeaths\":232,\"NewRecovered\":201,\"TotalRecovered\":131276,\"Date\":\"2020-11-09T21:01:31Z\",\"Premium\":{}},{\"Country\":\"Republic of Kosovo\",\"CountryCode\":\"XK\",\"Slug\":\"kosovo\",\"NewConfirmed\":0,\"TotalConfirmed\":22934,\"NewDeaths\":0,\"TotalDeaths\":732,\"NewRecovered\":0,\"TotalRecovered\":15981,\"Date\":\"2020-11-09T21:01:31Z\",\"Premium\":{}},{\"Country\":\"Romania\",\"CountryCode\":\"RO\",\"Slug\":\"romania\",\"NewConfirmed\":6752,\"TotalConfirmed\":303751,\"NewDeaths\":86,\"TotalDeaths\":7879,\"NewRecovered\":3565,\"TotalRecovered\":204679,\"Date\":\"2020-11-09T21:01:31Z\",\"Premium\":{}},{\"Country\":\"Russian Federation\",\"CountryCode\":\"RU\",\"Slug\":\"russia\",\"NewConfirmed\":20248,\"TotalConfirmed\":1760420,\"NewDeaths\":282,\"TotalDeaths\":30292,\"NewRecovered\":11321,\"TotalRecovered\":1315928,\"Date\":\"2020-11-09T21:01:31Z\",\"Premium\":{}},{\"Country\":\"Rwanda\",\"CountryCode\":\"RW\",\"Slug\":\"rwanda\",\"NewConfirmed\":9,\"TotalConfirmed\":5222,\"NewDeaths\":0,\"TotalDeaths\":36,\"NewRecovered\":7,\"TotalRecovered\":4960,\"Date\":\"2020-11-09T21:01:31Z\",\"Premium\":{}},{\"Country\":\"Réunion\",\"CountryCode\":\"RE\",\"Slug\":\"réunion\",\"NewConfirmed\":0,\"TotalConfirmed\":0,\"NewDeaths\":0,\"TotalDeaths\":0,\"NewRecovered\":0,\"TotalRecovered\":0,\"Date\":\"2020-11-09T21:01:31Z\",\"Premium\":{}},{\"Country\":\"Saint Kitts and Nevis\",\"CountryCode\":\"KN\",\"Slug\":\"saint-kitts-and-nevis\",\"NewConfirmed\":0,\"TotalConfirmed\":19,\"NewDeaths\":0,\"TotalDeaths\":0,\"NewRecovered\":0,\"TotalRecovered\":19,\"Date\":\"2020-11-09T21:01:31Z\",\"Premium\":{}},{\"Country\":\"Saint Lucia\",\"CountryCode\":\"LC\",\"Slug\":\"saint-lucia\",\"NewConfirmed\":8,\"TotalConfirmed\":131,\"NewDeaths\":0,\"TotalDeaths\":0,\"NewRecovered\":0,\"TotalRecovered\":32,\"Date\":\"2020-11-09T21:01:31Z\",\"Premium\":{}},{\"Country\":\"Saint Vincent and Grenadines\",\"CountryCode\":\"VC\",\"Slug\":\"saint-vincent-and-the-grenadines\",\"NewConfirmed\":0,\"TotalConfirmed\":76,\"NewDeaths\":0,\"TotalDeaths\":0,\"NewRecovered\":0,\"TotalRecovered\":72,\"Date\":\"2020-11-09T21:01:31Z\",\"Premium\":{}},{\"Country\":\"San Marino\",\"CountryCode\":\"SM\",\"Slug\":\"san-marino\",\"NewConfirmed\":0,\"TotalConfirmed\":1043,\"NewDeaths\":0,\"TotalDeaths\":42,\"NewRecovered\":0,\"TotalRecovered\":754,\"Date\":\"2020-11-09T21:01:31Z\",\"Premium\":{}},{\"Country\":\"Sao Tome and Principe\",\"CountryCode\":\"ST\",\"Slug\":\"sao-tome-and-principe\",\"NewConfirmed\":0,\"TotalConfirmed\":962,\"NewDeaths\":0,\"TotalDeaths\":16,\"NewRecovered\":2,\"TotalRecovered\":912,\"Date\":\"2020-11-09T21:01:31Z\",\"Premium\":{}},{\"Country\":\"Saudi Arabia\",\"CountryCode\":\"SA\",\"Slug\":\"saudi-arabia\",\"NewConfirmed\":363,\"TotalConfirmed\":350592,\"NewDeaths\":15,\"TotalDeaths\":5540,\"NewRecovered\":420,\"TotalRecovered\":337386,\"Date\":\"2020-11-09T21:01:31Z\",\"Premium\":{}},{\"Country\":\"Senegal\",\"CountryCode\":\"SN\",\"Slug\":\"senegal\",\"NewConfirmed\":15,\"TotalConfirmed\":15708,\"NewDeaths\":0,\"TotalDeaths\":326,\"NewRecovered\":19,\"TotalRecovered\":15336,\"Date\":\"2020-11-09T21:01:31Z\",\"Premium\":{}},{\"Country\":\"Serbia\",\"CountryCode\":\"RS\",\"Slug\":\"serbia\",\"NewConfirmed\":2112,\"TotalConfirmed\":62747,\"NewDeaths\":10,\"TotalDeaths\":890,\"NewRecovered\":0,\"TotalRecovered\":0,\"Date\":\"2020-11-09T21:01:31Z\",\"Premium\":{}},{\"Country\":\"Seychelles\",\"CountryCode\":\"SC\",\"Slug\":\"seychelles\",\"NewConfirmed\":0,\"TotalConfirmed\":158,\"NewDeaths\":0,\"TotalDeaths\":0,\"NewRecovered\":0,\"TotalRecovered\":155,\"Date\":\"2020-11-09T21:01:31Z\",\"Premium\":{}},{\"Country\":\"Sierra Leone\",\"CountryCode\":\"SL\",\"Slug\":\"sierra-leone\",\"NewConfirmed\":0,\"TotalConfirmed\":2381,\"NewDeaths\":0,\"TotalDeaths\":74,\"NewRecovered\":0,\"TotalRecovered\":1812,\"Date\":\"2020-11-09T21:01:31Z\",\"Premium\":{}},{\"Country\":\"Singapore\",\"CountryCode\":\"SG\",\"Slug\":\"singapore\",\"NewConfirmed\":2,\"TotalConfirmed\":58056,\"NewDeaths\":0,\"TotalDeaths\":28,\"NewRecovered\":7,\"TotalRecovered\":57975,\"Date\":\"2020-11-09T21:01:31Z\",\"Premium\":{}},{\"Country\":\"Slovakia\",\"CountryCode\":\"SK\",\"Slug\":\"slovakia\",\"NewConfirmed\":1828,\"TotalConfirmed\":75495,\"NewDeaths\":0,\"TotalDeaths\":351,\"NewRecovered\":1127,\"TotalRecovered\":19481,\"Date\":\"2020-11-09T21:01:31Z\",\"Premium\":{}},{\"Country\":\"Slovenia\",\"CountryCode\":\"SI\",\"Slug\":\"slovenia\",\"NewConfirmed\":891,\"TotalConfirmed\":45161,\"NewDeaths\":23,\"TotalDeaths\":554,\"NewRecovered\":1676,\"TotalRecovered\":22443,\"Date\":\"2020-11-09T21:01:31Z\",\"Premium\":{}},{\"Country\":\"Solomon Islands\",\"CountryCode\":\"SB\",\"Slug\":\"solomon-islands\",\"NewConfirmed\":0,\"TotalConfirmed\":13,\"NewDeaths\":0,\"TotalDeaths\":0,\"NewRecovered\":0,\"TotalRecovered\":4,\"Date\":\"2020-11-09T21:01:31Z\",\"Premium\":{}},{\"Country\":\"Somalia\",\"CountryCode\":\"SO\",\"Slug\":\"somalia\",\"NewConfirmed\":0,\"TotalConfirmed\":4229,\"NewDeaths\":0,\"TotalDeaths\":107,\"NewRecovered\":0,\"TotalRecovered\":3247,\"Date\":\"2020-11-09T21:01:31Z\",\"Premium\":{}},{\"Country\":\"South Africa\",\"CountryCode\":\"ZA\",\"Slug\":\"south-africa\",\"NewConfirmed\":1372,\"TotalConfirmed\":737278,\"NewDeaths\":20,\"TotalDeaths\":19809,\"NewRecovered\":950,\"TotalRecovered\":679688,\"Date\":\"2020-11-09T21:01:31Z\",\"Premium\":{}},{\"Country\":\"South Sudan\",\"CountryCode\":\"SS\",\"Slug\":\"south-sudan\",\"NewConfirmed\":0,\"TotalConfirmed\":2943,\"NewDeaths\":0,\"TotalDeaths\":59,\"NewRecovered\":0,\"TotalRecovered\":1290,\"Date\":\"2020-11-09T21:01:31Z\",\"Premium\":{}},{\"Country\":\"Spain\",\"CountryCode\":\"ES\",\"Slug\":\"spain\",\"NewConfirmed\":0,\"TotalConfirmed\":1328832,\"NewDeaths\":0,\"TotalDeaths\":38833,\"NewRecovered\":0,\"TotalRecovered\":150376,\"Date\":\"2020-11-09T21:01:31Z\",\"Premium\":{}},{\"Country\":\"Sri Lanka\",\"CountryCode\":\"LK\",\"Slug\":\"sri-lanka\",\"NewConfirmed\":510,\"TotalConfirmed\":13929,\"NewDeaths\":1,\"TotalDeaths\":35,\"NewRecovered\":562,\"TotalRecovered\":8285,\"Date\":\"2020-11-09T21:01:31Z\",\"Premium\":{}},{\"Country\":\"Sudan\",\"CountryCode\":\"SD\",\"Slug\":\"sudan\",\"NewConfirmed\":147,\"TotalConfirmed\":14090,\"NewDeaths\":278,\"TotalDeaths\":1115,\"NewRecovered\":2720,\"TotalRecovered\":9484,\"Date\":\"2020-11-09T21:01:31Z\",\"Premium\":{}},{\"Country\":\"Suriname\",\"CountryCode\":\"SR\",\"Slug\":\"suriname\",\"NewConfirmed\":5,\"TotalConfirmed\":5239,\"NewDeaths\":0,\"TotalDeaths\":113,\"NewRecovered\":2,\"TotalRecovered\":5107,\"Date\":\"2020-11-09T21:01:31Z\",\"Premium\":{}},{\"Country\":\"Swaziland\",\"CountryCode\":\"SZ\",\"Slug\":\"swaziland\",\"NewConfirmed\":14,\"TotalConfirmed\":6003,\"NewDeaths\":0,\"TotalDeaths\":117,\"NewRecovered\":5,\"TotalRecovered\":5724,\"Date\":\"2020-11-09T21:01:31Z\",\"Premium\":{}},{\"Country\":\"Sweden\",\"CountryCode\":\"SE\",\"Slug\":\"sweden\",\"NewConfirmed\":0,\"TotalConfirmed\":146461,\"NewDeaths\":0,\"TotalDeaths\":6022,\"NewRecovered\":0,\"TotalRecovered\":0,\"Date\":\"2020-11-09T21:01:31Z\",\"Premium\":{}},{\"Country\":\"Switzerland\",\"CountryCode\":\"CH\",\"Slug\":\"switzerland\",\"NewConfirmed\":0,\"TotalConfirmed\":211913,\"NewDeaths\":23,\"TotalDeaths\":2772,\"NewRecovered\":0,\"TotalRecovered\":87300,\"Date\":\"2020-11-09T21:01:31Z\",\"Premium\":{}},{\"Country\":\"Syrian Arab Republic (Syria)\",\"CountryCode\":\"SY\",\"Slug\":\"syria\",\"NewConfirmed\":68,\"TotalConfirmed\":6215,\"NewDeaths\":4,\"TotalDeaths\":317,\"NewRecovered\":55,\"TotalRecovered\":2357,\"Date\":\"2020-11-09T21:01:31Z\",\"Premium\":{}},{\"Country\":\"Taiwan, Republic of China\",\"CountryCode\":\"TW\",\"Slug\":\"taiwan\",\"NewConfirmed\":4,\"TotalConfirmed\":577,\"NewDeaths\":0,\"TotalDeaths\":7,\"NewRecovered\":1,\"TotalRecovered\":524,\"Date\":\"2020-11-09T21:01:31Z\",\"Premium\":{}},{\"Country\":\"Tajikistan\",\"CountryCode\":\"TJ\",\"Slug\":\"tajikistan\",\"NewConfirmed\":42,\"TotalConfirmed\":11336,\"NewDeaths\":0,\"TotalDeaths\":83,\"NewRecovered\":59,\"TotalRecovered\":10653,\"Date\":\"2020-11-09T21:01:31Z\",\"Premium\":{}},{\"Country\":\"Tanzania, United Republic of\",\"CountryCode\":\"TZ\",\"Slug\":\"tanzania\",\"NewConfirmed\":0,\"TotalConfirmed\":509,\"NewDeaths\":0,\"TotalDeaths\":21,\"NewRecovered\":0,\"TotalRecovered\":183,\"Date\":\"2020-11-09T21:01:31Z\",\"Premium\":{}},{\"Country\":\"Thailand\",\"CountryCode\":\"TH\",\"Slug\":\"thailand\",\"NewConfirmed\":3,\"TotalConfirmed\":3840,\"NewDeaths\":0,\"TotalDeaths\":60,\"NewRecovered\":7,\"TotalRecovered\":3661,\"Date\":\"2020-11-09T21:01:31Z\",\"Premium\":{}},{\"Country\":\"Timor-Leste\",\"CountryCode\":\"TL\",\"Slug\":\"timor-leste\",\"NewConfirmed\":0,\"TotalConfirmed\":30,\"NewDeaths\":0,\"TotalDeaths\":0,\"NewRecovered\":0,\"TotalRecovered\":29,\"Date\":\"2020-11-09T21:01:31Z\",\"Premium\":{}},{\"Country\":\"Togo\",\"CountryCode\":\"TG\",\"Slug\":\"togo\",\"NewConfirmed\":33,\"TotalConfirmed\":2516,\"NewDeaths\":0,\"TotalDeaths\":57,\"NewRecovered\":5,\"TotalRecovered\":1732,\"Date\":\"2020-11-09T21:01:31Z\",\"Premium\":{}},{\"Country\":\"Trinidad and Tobago\",\"CountryCode\":\"TT\",\"Slug\":\"trinidad-and-tobago\",\"NewConfirmed\":11,\"TotalConfirmed\":5849,\"NewDeaths\":0,\"TotalDeaths\":111,\"NewRecovered\":5,\"TotalRecovered\":5132,\"Date\":\"2020-11-09T21:01:31Z\",\"Premium\":{}},{\"Country\":\"Tunisia\",\"CountryCode\":\"TN\",\"Slug\":\"tunisia\",\"NewConfirmed\":1576,\"TotalConfirmed\":71119,\"NewDeaths\":79,\"TotalDeaths\":1873,\"NewRecovered\":687,\"TotalRecovered\":48103,\"Date\":\"2020-11-09T21:01:31Z\",\"Premium\":{}},{\"Country\":\"Turkey\",\"CountryCode\":\"TR\",\"Slug\":\"turkey\",\"NewConfirmed\":2516,\"TotalConfirmed\":394255,\"NewDeaths\":84,\"TotalDeaths\":10887,\"NewRecovered\":2018,\"TotalRecovered\":338239,\"Date\":\"2020-11-09T21:01:31Z\",\"Premium\":{}},{\"Country\":\"Uganda\",\"CountryCode\":\"UG\",\"Slug\":\"uganda\",\"NewConfirmed\":337,\"TotalConfirmed\":14403,\"NewDeaths\":1,\"TotalDeaths\":132,\"NewRecovered\":18,\"TotalRecovered\":7771,\"Date\":\"2020-11-09T21:01:31Z\",\"Premium\":{}},{\"Country\":\"Ukraine\",\"CountryCode\":\"UA\",\"Slug\":\"ukraine\",\"NewConfirmed\":9647,\"TotalConfirmed\":474245,\"NewDeaths\":142,\"TotalDeaths\":8695,\"NewRecovered\":2808,\"TotalRecovered\":215357,\"Date\":\"2020-11-09T21:01:31Z\",\"Premium\":{}},{\"Country\":\"United Arab Emirates\",\"CountryCode\":\"AE\",\"Slug\":\"united-arab-emirates\",\"NewConfirmed\":1111,\"TotalConfirmed\":142143,\"NewDeaths\":0,\"TotalDeaths\":514,\"NewRecovered\":683,\"TotalRecovered\":138291,\"Date\":\"2020-11-09T21:01:31Z\",\"Premium\":{}},{\"Country\":\"United Kingdom\",\"CountryCode\":\"GB\",\"Slug\":\"united-kingdom\",\"NewConfirmed\":20580,\"TotalConfirmed\":1195350,\"NewDeaths\":156,\"TotalDeaths\":49134,\"NewRecovered\":18,\"TotalRecovered\":2983,\"Date\":\"2020-11-09T21:01:31Z\",\"Premium\":{}},{\"Country\":\"United States of America\",\"CountryCode\":\"US\",\"Slug\":\"united-states\",\"NewConfirmed\":105927,\"TotalConfirmed\":9968155,\"NewDeaths\":457,\"TotalDeaths\":237570,\"NewRecovered\":30026,\"TotalRecovered\":3881491,\"Date\":\"2020-11-09T21:01:31Z\",\"Premium\":{}},{\"Country\":\"Uruguay\",\"CountryCode\":\"UY\",\"Slug\":\"uruguay\",\"NewConfirmed\":73,\"TotalConfirmed\":3514,\"NewDeaths\":1,\"TotalDeaths\":62,\"NewRecovered\":40,\"TotalRecovered\":2943,\"Date\":\"2020-11-09T21:01:31Z\",\"Premium\":{}},{\"Country\":\"Uzbekistan\",\"CountryCode\":\"UZ\",\"Slug\":\"uzbekistan\",\"NewConfirmed\":363,\"TotalConfirmed\":68730,\"NewDeaths\":4,\"TotalDeaths\":585,\"NewRecovered\":421,\"TotalRecovered\":65971,\"Date\":\"2020-11-09T21:01:31Z\",\"Premium\":{}},{\"Country\":\"Venezuela (Bolivarian Republic)\",\"CountryCode\":\"VE\",\"Slug\":\"venezuela\",\"NewConfirmed\":185,\"TotalConfirmed\":94883,\"NewDeaths\":2,\"TotalDeaths\":826,\"NewRecovered\":253,\"TotalRecovered\":89755,\"Date\":\"2020-11-09T21:01:31Z\",\"Premium\":{}},{\"Country\":\"Viet Nam\",\"CountryCode\":\"VN\",\"Slug\":\"vietnam\",\"NewConfirmed\":0,\"TotalConfirmed\":1213,\"NewDeaths\":0,\"TotalDeaths\":35,\"NewRecovered\":0,\"TotalRecovered\":1070,\"Date\":\"2020-11-09T21:01:31Z\",\"Premium\":{}},{\"Country\":\"Western Sahara\",\"CountryCode\":\"EH\",\"Slug\":\"western-sahara\",\"NewConfirmed\":0,\"TotalConfirmed\":10,\"NewDeaths\":0,\"TotalDeaths\":1,\"NewRecovered\":0,\"TotalRecovered\":8,\"Date\":\"2020-11-09T21:01:31Z\",\"Premium\":{}},{\"Country\":\"Yemen\",\"CountryCode\":\"YE\",\"Slug\":\"yemen\",\"NewConfirmed\":0,\"TotalConfirmed\":2070,\"NewDeaths\":0,\"TotalDeaths\":602,\"NewRecovered\":0,\"TotalRecovered\":1375,\"Date\":\"2020-11-09T21:01:31Z\",\"Premium\":{}},{\"Country\":\"Zambia\",\"CountryCode\":\"ZM\",\"Slug\":\"zambia\",\"NewConfirmed\":46,\"TotalConfirmed\":16954,\"NewDeaths\":0,\"TotalDeaths\":349,\"NewRecovered\":77,\"TotalRecovered\":15950,\"Date\":\"2020-11-09T21:01:31Z\",\"Premium\":{}},{\"Country\":\"Zimbabwe\",\"CountryCode\":\"ZW\",\"Slug\":\"zimbabwe\",\"NewConfirmed\":33,\"TotalConfirmed\":8531,\"NewDeaths\":2,\"TotalDeaths\":253,\"NewRecovered\":10,\"TotalRecovered\":8005,\"Date\":\"2020-11-09T21:01:31Z\",\"Premium\":{}}],\"Date\":\"2020-11-09T21:01:31Z\"}\\n'"
      ]
     },
     "execution_count": 73,
     "metadata": {},
     "output_type": "execute_result"
    }
   ],
   "source": [
    "response"
   ]
  },
  {
   "cell_type": "code",
   "execution_count": 74,
   "metadata": {},
   "outputs": [],
   "source": [
    "import json"
   ]
  },
  {
   "cell_type": "code",
   "execution_count": 75,
   "metadata": {},
   "outputs": [],
   "source": [
    "response_info = json.loads(response)"
   ]
  },
  {
   "cell_type": "code",
   "execution_count": 76,
   "metadata": {
    "collapsed": true,
    "jupyter": {
     "outputs_hidden": true
    }
   },
   "outputs": [
    {
     "data": {
      "text/plain": [
       "{'Message': '',\n",
       " 'Global': {'NewConfirmed': 560934,\n",
       "  'TotalConfirmed': 50387839,\n",
       "  'NewDeaths': 5741,\n",
       "  'TotalDeaths': 1256103,\n",
       "  'NewRecovered': 253207,\n",
       "  'TotalRecovered': 33025966},\n",
       " 'Countries': [{'Country': 'Afghanistan',\n",
       "   'CountryCode': 'AF',\n",
       "   'Slug': 'afghanistan',\n",
       "   'NewConfirmed': 59,\n",
       "   'TotalConfirmed': 42092,\n",
       "   'NewDeaths': 2,\n",
       "   'TotalDeaths': 1558,\n",
       "   'NewRecovered': 12,\n",
       "   'TotalRecovered': 34458,\n",
       "   'Date': '2020-11-09T21:01:31Z',\n",
       "   'Premium': {}},\n",
       "  {'Country': 'Albania',\n",
       "   'CountryCode': 'AL',\n",
       "   'Slug': 'albania',\n",
       "   'NewConfirmed': 501,\n",
       "   'TotalConfirmed': 24206,\n",
       "   'NewDeaths': 2,\n",
       "   'TotalDeaths': 559,\n",
       "   'NewRecovered': 90,\n",
       "   'TotalRecovered': 12092,\n",
       "   'Date': '2020-11-09T21:01:31Z',\n",
       "   'Premium': {}},\n",
       "  {'Country': 'Algeria',\n",
       "   'CountryCode': 'DZ',\n",
       "   'Slug': 'algeria',\n",
       "   'NewConfirmed': 670,\n",
       "   'TotalConfirmed': 62051,\n",
       "   'NewDeaths': 12,\n",
       "   'TotalDeaths': 2048,\n",
       "   'NewRecovered': 254,\n",
       "   'TotalRecovered': 42037,\n",
       "   'Date': '2020-11-09T21:01:31Z',\n",
       "   'Premium': {}},\n",
       "  {'Country': 'Andorra',\n",
       "   'CountryCode': 'AD',\n",
       "   'Slug': 'andorra',\n",
       "   'NewConfirmed': 64,\n",
       "   'TotalConfirmed': 5383,\n",
       "   'NewDeaths': 0,\n",
       "   'TotalDeaths': 75,\n",
       "   'NewRecovered': 205,\n",
       "   'TotalRecovered': 4248,\n",
       "   'Date': '2020-11-09T21:01:31Z',\n",
       "   'Premium': {}},\n",
       "  {'Country': 'Angola',\n",
       "   'CountryCode': 'AO',\n",
       "   'Slug': 'angola',\n",
       "   'NewConfirmed': 98,\n",
       "   'TotalConfirmed': 12433,\n",
       "   'NewDeaths': 4,\n",
       "   'TotalDeaths': 307,\n",
       "   'NewRecovered': 252,\n",
       "   'TotalRecovered': 5899,\n",
       "   'Date': '2020-11-09T21:01:31Z',\n",
       "   'Premium': {}},\n",
       "  {'Country': 'Antigua and Barbuda',\n",
       "   'CountryCode': 'AG',\n",
       "   'Slug': 'antigua-and-barbuda',\n",
       "   'NewConfirmed': 0,\n",
       "   'TotalConfirmed': 131,\n",
       "   'NewDeaths': 0,\n",
       "   'TotalDeaths': 3,\n",
       "   'NewRecovered': 0,\n",
       "   'TotalRecovered': 122,\n",
       "   'Date': '2020-11-09T21:01:31Z',\n",
       "   'Premium': {}},\n",
       "  {'Country': 'Argentina',\n",
       "   'CountryCode': 'AR',\n",
       "   'Slug': 'argentina',\n",
       "   'NewConfirmed': 5331,\n",
       "   'TotalConfirmed': 1242182,\n",
       "   'NewDeaths': 212,\n",
       "   'TotalDeaths': 33560,\n",
       "   'NewRecovered': 9598,\n",
       "   'TotalRecovered': 1062911,\n",
       "   'Date': '2020-11-09T21:01:31Z',\n",
       "   'Premium': {}},\n",
       "  {'Country': 'Armenia',\n",
       "   'CountryCode': 'AM',\n",
       "   'Slug': 'armenia',\n",
       "   'NewConfirmed': 2175,\n",
       "   'TotalConfirmed': 106424,\n",
       "   'NewDeaths': 26,\n",
       "   'TotalDeaths': 1559,\n",
       "   'NewRecovered': 921,\n",
       "   'TotalRecovered': 64179,\n",
       "   'Date': '2020-11-09T21:01:31Z',\n",
       "   'Premium': {}},\n",
       "  {'Country': 'Australia',\n",
       "   'CountryCode': 'AU',\n",
       "   'Slug': 'australia',\n",
       "   'NewConfirmed': 7,\n",
       "   'TotalConfirmed': 27665,\n",
       "   'NewDeaths': 0,\n",
       "   'TotalDeaths': 907,\n",
       "   'NewRecovered': 0,\n",
       "   'TotalRecovered': 25451,\n",
       "   'Date': '2020-11-09T21:01:31Z',\n",
       "   'Premium': {}},\n",
       "  {'Country': 'Austria',\n",
       "   'CountryCode': 'AT',\n",
       "   'Slug': 'austria',\n",
       "   'NewConfirmed': 5933,\n",
       "   'TotalConfirmed': 153153,\n",
       "   'NewDeaths': 34,\n",
       "   'TotalDeaths': 1411,\n",
       "   'NewRecovered': 3446,\n",
       "   'TotalRecovered': 91719,\n",
       "   'Date': '2020-11-09T21:01:31Z',\n",
       "   'Premium': {}},\n",
       "  {'Country': 'Azerbaijan',\n",
       "   'CountryCode': 'AZ',\n",
       "   'Slug': 'azerbaijan',\n",
       "   'NewConfirmed': 1663,\n",
       "   'TotalConfirmed': 65411,\n",
       "   'NewDeaths': 16,\n",
       "   'TotalDeaths': 840,\n",
       "   'NewRecovered': 859,\n",
       "   'TotalRecovered': 48908,\n",
       "   'Date': '2020-11-09T21:01:31Z',\n",
       "   'Premium': {}},\n",
       "  {'Country': 'Bahamas',\n",
       "   'CountryCode': 'BS',\n",
       "   'Slug': 'bahamas',\n",
       "   'NewConfirmed': 0,\n",
       "   'TotalConfirmed': 6947,\n",
       "   'NewDeaths': 0,\n",
       "   'TotalDeaths': 152,\n",
       "   'NewRecovered': 0,\n",
       "   'TotalRecovered': 4942,\n",
       "   'Date': '2020-11-09T21:01:31Z',\n",
       "   'Premium': {}},\n",
       "  {'Country': 'Bahrain',\n",
       "   'CountryCode': 'BH',\n",
       "   'Slug': 'bahrain',\n",
       "   'NewConfirmed': 192,\n",
       "   'TotalConfirmed': 83456,\n",
       "   'NewDeaths': 0,\n",
       "   'TotalDeaths': 329,\n",
       "   'NewRecovered': 237,\n",
       "   'TotalRecovered': 81000,\n",
       "   'Date': '2020-11-09T21:01:31Z',\n",
       "   'Premium': {}},\n",
       "  {'Country': 'Bangladesh',\n",
       "   'CountryCode': 'BD',\n",
       "   'Slug': 'bangladesh',\n",
       "   'NewConfirmed': 1474,\n",
       "   'TotalConfirmed': 420238,\n",
       "   'NewDeaths': 18,\n",
       "   'TotalDeaths': 6067,\n",
       "   'NewRecovered': 1577,\n",
       "   'TotalRecovered': 338145,\n",
       "   'Date': '2020-11-09T21:01:31Z',\n",
       "   'Premium': {}},\n",
       "  {'Country': 'Barbados',\n",
       "   'CountryCode': 'BB',\n",
       "   'Slug': 'barbados',\n",
       "   'NewConfirmed': 0,\n",
       "   'TotalConfirmed': 242,\n",
       "   'NewDeaths': 0,\n",
       "   'TotalDeaths': 7,\n",
       "   'NewRecovered': 0,\n",
       "   'TotalRecovered': 228,\n",
       "   'Date': '2020-11-09T21:01:31Z',\n",
       "   'Premium': {}},\n",
       "  {'Country': 'Belarus',\n",
       "   'CountryCode': 'BY',\n",
       "   'Slug': 'belarus',\n",
       "   'NewConfirmed': 996,\n",
       "   'TotalConfirmed': 106279,\n",
       "   'NewDeaths': 3,\n",
       "   'TotalDeaths': 1007,\n",
       "   'NewRecovered': 940,\n",
       "   'TotalRecovered': 90998,\n",
       "   'Date': '2020-11-09T21:01:31Z',\n",
       "   'Premium': {}},\n",
       "  {'Country': 'Belgium',\n",
       "   'CountryCode': 'BE',\n",
       "   'Slug': 'belgium',\n",
       "   'NewConfirmed': 6621,\n",
       "   'TotalConfirmed': 500789,\n",
       "   'NewDeaths': 148,\n",
       "   'TotalDeaths': 13055,\n",
       "   'NewRecovered': 294,\n",
       "   'TotalRecovered': 29651,\n",
       "   'Date': '2020-11-09T21:01:31Z',\n",
       "   'Premium': {}},\n",
       "  {'Country': 'Belize',\n",
       "   'CountryCode': 'BZ',\n",
       "   'Slug': 'belize',\n",
       "   'NewConfirmed': 100,\n",
       "   'TotalConfirmed': 4176,\n",
       "   'NewDeaths': 2,\n",
       "   'TotalDeaths': 70,\n",
       "   'NewRecovered': 11,\n",
       "   'TotalRecovered': 2364,\n",
       "   'Date': '2020-11-09T21:01:31Z',\n",
       "   'Premium': {}},\n",
       "  {'Country': 'Benin',\n",
       "   'CountryCode': 'BJ',\n",
       "   'Slug': 'benin',\n",
       "   'NewConfirmed': 0,\n",
       "   'TotalConfirmed': 2745,\n",
       "   'NewDeaths': 0,\n",
       "   'TotalDeaths': 43,\n",
       "   'NewRecovered': 0,\n",
       "   'TotalRecovered': 2466,\n",
       "   'Date': '2020-11-09T21:01:31Z',\n",
       "   'Premium': {}},\n",
       "  {'Country': 'Bhutan',\n",
       "   'CountryCode': 'BT',\n",
       "   'Slug': 'bhutan',\n",
       "   'NewConfirmed': 0,\n",
       "   'TotalConfirmed': 359,\n",
       "   'NewDeaths': 0,\n",
       "   'TotalDeaths': 0,\n",
       "   'NewRecovered': 0,\n",
       "   'TotalRecovered': 338,\n",
       "   'Date': '2020-11-09T21:01:31Z',\n",
       "   'Premium': {}},\n",
       "  {'Country': 'Bolivia',\n",
       "   'CountryCode': 'BO',\n",
       "   'Slug': 'bolivia',\n",
       "   'NewConfirmed': 48,\n",
       "   'TotalConfirmed': 142475,\n",
       "   'NewDeaths': 5,\n",
       "   'TotalDeaths': 8795,\n",
       "   'NewRecovered': 241,\n",
       "   'TotalRecovered': 114466,\n",
       "   'Date': '2020-11-09T21:01:31Z',\n",
       "   'Premium': {}},\n",
       "  {'Country': 'Bosnia and Herzegovina',\n",
       "   'CountryCode': 'BA',\n",
       "   'Slug': 'bosnia-and-herzegovina',\n",
       "   'NewConfirmed': 1211,\n",
       "   'TotalConfirmed': 62423,\n",
       "   'NewDeaths': 20,\n",
       "   'TotalDeaths': 1510,\n",
       "   'NewRecovered': 285,\n",
       "   'TotalRecovered': 30939,\n",
       "   'Date': '2020-11-09T21:01:31Z',\n",
       "   'Premium': {}},\n",
       "  {'Country': 'Botswana',\n",
       "   'CountryCode': 'BW',\n",
       "   'Slug': 'botswana',\n",
       "   'NewConfirmed': 0,\n",
       "   'TotalConfirmed': 7835,\n",
       "   'NewDeaths': 0,\n",
       "   'TotalDeaths': 27,\n",
       "   'NewRecovered': 0,\n",
       "   'TotalRecovered': 5534,\n",
       "   'Date': '2020-11-09T21:01:31Z',\n",
       "   'Premium': {}},\n",
       "  {'Country': 'Brazil',\n",
       "   'CountryCode': 'BR',\n",
       "   'Slug': 'brazil',\n",
       "   'NewConfirmed': 10554,\n",
       "   'TotalConfirmed': 5664115,\n",
       "   'NewDeaths': 128,\n",
       "   'TotalDeaths': 162397,\n",
       "   'NewRecovered': 8531,\n",
       "   'TotalRecovered': 5147172,\n",
       "   'Date': '2020-11-09T21:01:31Z',\n",
       "   'Premium': {}},\n",
       "  {'Country': 'Brunei Darussalam',\n",
       "   'CountryCode': 'BN',\n",
       "   'Slug': 'brunei',\n",
       "   'NewConfirmed': 0,\n",
       "   'TotalConfirmed': 148,\n",
       "   'NewDeaths': 0,\n",
       "   'TotalDeaths': 3,\n",
       "   'NewRecovered': 0,\n",
       "   'TotalRecovered': 144,\n",
       "   'Date': '2020-11-09T21:01:31Z',\n",
       "   'Premium': {}},\n",
       "  {'Country': 'Bulgaria',\n",
       "   'CountryCode': 'BG',\n",
       "   'Slug': 'bulgaria',\n",
       "   'NewConfirmed': 675,\n",
       "   'TotalConfirmed': 75160,\n",
       "   'NewDeaths': 33,\n",
       "   'TotalDeaths': 1665,\n",
       "   'NewRecovered': 603,\n",
       "   'TotalRecovered': 24408,\n",
       "   'Date': '2020-11-09T21:01:31Z',\n",
       "   'Premium': {}},\n",
       "  {'Country': 'Burkina Faso',\n",
       "   'CountryCode': 'BF',\n",
       "   'Slug': 'burkina-faso',\n",
       "   'NewConfirmed': 4,\n",
       "   'TotalConfirmed': 2569,\n",
       "   'NewDeaths': 0,\n",
       "   'TotalDeaths': 67,\n",
       "   'NewRecovered': 11,\n",
       "   'TotalRecovered': 2381,\n",
       "   'Date': '2020-11-09T21:01:31Z',\n",
       "   'Premium': {}},\n",
       "  {'Country': 'Burundi',\n",
       "   'CountryCode': 'BI',\n",
       "   'Slug': 'burundi',\n",
       "   'NewConfirmed': 0,\n",
       "   'TotalConfirmed': 612,\n",
       "   'NewDeaths': 0,\n",
       "   'TotalDeaths': 1,\n",
       "   'NewRecovered': 38,\n",
       "   'TotalRecovered': 549,\n",
       "   'Date': '2020-11-09T21:01:31Z',\n",
       "   'Premium': {}},\n",
       "  {'Country': 'Cambodia',\n",
       "   'CountryCode': 'KH',\n",
       "   'Slug': 'cambodia',\n",
       "   'NewConfirmed': 2,\n",
       "   'TotalConfirmed': 297,\n",
       "   'NewDeaths': 0,\n",
       "   'TotalDeaths': 0,\n",
       "   'NewRecovered': 0,\n",
       "   'TotalRecovered': 288,\n",
       "   'Date': '2020-11-09T21:01:31Z',\n",
       "   'Premium': {}},\n",
       "  {'Country': 'Cameroon',\n",
       "   'CountryCode': 'CM',\n",
       "   'Slug': 'cameroon',\n",
       "   'NewConfirmed': 79,\n",
       "   'TotalConfirmed': 22421,\n",
       "   'NewDeaths': 4,\n",
       "   'TotalDeaths': 433,\n",
       "   'NewRecovered': 359,\n",
       "   'TotalRecovered': 21510,\n",
       "   'Date': '2020-11-09T21:01:31Z',\n",
       "   'Premium': {}},\n",
       "  {'Country': 'Canada',\n",
       "   'CountryCode': 'CA',\n",
       "   'Slug': 'canada',\n",
       "   'NewConfirmed': 3943,\n",
       "   'TotalConfirmed': 267150,\n",
       "   'NewDeaths': 28,\n",
       "   'TotalDeaths': 10574,\n",
       "   'NewRecovered': 1941,\n",
       "   'TotalRecovered': 218279,\n",
       "   'Date': '2020-11-09T21:01:31Z',\n",
       "   'Premium': {}},\n",
       "  {'Country': 'Cape Verde',\n",
       "   'CountryCode': 'CV',\n",
       "   'Slug': 'cape-verde',\n",
       "   'NewConfirmed': 78,\n",
       "   'TotalConfirmed': 9369,\n",
       "   'NewDeaths': 0,\n",
       "   'TotalDeaths': 100,\n",
       "   'NewRecovered': 34,\n",
       "   'TotalRecovered': 8465,\n",
       "   'Date': '2020-11-09T21:01:31Z',\n",
       "   'Premium': {}},\n",
       "  {'Country': 'Central African Republic',\n",
       "   'CountryCode': 'CF',\n",
       "   'Slug': 'central-african-republic',\n",
       "   'NewConfirmed': 0,\n",
       "   'TotalConfirmed': 4879,\n",
       "   'NewDeaths': 0,\n",
       "   'TotalDeaths': 62,\n",
       "   'NewRecovered': 0,\n",
       "   'TotalRecovered': 1924,\n",
       "   'Date': '2020-11-09T21:01:31Z',\n",
       "   'Premium': {}},\n",
       "  {'Country': 'Chad',\n",
       "   'CountryCode': 'TD',\n",
       "   'Slug': 'chad',\n",
       "   'NewConfirmed': 4,\n",
       "   'TotalConfirmed': 1547,\n",
       "   'NewDeaths': 0,\n",
       "   'TotalDeaths': 99,\n",
       "   'NewRecovered': 17,\n",
       "   'TotalRecovered': 1382,\n",
       "   'Date': '2020-11-09T21:01:31Z',\n",
       "   'Premium': {}},\n",
       "  {'Country': 'Chile',\n",
       "   'CountryCode': 'CL',\n",
       "   'Slug': 'chile',\n",
       "   'NewConfirmed': 1581,\n",
       "   'TotalConfirmed': 521558,\n",
       "   'NewDeaths': 44,\n",
       "   'TotalDeaths': 14543,\n",
       "   'NewRecovered': 1559,\n",
       "   'TotalRecovered': 497411,\n",
       "   'Date': '2020-11-09T21:01:31Z',\n",
       "   'Premium': {}},\n",
       "  {'Country': 'China',\n",
       "   'CountryCode': 'CN',\n",
       "   'Slug': 'china',\n",
       "   'NewConfirmed': 43,\n",
       "   'TotalConfirmed': 91665,\n",
       "   'NewDeaths': 0,\n",
       "   'TotalDeaths': 4741,\n",
       "   'NewRecovered': 25,\n",
       "   'TotalRecovered': 86369,\n",
       "   'Date': '2020-11-09T21:01:31Z',\n",
       "   'Premium': {}},\n",
       "  {'Country': 'Colombia',\n",
       "   'CountryCode': 'CO',\n",
       "   'Slug': 'colombia',\n",
       "   'NewConfirmed': 7440,\n",
       "   'TotalConfirmed': 1143887,\n",
       "   'NewDeaths': 196,\n",
       "   'TotalDeaths': 32791,\n",
       "   'NewRecovered': 9000,\n",
       "   'TotalRecovered': 1038082,\n",
       "   'Date': '2020-11-09T21:01:31Z',\n",
       "   'Premium': {}},\n",
       "  {'Country': 'Comoros',\n",
       "   'CountryCode': 'KM',\n",
       "   'Slug': 'comoros',\n",
       "   'NewConfirmed': 0,\n",
       "   'TotalConfirmed': 563,\n",
       "   'NewDeaths': 0,\n",
       "   'TotalDeaths': 7,\n",
       "   'NewRecovered': 0,\n",
       "   'TotalRecovered': 532,\n",
       "   'Date': '2020-11-09T21:01:31Z',\n",
       "   'Premium': {}},\n",
       "  {'Country': 'Congo (Brazzaville)',\n",
       "   'CountryCode': 'CG',\n",
       "   'Slug': 'congo-brazzaville',\n",
       "   'NewConfirmed': 0,\n",
       "   'TotalConfirmed': 5379,\n",
       "   'NewDeaths': 0,\n",
       "   'TotalDeaths': 92,\n",
       "   'NewRecovered': 0,\n",
       "   'TotalRecovered': 3887,\n",
       "   'Date': '2020-11-09T21:01:31Z',\n",
       "   'Premium': {}},\n",
       "  {'Country': 'Congo (Kinshasa)',\n",
       "   'CountryCode': 'CD',\n",
       "   'Slug': 'congo-kinshasa',\n",
       "   'NewConfirmed': 41,\n",
       "   'TotalConfirmed': 11591,\n",
       "   'NewDeaths': 0,\n",
       "   'TotalDeaths': 316,\n",
       "   'NewRecovered': 0,\n",
       "   'TotalRecovered': 10838,\n",
       "   'Date': '2020-11-09T21:01:31Z',\n",
       "   'Premium': {}},\n",
       "  {'Country': 'Costa Rica',\n",
       "   'CountryCode': 'CR',\n",
       "   'Slug': 'costa-rica',\n",
       "   'NewConfirmed': 0,\n",
       "   'TotalConfirmed': 116363,\n",
       "   'NewDeaths': 0,\n",
       "   'TotalDeaths': 1464,\n",
       "   'NewRecovered': 0,\n",
       "   'TotalRecovered': 71119,\n",
       "   'Date': '2020-11-09T21:01:31Z',\n",
       "   'Premium': {}},\n",
       "  {'Country': 'Croatia',\n",
       "   'CountryCode': 'HR',\n",
       "   'Slug': 'croatia',\n",
       "   'NewConfirmed': 2543,\n",
       "   'TotalConfirmed': 67247,\n",
       "   'NewDeaths': 42,\n",
       "   'TotalDeaths': 794,\n",
       "   'NewRecovered': 2365,\n",
       "   'TotalRecovered': 50775,\n",
       "   'Date': '2020-11-09T21:01:31Z',\n",
       "   'Premium': {}},\n",
       "  {'Country': 'Cuba',\n",
       "   'CountryCode': 'CU',\n",
       "   'Slug': 'cuba',\n",
       "   'NewConfirmed': 30,\n",
       "   'TotalConfirmed': 7297,\n",
       "   'NewDeaths': 0,\n",
       "   'TotalDeaths': 130,\n",
       "   'NewRecovered': 98,\n",
       "   'TotalRecovered': 6680,\n",
       "   'Date': '2020-11-09T21:01:31Z',\n",
       "   'Premium': {}},\n",
       "  {'Country': 'Cyprus',\n",
       "   'CountryCode': 'CY',\n",
       "   'Slug': 'cyprus',\n",
       "   'NewConfirmed': 116,\n",
       "   'TotalConfirmed': 5987,\n",
       "   'NewDeaths': 0,\n",
       "   'TotalDeaths': 35,\n",
       "   'NewRecovered': 0,\n",
       "   'TotalRecovered': 1882,\n",
       "   'Date': '2020-11-09T21:01:31Z',\n",
       "   'Premium': {}},\n",
       "  {'Country': 'Czech Republic',\n",
       "   'CountryCode': 'CZ',\n",
       "   'Slug': 'czech-republic',\n",
       "   'NewConfirmed': 3608,\n",
       "   'TotalConfirmed': 414828,\n",
       "   'NewDeaths': 177,\n",
       "   'TotalDeaths': 4858,\n",
       "   'NewRecovered': 5372,\n",
       "   'TotalRecovered': 243129,\n",
       "   'Date': '2020-11-09T21:01:31Z',\n",
       "   'Premium': {}},\n",
       "  {'Country': \"Côte d'Ivoire\",\n",
       "   'CountryCode': 'CI',\n",
       "   'Slug': 'cote-divoire',\n",
       "   'NewConfirmed': 19,\n",
       "   'TotalConfirmed': 20832,\n",
       "   'NewDeaths': 0,\n",
       "   'TotalDeaths': 126,\n",
       "   'NewRecovered': 19,\n",
       "   'TotalRecovered': 20508,\n",
       "   'Date': '2020-11-09T21:01:31Z',\n",
       "   'Premium': {}},\n",
       "  {'Country': 'Denmark',\n",
       "   'CountryCode': 'DK',\n",
       "   'Slug': 'denmark',\n",
       "   'NewConfirmed': 893,\n",
       "   'TotalConfirmed': 55635,\n",
       "   'NewDeaths': 3,\n",
       "   'TotalDeaths': 743,\n",
       "   'NewRecovered': 815,\n",
       "   'TotalRecovered': 40815,\n",
       "   'Date': '2020-11-09T21:01:31Z',\n",
       "   'Premium': {}},\n",
       "  {'Country': 'Djibouti',\n",
       "   'CountryCode': 'DJ',\n",
       "   'Slug': 'djibouti',\n",
       "   'NewConfirmed': 3,\n",
       "   'TotalConfirmed': 5608,\n",
       "   'NewDeaths': 0,\n",
       "   'TotalDeaths': 61,\n",
       "   'NewRecovered': 1,\n",
       "   'TotalRecovered': 5486,\n",
       "   'Date': '2020-11-09T21:01:31Z',\n",
       "   'Premium': {}},\n",
       "  {'Country': 'Dominica',\n",
       "   'CountryCode': 'DM',\n",
       "   'Slug': 'dominica',\n",
       "   'NewConfirmed': 0,\n",
       "   'TotalConfirmed': 63,\n",
       "   'NewDeaths': 0,\n",
       "   'TotalDeaths': 0,\n",
       "   'NewRecovered': 0,\n",
       "   'TotalRecovered': 35,\n",
       "   'Date': '2020-11-09T21:01:31Z',\n",
       "   'Premium': {}},\n",
       "  {'Country': 'Dominican Republic',\n",
       "   'CountryCode': 'DO',\n",
       "   'Slug': 'dominican-republic',\n",
       "   'NewConfirmed': 537,\n",
       "   'TotalConfirmed': 130182,\n",
       "   'NewDeaths': 2,\n",
       "   'TotalDeaths': 2265,\n",
       "   'NewRecovered': 441,\n",
       "   'TotalRecovered': 108021,\n",
       "   'Date': '2020-11-09T21:01:31Z',\n",
       "   'Premium': {}},\n",
       "  {'Country': 'Ecuador',\n",
       "   'CountryCode': 'EC',\n",
       "   'Slug': 'ecuador',\n",
       "   'NewConfirmed': 1421,\n",
       "   'TotalConfirmed': 174907,\n",
       "   'NewDeaths': 15,\n",
       "   'TotalDeaths': 12830,\n",
       "   'NewRecovered': 5908,\n",
       "   'TotalRecovered': 154956,\n",
       "   'Date': '2020-11-09T21:01:31Z',\n",
       "   'Premium': {}},\n",
       "  {'Country': 'Egypt',\n",
       "   'CountryCode': 'EG',\n",
       "   'Slug': 'egypt',\n",
       "   'NewConfirmed': 239,\n",
       "   'TotalConfirmed': 109201,\n",
       "   'NewDeaths': 13,\n",
       "   'TotalDeaths': 6368,\n",
       "   'NewRecovered': 103,\n",
       "   'TotalRecovered': 100342,\n",
       "   'Date': '2020-11-09T21:01:31Z',\n",
       "   'Premium': {}},\n",
       "  {'Country': 'El Salvador',\n",
       "   'CountryCode': 'SV',\n",
       "   'Slug': 'el-salvador',\n",
       "   'NewConfirmed': 0,\n",
       "   'TotalConfirmed': 35145,\n",
       "   'NewDeaths': 4,\n",
       "   'TotalDeaths': 1010,\n",
       "   'NewRecovered': 0,\n",
       "   'TotalRecovered': 31172,\n",
       "   'Date': '2020-11-09T21:01:31Z',\n",
       "   'Premium': {}},\n",
       "  {'Country': 'Equatorial Guinea',\n",
       "   'CountryCode': 'GQ',\n",
       "   'Slug': 'equatorial-guinea',\n",
       "   'NewConfirmed': 0,\n",
       "   'TotalConfirmed': 5092,\n",
       "   'NewDeaths': 0,\n",
       "   'TotalDeaths': 85,\n",
       "   'NewRecovered': 0,\n",
       "   'TotalRecovered': 4968,\n",
       "   'Date': '2020-11-09T21:01:31Z',\n",
       "   'Premium': {}},\n",
       "  {'Country': 'Eritrea',\n",
       "   'CountryCode': 'ER',\n",
       "   'Slug': 'eritrea',\n",
       "   'NewConfirmed': 0,\n",
       "   'TotalConfirmed': 491,\n",
       "   'NewDeaths': 0,\n",
       "   'TotalDeaths': 0,\n",
       "   'NewRecovered': 0,\n",
       "   'TotalRecovered': 438,\n",
       "   'Date': '2020-11-09T21:01:31Z',\n",
       "   'Premium': {}},\n",
       "  {'Country': 'Estonia',\n",
       "   'CountryCode': 'EE',\n",
       "   'Slug': 'estonia',\n",
       "   'NewConfirmed': 192,\n",
       "   'TotalConfirmed': 6125,\n",
       "   'NewDeaths': 2,\n",
       "   'TotalDeaths': 75,\n",
       "   'NewRecovered': 9,\n",
       "   'TotalRecovered': 4193,\n",
       "   'Date': '2020-11-09T21:01:31Z',\n",
       "   'Premium': {}},\n",
       "  {'Country': 'Ethiopia',\n",
       "   'CountryCode': 'ET',\n",
       "   'Slug': 'ethiopia',\n",
       "   'NewConfirmed': 474,\n",
       "   'TotalConfirmed': 99675,\n",
       "   'NewDeaths': 5,\n",
       "   'TotalDeaths': 1523,\n",
       "   'NewRecovered': 818,\n",
       "   'TotalRecovered': 59766,\n",
       "   'Date': '2020-11-09T21:01:31Z',\n",
       "   'Premium': {}},\n",
       "  {'Country': 'Fiji',\n",
       "   'CountryCode': 'FJ',\n",
       "   'Slug': 'fiji',\n",
       "   'NewConfirmed': 0,\n",
       "   'TotalConfirmed': 34,\n",
       "   'NewDeaths': 0,\n",
       "   'TotalDeaths': 2,\n",
       "   'NewRecovered': 0,\n",
       "   'TotalRecovered': 31,\n",
       "   'Date': '2020-11-09T21:01:31Z',\n",
       "   'Premium': {}},\n",
       "  {'Country': 'Finland',\n",
       "   'CountryCode': 'FI',\n",
       "   'Slug': 'finland',\n",
       "   'NewConfirmed': 412,\n",
       "   'TotalConfirmed': 17797,\n",
       "   'NewDeaths': 0,\n",
       "   'TotalDeaths': 362,\n",
       "   'NewRecovered': 0,\n",
       "   'TotalRecovered': 12700,\n",
       "   'Date': '2020-11-09T21:01:31Z',\n",
       "   'Premium': {}},\n",
       "  {'Country': 'France',\n",
       "   'CountryCode': 'FR',\n",
       "   'Slug': 'france',\n",
       "   'NewConfirmed': 125414,\n",
       "   'TotalConfirmed': 1835187,\n",
       "   'NewDeaths': 270,\n",
       "   'TotalDeaths': 40490,\n",
       "   'NewRecovered': 676,\n",
       "   'TotalRecovered': 134095,\n",
       "   'Date': '2020-11-09T21:01:31Z',\n",
       "   'Premium': {}},\n",
       "  {'Country': 'Gabon',\n",
       "   'CountryCode': 'GA',\n",
       "   'Slug': 'gabon',\n",
       "   'NewConfirmed': 0,\n",
       "   'TotalConfirmed': 9022,\n",
       "   'NewDeaths': 0,\n",
       "   'TotalDeaths': 55,\n",
       "   'NewRecovered': 0,\n",
       "   'TotalRecovered': 8878,\n",
       "   'Date': '2020-11-09T21:01:31Z',\n",
       "   'Premium': {}},\n",
       "  {'Country': 'Gambia',\n",
       "   'CountryCode': 'GM',\n",
       "   'Slug': 'gambia',\n",
       "   'NewConfirmed': 0,\n",
       "   'TotalConfirmed': 3684,\n",
       "   'NewDeaths': 0,\n",
       "   'TotalDeaths': 121,\n",
       "   'NewRecovered': 6,\n",
       "   'TotalRecovered': 3533,\n",
       "   'Date': '2020-11-09T21:01:31Z',\n",
       "   'Premium': {}},\n",
       "  {'Country': 'Georgia',\n",
       "   'CountryCode': 'GE',\n",
       "   'Slug': 'georgia',\n",
       "   'NewConfirmed': 2901,\n",
       "   'TotalConfirmed': 57753,\n",
       "   'NewDeaths': 34,\n",
       "   'TotalDeaths': 475,\n",
       "   'NewRecovered': 2799,\n",
       "   'TotalRecovered': 42572,\n",
       "   'Date': '2020-11-09T21:01:31Z',\n",
       "   'Premium': {}},\n",
       "  {'Country': 'Germany',\n",
       "   'CountryCode': 'DE',\n",
       "   'Slug': 'germany',\n",
       "   'NewConfirmed': 14510,\n",
       "   'TotalConfirmed': 682624,\n",
       "   'NewDeaths': 66,\n",
       "   'TotalDeaths': 11372,\n",
       "   'NewRecovered': 7667,\n",
       "   'TotalRecovered': 421151,\n",
       "   'Date': '2020-11-09T21:01:31Z',\n",
       "   'Premium': {}},\n",
       "  {'Country': 'Ghana',\n",
       "   'CountryCode': 'GH',\n",
       "   'Slug': 'ghana',\n",
       "   'NewConfirmed': 198,\n",
       "   'TotalConfirmed': 49102,\n",
       "   'NewDeaths': 0,\n",
       "   'TotalDeaths': 320,\n",
       "   'NewRecovered': 115,\n",
       "   'TotalRecovered': 47726,\n",
       "   'Date': '2020-11-09T21:01:31Z',\n",
       "   'Premium': {}},\n",
       "  {'Country': 'Greece',\n",
       "   'CountryCode': 'GR',\n",
       "   'Slug': 'greece',\n",
       "   'NewConfirmed': 1889,\n",
       "   'TotalConfirmed': 56698,\n",
       "   'NewDeaths': 35,\n",
       "   'TotalDeaths': 784,\n",
       "   'NewRecovered': 0,\n",
       "   'TotalRecovered': 23074,\n",
       "   'Date': '2020-11-09T21:01:31Z',\n",
       "   'Premium': {}},\n",
       "  {'Country': 'Grenada',\n",
       "   'CountryCode': 'GD',\n",
       "   'Slug': 'grenada',\n",
       "   'NewConfirmed': 2,\n",
       "   'TotalConfirmed': 32,\n",
       "   'NewDeaths': 0,\n",
       "   'TotalDeaths': 0,\n",
       "   'NewRecovered': 0,\n",
       "   'TotalRecovered': 27,\n",
       "   'Date': '2020-11-09T21:01:31Z',\n",
       "   'Premium': {}},\n",
       "  {'Country': 'Guatemala',\n",
       "   'CountryCode': 'GT',\n",
       "   'Slug': 'guatemala',\n",
       "   'NewConfirmed': 212,\n",
       "   'TotalConfirmed': 111262,\n",
       "   'NewDeaths': 10,\n",
       "   'TotalDeaths': 3821,\n",
       "   'NewRecovered': 327,\n",
       "   'TotalRecovered': 101135,\n",
       "   'Date': '2020-11-09T21:01:31Z',\n",
       "   'Premium': {}},\n",
       "  {'Country': 'Guinea',\n",
       "   'CountryCode': 'GN',\n",
       "   'Slug': 'guinea',\n",
       "   'NewConfirmed': 14,\n",
       "   'TotalConfirmed': 12414,\n",
       "   'NewDeaths': 1,\n",
       "   'TotalDeaths': 74,\n",
       "   'NewRecovered': 37,\n",
       "   'TotalRecovered': 10817,\n",
       "   'Date': '2020-11-09T21:01:31Z',\n",
       "   'Premium': {}},\n",
       "  {'Country': 'Guinea-Bissau',\n",
       "   'CountryCode': 'GW',\n",
       "   'Slug': 'guinea-bissau',\n",
       "   'NewConfirmed': 0,\n",
       "   'TotalConfirmed': 2414,\n",
       "   'NewDeaths': 0,\n",
       "   'TotalDeaths': 42,\n",
       "   'NewRecovered': 0,\n",
       "   'TotalRecovered': 1862,\n",
       "   'Date': '2020-11-09T21:01:31Z',\n",
       "   'Premium': {}},\n",
       "  {'Country': 'Guyana',\n",
       "   'CountryCode': 'GY',\n",
       "   'Slug': 'guyana',\n",
       "   'NewConfirmed': 30,\n",
       "   'TotalConfirmed': 4514,\n",
       "   'NewDeaths': 0,\n",
       "   'TotalDeaths': 134,\n",
       "   'NewRecovered': 15,\n",
       "   'TotalRecovered': 3526,\n",
       "   'Date': '2020-11-09T21:01:31Z',\n",
       "   'Premium': {}},\n",
       "  {'Country': 'Haiti',\n",
       "   'CountryCode': 'HT',\n",
       "   'Slug': 'haiti',\n",
       "   'NewConfirmed': 0,\n",
       "   'TotalConfirmed': 9127,\n",
       "   'NewDeaths': 0,\n",
       "   'TotalDeaths': 232,\n",
       "   'NewRecovered': 0,\n",
       "   'TotalRecovered': 7618,\n",
       "   'Date': '2020-11-09T21:01:31Z',\n",
       "   'Premium': {}},\n",
       "  {'Country': 'Holy See (Vatican City State)',\n",
       "   'CountryCode': 'VA',\n",
       "   'Slug': 'holy-see-vatican-city-state',\n",
       "   'NewConfirmed': 0,\n",
       "   'TotalConfirmed': 27,\n",
       "   'NewDeaths': 0,\n",
       "   'TotalDeaths': 0,\n",
       "   'NewRecovered': 0,\n",
       "   'TotalRecovered': 15,\n",
       "   'Date': '2020-11-09T21:01:31Z',\n",
       "   'Premium': {}},\n",
       "  {'Country': 'Honduras',\n",
       "   'CountryCode': 'HN',\n",
       "   'Slug': 'honduras',\n",
       "   'NewConfirmed': 0,\n",
       "   'TotalConfirmed': 100041,\n",
       "   'NewDeaths': 0,\n",
       "   'TotalDeaths': 2745,\n",
       "   'NewRecovered': 0,\n",
       "   'TotalRecovered': 42815,\n",
       "   'Date': '2020-11-09T21:01:31Z',\n",
       "   'Premium': {}},\n",
       "  {'Country': 'Hungary',\n",
       "   'CountryCode': 'HU',\n",
       "   'Slug': 'hungary',\n",
       "   'NewConfirmed': 4673,\n",
       "   'TotalConfirmed': 109616,\n",
       "   'NewDeaths': 81,\n",
       "   'TotalDeaths': 2438,\n",
       "   'NewRecovered': 223,\n",
       "   'TotalRecovered': 25070,\n",
       "   'Date': '2020-11-09T21:01:31Z',\n",
       "   'Premium': {}},\n",
       "  {'Country': 'Iceland',\n",
       "   'CountryCode': 'IS',\n",
       "   'Slug': 'iceland',\n",
       "   'NewConfirmed': 15,\n",
       "   'TotalConfirmed': 5078,\n",
       "   'NewDeaths': 2,\n",
       "   'TotalDeaths': 20,\n",
       "   'NewRecovered': 88,\n",
       "   'TotalRecovered': 4423,\n",
       "   'Date': '2020-11-09T21:01:31Z',\n",
       "   'Premium': {}},\n",
       "  {'Country': 'India',\n",
       "   'CountryCode': 'IN',\n",
       "   'Slug': 'india',\n",
       "   'NewConfirmed': 45903,\n",
       "   'TotalConfirmed': 8553657,\n",
       "   'NewDeaths': 490,\n",
       "   'TotalDeaths': 126611,\n",
       "   'NewRecovered': 48405,\n",
       "   'TotalRecovered': 7917373,\n",
       "   'Date': '2020-11-09T21:01:31Z',\n",
       "   'Premium': {}},\n",
       "  {'Country': 'Indonesia',\n",
       "   'CountryCode': 'ID',\n",
       "   'Slug': 'indonesia',\n",
       "   'NewConfirmed': 3880,\n",
       "   'TotalConfirmed': 437716,\n",
       "   'NewDeaths': 74,\n",
       "   'TotalDeaths': 14614,\n",
       "   'NewRecovered': 3881,\n",
       "   'TotalRecovered': 368298,\n",
       "   'Date': '2020-11-09T21:01:31Z',\n",
       "   'Premium': {}},\n",
       "  {'Country': 'Iran, Islamic Republic of',\n",
       "   'CountryCode': 'IR',\n",
       "   'Slug': 'iran',\n",
       "   'NewConfirmed': 9236,\n",
       "   'TotalConfirmed': 682486,\n",
       "   'NewDeaths': 459,\n",
       "   'TotalDeaths': 38291,\n",
       "   'NewRecovered': 5176,\n",
       "   'TotalRecovered': 520329,\n",
       "   'Date': '2020-11-09T21:01:31Z',\n",
       "   'Premium': {}},\n",
       "  {'Country': 'Iraq',\n",
       "   'CountryCode': 'IQ',\n",
       "   'Slug': 'iraq',\n",
       "   'NewConfirmed': 2530,\n",
       "   'TotalConfirmed': 498549,\n",
       "   'NewDeaths': 44,\n",
       "   'TotalDeaths': 11327,\n",
       "   'NewRecovered': 3002,\n",
       "   'TotalRecovered': 428928,\n",
       "   'Date': '2020-11-09T21:01:31Z',\n",
       "   'Premium': {}},\n",
       "  {'Country': 'Ireland',\n",
       "   'CountryCode': 'IE',\n",
       "   'Slug': 'ireland',\n",
       "   'NewConfirmed': 539,\n",
       "   'TotalConfirmed': 65394,\n",
       "   'NewDeaths': 2,\n",
       "   'TotalDeaths': 1947,\n",
       "   'NewRecovered': 0,\n",
       "   'TotalRecovered': 23364,\n",
       "   'Date': '2020-11-09T21:01:31Z',\n",
       "   'Premium': {}},\n",
       "  {'Country': 'Israel',\n",
       "   'CountryCode': 'IL',\n",
       "   'Slug': 'israel',\n",
       "   'NewConfirmed': 292,\n",
       "   'TotalConfirmed': 319241,\n",
       "   'NewDeaths': 10,\n",
       "   'TotalDeaths': 2674,\n",
       "   'NewRecovered': 1090,\n",
       "   'TotalRecovered': 308563,\n",
       "   'Date': '2020-11-09T21:01:31Z',\n",
       "   'Premium': {}},\n",
       "  {'Country': 'Italy',\n",
       "   'CountryCode': 'IT',\n",
       "   'Slug': 'italy',\n",
       "   'NewConfirmed': 32614,\n",
       "   'TotalConfirmed': 935104,\n",
       "   'NewDeaths': 331,\n",
       "   'TotalDeaths': 41394,\n",
       "   'NewRecovered': 6183,\n",
       "   'TotalRecovered': 335074,\n",
       "   'Date': '2020-11-09T21:01:31Z',\n",
       "   'Premium': {}},\n",
       "  {'Country': 'Jamaica',\n",
       "   'CountryCode': 'JM',\n",
       "   'Slug': 'jamaica',\n",
       "   'NewConfirmed': 34,\n",
       "   'TotalConfirmed': 9506,\n",
       "   'NewDeaths': 3,\n",
       "   'TotalDeaths': 221,\n",
       "   'NewRecovered': 56,\n",
       "   'TotalRecovered': 4934,\n",
       "   'Date': '2020-11-09T21:01:31Z',\n",
       "   'Premium': {}},\n",
       "  {'Country': 'Japan',\n",
       "   'CountryCode': 'JP',\n",
       "   'Slug': 'japan',\n",
       "   'NewConfirmed': 955,\n",
       "   'TotalConfirmed': 108394,\n",
       "   'NewDeaths': 6,\n",
       "   'TotalDeaths': 1821,\n",
       "   'NewRecovered': 727,\n",
       "   'TotalRecovered': 96430,\n",
       "   'Date': '2020-11-09T21:01:31Z',\n",
       "   'Premium': {}},\n",
       "  {'Country': 'Jordan',\n",
       "   'CountryCode': 'JO',\n",
       "   'Slug': 'jordan',\n",
       "   'NewConfirmed': 4519,\n",
       "   'TotalConfirmed': 109321,\n",
       "   'NewDeaths': 52,\n",
       "   'TotalDeaths': 1233,\n",
       "   'NewRecovered': 179,\n",
       "   'TotalRecovered': 8808,\n",
       "   'Date': '2020-11-09T21:01:31Z',\n",
       "   'Premium': {}},\n",
       "  {'Country': 'Kazakhstan',\n",
       "   'CountryCode': 'KZ',\n",
       "   'Slug': 'kazakhstan',\n",
       "   'NewConfirmed': 610,\n",
       "   'TotalConfirmed': 116772,\n",
       "   'NewDeaths': 0,\n",
       "   'TotalDeaths': 1857,\n",
       "   'NewRecovered': 175,\n",
       "   'TotalRecovered': 107843,\n",
       "   'Date': '2020-11-09T21:01:31Z',\n",
       "   'Premium': {}},\n",
       "  {'Country': 'Kenya',\n",
       "   'CountryCode': 'KE',\n",
       "   'Slug': 'kenya',\n",
       "   'NewConfirmed': 719,\n",
       "   'TotalConfirmed': 62488,\n",
       "   'NewDeaths': 8,\n",
       "   'TotalDeaths': 1111,\n",
       "   'NewRecovered': 912,\n",
       "   'TotalRecovered': 41931,\n",
       "   'Date': '2020-11-09T21:01:31Z',\n",
       "   'Premium': {}},\n",
       "  {'Country': 'Korea (South)',\n",
       "   'CountryCode': 'KR',\n",
       "   'Slug': 'korea-south',\n",
       "   'NewConfirmed': 126,\n",
       "   'TotalConfirmed': 27553,\n",
       "   'NewDeaths': 2,\n",
       "   'TotalDeaths': 480,\n",
       "   'NewRecovered': 61,\n",
       "   'TotalRecovered': 25029,\n",
       "   'Date': '2020-11-09T21:01:31Z',\n",
       "   'Premium': {}},\n",
       "  {'Country': 'Kuwait',\n",
       "   'CountryCode': 'KW',\n",
       "   'Slug': 'kuwait',\n",
       "   'NewConfirmed': 538,\n",
       "   'TotalConfirmed': 131743,\n",
       "   'NewDeaths': 3,\n",
       "   'TotalDeaths': 811,\n",
       "   'NewRecovered': 687,\n",
       "   'TotalRecovered': 122576,\n",
       "   'Date': '2020-11-09T21:01:31Z',\n",
       "   'Premium': {}},\n",
       "  {'Country': 'Kyrgyzstan',\n",
       "   'CountryCode': 'KG',\n",
       "   'Slug': 'kyrgyzstan',\n",
       "   'NewConfirmed': 515,\n",
       "   'TotalConfirmed': 62819,\n",
       "   'NewDeaths': 5,\n",
       "   'TotalDeaths': 1177,\n",
       "   'NewRecovered': 546,\n",
       "   'TotalRecovered': 53952,\n",
       "   'Date': '2020-11-09T21:01:31Z',\n",
       "   'Premium': {}},\n",
       "  {'Country': 'Lao PDR',\n",
       "   'CountryCode': 'LA',\n",
       "   'Slug': 'lao-pdr',\n",
       "   'NewConfirmed': 0,\n",
       "   'TotalConfirmed': 24,\n",
       "   'NewDeaths': 0,\n",
       "   'TotalDeaths': 0,\n",
       "   'NewRecovered': 0,\n",
       "   'TotalRecovered': 23,\n",
       "   'Date': '2020-11-09T21:01:31Z',\n",
       "   'Premium': {}},\n",
       "  {'Country': 'Latvia',\n",
       "   'CountryCode': 'LV',\n",
       "   'Slug': 'latvia',\n",
       "   'NewConfirmed': 215,\n",
       "   'TotalConfirmed': 8095,\n",
       "   'NewDeaths': 3,\n",
       "   'TotalDeaths': 99,\n",
       "   'NewRecovered': 22,\n",
       "   'TotalRecovered': 1466,\n",
       "   'Date': '2020-11-09T21:01:31Z',\n",
       "   'Premium': {}},\n",
       "  {'Country': 'Lebanon',\n",
       "   'CountryCode': 'LB',\n",
       "   'Slug': 'lebanon',\n",
       "   'NewConfirmed': 1139,\n",
       "   'TotalConfirmed': 94236,\n",
       "   'NewDeaths': 10,\n",
       "   'TotalDeaths': 723,\n",
       "   'NewRecovered': 0,\n",
       "   'TotalRecovered': 46602,\n",
       "   'Date': '2020-11-09T21:01:31Z',\n",
       "   'Premium': {}},\n",
       "  {'Country': 'Lesotho',\n",
       "   'CountryCode': 'LS',\n",
       "   'Slug': 'lesotho',\n",
       "   'NewConfirmed': 0,\n",
       "   'TotalConfirmed': 1967,\n",
       "   'NewDeaths': 0,\n",
       "   'TotalDeaths': 44,\n",
       "   'NewRecovered': 0,\n",
       "   'TotalRecovered': 1024,\n",
       "   'Date': '2020-11-09T21:01:31Z',\n",
       "   'Premium': {}},\n",
       "  {'Country': 'Liberia',\n",
       "   'CountryCode': 'LR',\n",
       "   'Slug': 'liberia',\n",
       "   'NewConfirmed': 0,\n",
       "   'TotalConfirmed': 1442,\n",
       "   'NewDeaths': 0,\n",
       "   'TotalDeaths': 82,\n",
       "   'NewRecovered': 0,\n",
       "   'TotalRecovered': 1310,\n",
       "   'Date': '2020-11-09T21:01:31Z',\n",
       "   'Premium': {}},\n",
       "  {'Country': 'Libya',\n",
       "   'CountryCode': 'LY',\n",
       "   'Slug': 'libya',\n",
       "   'NewConfirmed': 1078,\n",
       "   'TotalConfirmed': 68117,\n",
       "   'NewDeaths': 9,\n",
       "   'TotalDeaths': 929,\n",
       "   'NewRecovered': 876,\n",
       "   'TotalRecovered': 40119,\n",
       "   'Date': '2020-11-09T21:01:31Z',\n",
       "   'Premium': {}},\n",
       "  {'Country': 'Liechtenstein',\n",
       "   'CountryCode': 'LI',\n",
       "   'Slug': 'liechtenstein',\n",
       "   'NewConfirmed': 23,\n",
       "   'TotalConfirmed': 788,\n",
       "   'NewDeaths': 0,\n",
       "   'TotalDeaths': 3,\n",
       "   'NewRecovered': 0,\n",
       "   'TotalRecovered': 481,\n",
       "   'Date': '2020-11-09T21:01:31Z',\n",
       "   'Premium': {}},\n",
       "  {'Country': 'Lithuania',\n",
       "   'CountryCode': 'LT',\n",
       "   'Slug': 'lithuania',\n",
       "   'NewConfirmed': 1980,\n",
       "   'TotalConfirmed': 24699,\n",
       "   'NewDeaths': 4,\n",
       "   'TotalDeaths': 207,\n",
       "   'NewRecovered': 85,\n",
       "   'TotalRecovered': 5700,\n",
       "   'Date': '2020-11-09T21:01:31Z',\n",
       "   'Premium': {}},\n",
       "  {'Country': 'Luxembourg',\n",
       "   'CountryCode': 'LU',\n",
       "   'Slug': 'luxembourg',\n",
       "   'NewConfirmed': 0,\n",
       "   'TotalConfirmed': 21806,\n",
       "   'NewDeaths': 0,\n",
       "   'TotalDeaths': 180,\n",
       "   'NewRecovered': 0,\n",
       "   'TotalRecovered': 12094,\n",
       "   'Date': '2020-11-09T21:01:31Z',\n",
       "   'Premium': {}},\n",
       "  {'Country': 'Macao, SAR China',\n",
       "   'CountryCode': 'MO',\n",
       "   'Slug': 'macao-sar-china',\n",
       "   'NewConfirmed': 0,\n",
       "   'TotalConfirmed': 0,\n",
       "   'NewDeaths': 0,\n",
       "   'TotalDeaths': 0,\n",
       "   'NewRecovered': 0,\n",
       "   'TotalRecovered': 0,\n",
       "   'Date': '2020-11-09T21:01:31Z',\n",
       "   'Premium': {}},\n",
       "  {'Country': 'Macedonia, Republic of',\n",
       "   'CountryCode': 'MK',\n",
       "   'Slug': 'macedonia',\n",
       "   'NewConfirmed': 978,\n",
       "   'TotalConfirmed': 39760,\n",
       "   'NewDeaths': 26,\n",
       "   'TotalDeaths': 1136,\n",
       "   'NewRecovered': 24,\n",
       "   'TotalRecovered': 23035,\n",
       "   'Date': '2020-11-09T21:01:31Z',\n",
       "   'Premium': {}},\n",
       "  {'Country': 'Madagascar',\n",
       "   'CountryCode': 'MG',\n",
       "   'Slug': 'madagascar',\n",
       "   'NewConfirmed': 112,\n",
       "   'TotalConfirmed': 17223,\n",
       "   'NewDeaths': 5,\n",
       "   'TotalDeaths': 249,\n",
       "   'NewRecovered': 107,\n",
       "   'TotalRecovered': 16516,\n",
       "   'Date': '2020-11-09T21:01:31Z',\n",
       "   'Premium': {}},\n",
       "  {'Country': 'Malawi',\n",
       "   'CountryCode': 'MW',\n",
       "   'Slug': 'malawi',\n",
       "   'NewConfirmed': 3,\n",
       "   'TotalConfirmed': 5951,\n",
       "   'NewDeaths': 0,\n",
       "   'TotalDeaths': 184,\n",
       "   'NewRecovered': 2,\n",
       "   'TotalRecovered': 5348,\n",
       "   'Date': '2020-11-09T21:01:31Z',\n",
       "   'Premium': {}},\n",
       "  {'Country': 'Malaysia',\n",
       "   'CountryCode': 'MY',\n",
       "   'Slug': 'malaysia',\n",
       "   'NewConfirmed': 852,\n",
       "   'TotalConfirmed': 40209,\n",
       "   'NewDeaths': 4,\n",
       "   'TotalDeaths': 286,\n",
       "   'NewRecovered': 825,\n",
       "   'TotalRecovered': 28234,\n",
       "   'Date': '2020-11-09T21:01:31Z',\n",
       "   'Premium': {}},\n",
       "  {'Country': 'Maldives',\n",
       "   'CountryCode': 'MV',\n",
       "   'Slug': 'maldives',\n",
       "   'NewConfirmed': 24,\n",
       "   'TotalConfirmed': 11986,\n",
       "   'NewDeaths': 0,\n",
       "   'TotalDeaths': 39,\n",
       "   'NewRecovered': 26,\n",
       "   'TotalRecovered': 11092,\n",
       "   'Date': '2020-11-09T21:01:31Z',\n",
       "   'Premium': {}},\n",
       "  {'Country': 'Mali',\n",
       "   'CountryCode': 'ML',\n",
       "   'Slug': 'mali',\n",
       "   'NewConfirmed': 30,\n",
       "   'TotalConfirmed': 3706,\n",
       "   'NewDeaths': 0,\n",
       "   'TotalDeaths': 137,\n",
       "   'NewRecovered': 6,\n",
       "   'TotalRecovered': 2828,\n",
       "   'Date': '2020-11-09T21:01:31Z',\n",
       "   'Premium': {}},\n",
       "  {'Country': 'Malta',\n",
       "   'CountryCode': 'MT',\n",
       "   'Slug': 'malta',\n",
       "   'NewConfirmed': 102,\n",
       "   'TotalConfirmed': 7141,\n",
       "   'NewDeaths': 2,\n",
       "   'TotalDeaths': 76,\n",
       "   'NewRecovered': 103,\n",
       "   'TotalRecovered': 5103,\n",
       "   'Date': '2020-11-09T21:01:31Z',\n",
       "   'Premium': {}},\n",
       "  {'Country': 'Marshall Islands',\n",
       "   'CountryCode': 'MH',\n",
       "   'Slug': 'marshall-islands',\n",
       "   'NewConfirmed': 0,\n",
       "   'TotalConfirmed': 1,\n",
       "   'NewDeaths': 0,\n",
       "   'TotalDeaths': 0,\n",
       "   'NewRecovered': 0,\n",
       "   'TotalRecovered': 0,\n",
       "   'Date': '2020-11-09T21:01:31Z',\n",
       "   'Premium': {}},\n",
       "  {'Country': 'Mauritania',\n",
       "   'CountryCode': 'MR',\n",
       "   'Slug': 'mauritania',\n",
       "   'NewConfirmed': 6,\n",
       "   'TotalConfirmed': 7820,\n",
       "   'NewDeaths': 0,\n",
       "   'TotalDeaths': 165,\n",
       "   'NewRecovered': 6,\n",
       "   'TotalRecovered': 7479,\n",
       "   'Date': '2020-11-09T21:01:31Z',\n",
       "   'Premium': {}},\n",
       "  {'Country': 'Mauritius',\n",
       "   'CountryCode': 'MU',\n",
       "   'Slug': 'mauritius',\n",
       "   'NewConfirmed': 0,\n",
       "   'TotalConfirmed': 453,\n",
       "   'NewDeaths': 0,\n",
       "   'TotalDeaths': 10,\n",
       "   'NewRecovered': 0,\n",
       "   'TotalRecovered': 416,\n",
       "   'Date': '2020-11-09T21:01:31Z',\n",
       "   'Premium': {}},\n",
       "  {'Country': 'Mexico',\n",
       "   'CountryCode': 'MX',\n",
       "   'Slug': 'mexico',\n",
       "   'NewConfirmed': 5887,\n",
       "   'TotalConfirmed': 967825,\n",
       "   'NewDeaths': 219,\n",
       "   'TotalDeaths': 95027,\n",
       "   'NewRecovered': 7696,\n",
       "   'TotalRecovered': 824355,\n",
       "   'Date': '2020-11-09T21:01:31Z',\n",
       "   'Premium': {}},\n",
       "  {'Country': 'Moldova',\n",
       "   'CountryCode': 'MD',\n",
       "   'Slug': 'moldova',\n",
       "   'NewConfirmed': 671,\n",
       "   'TotalConfirmed': 82346,\n",
       "   'NewDeaths': 2,\n",
       "   'TotalDeaths': 1893,\n",
       "   'NewRecovered': 1194,\n",
       "   'TotalRecovered': 62508,\n",
       "   'Date': '2020-11-09T21:01:31Z',\n",
       "   'Premium': {}},\n",
       "  {'Country': 'Monaco',\n",
       "   'CountryCode': 'MC',\n",
       "   'Slug': 'monaco',\n",
       "   'NewConfirmed': 3,\n",
       "   'TotalConfirmed': 486,\n",
       "   'NewDeaths': 0,\n",
       "   'TotalDeaths': 2,\n",
       "   'NewRecovered': 14,\n",
       "   'TotalRecovered': 345,\n",
       "   'Date': '2020-11-09T21:01:31Z',\n",
       "   'Premium': {}},\n",
       "  {'Country': 'Mongolia',\n",
       "   'CountryCode': 'MN',\n",
       "   'Slug': 'mongolia',\n",
       "   'NewConfirmed': 5,\n",
       "   'TotalConfirmed': 362,\n",
       "   'NewDeaths': 0,\n",
       "   'TotalDeaths': 0,\n",
       "   'NewRecovered': 3,\n",
       "   'TotalRecovered': 317,\n",
       "   'Date': '2020-11-09T21:01:31Z',\n",
       "   'Premium': {}},\n",
       "  {'Country': 'Montenegro',\n",
       "   'CountryCode': 'ME',\n",
       "   'Slug': 'montenegro',\n",
       "   'NewConfirmed': 426,\n",
       "   'TotalConfirmed': 22805,\n",
       "   'NewDeaths': 4,\n",
       "   'TotalDeaths': 337,\n",
       "   'NewRecovered': 349,\n",
       "   'TotalRecovered': 15893,\n",
       "   'Date': '2020-11-09T21:01:31Z',\n",
       "   'Premium': {}},\n",
       "  {'Country': 'Morocco',\n",
       "   'CountryCode': 'MA',\n",
       "   'Slug': 'morocco',\n",
       "   'NewConfirmed': 4596,\n",
       "   'TotalConfirmed': 256781,\n",
       "   'NewDeaths': 75,\n",
       "   'TotalDeaths': 4272,\n",
       "   'NewRecovered': 4245,\n",
       "   'TotalRecovered': 209801,\n",
       "   'Date': '2020-11-09T21:01:31Z',\n",
       "   'Premium': {}},\n",
       "  {'Country': 'Mozambique',\n",
       "   'CountryCode': 'MZ',\n",
       "   'Slug': 'mozambique',\n",
       "   'NewConfirmed': 191,\n",
       "   'TotalConfirmed': 13768,\n",
       "   'NewDeaths': 0,\n",
       "   'TotalDeaths': 99,\n",
       "   'NewRecovered': 24,\n",
       "   'TotalRecovered': 11605,\n",
       "   'Date': '2020-11-09T21:01:31Z',\n",
       "   'Premium': {}},\n",
       "  {'Country': 'Myanmar',\n",
       "   'CountryCode': 'MM',\n",
       "   'Slug': 'myanmar',\n",
       "   'NewConfirmed': 1029,\n",
       "   'TotalConfirmed': 61377,\n",
       "   'NewDeaths': 24,\n",
       "   'TotalDeaths': 1420,\n",
       "   'NewRecovered': 1090,\n",
       "   'TotalRecovered': 45756,\n",
       "   'Date': '2020-11-09T21:01:31Z',\n",
       "   'Premium': {}},\n",
       "  {'Country': 'Namibia',\n",
       "   'CountryCode': 'NA',\n",
       "   'Slug': 'namibia',\n",
       "   'NewConfirmed': 41,\n",
       "   'TotalConfirmed': 13211,\n",
       "   'NewDeaths': 0,\n",
       "   'TotalDeaths': 134,\n",
       "   'NewRecovered': 3,\n",
       "   'TotalRecovered': 11605,\n",
       "   'Date': '2020-11-09T21:01:31Z',\n",
       "   'Premium': {}},\n",
       "  {'Country': 'Nepal',\n",
       "   'CountryCode': 'NP',\n",
       "   'Slug': 'nepal',\n",
       "   'NewConfirmed': 2817,\n",
       "   'TotalConfirmed': 194453,\n",
       "   'NewDeaths': 21,\n",
       "   'TotalDeaths': 1108,\n",
       "   'NewRecovered': 2812,\n",
       "   'TotalRecovered': 157926,\n",
       "   'Date': '2020-11-09T21:01:31Z',\n",
       "   'Premium': {}},\n",
       "  {'Country': 'Netherlands',\n",
       "   'CountryCode': 'NL',\n",
       "   'Slug': 'netherlands',\n",
       "   'NewConfirmed': 5664,\n",
       "   'TotalConfirmed': 410065,\n",
       "   'NewDeaths': 44,\n",
       "   'TotalDeaths': 8004,\n",
       "   'NewRecovered': 0,\n",
       "   'TotalRecovered': 0,\n",
       "   'Date': '2020-11-09T21:01:31Z',\n",
       "   'Premium': {}},\n",
       "  {'Country': 'New Zealand',\n",
       "   'CountryCode': 'NZ',\n",
       "   'Slug': 'new-zealand',\n",
       "   'NewConfirmed': 4,\n",
       "   'TotalConfirmed': 1986,\n",
       "   'NewDeaths': 0,\n",
       "   'TotalDeaths': 25,\n",
       "   'NewRecovered': 1,\n",
       "   'TotalRecovered': 1910,\n",
       "   'Date': '2020-11-09T21:01:31Z',\n",
       "   'Premium': {}},\n",
       "  {'Country': 'Nicaragua',\n",
       "   'CountryCode': 'NI',\n",
       "   'Slug': 'nicaragua',\n",
       "   'NewConfirmed': 0,\n",
       "   'TotalConfirmed': 5591,\n",
       "   'NewDeaths': 0,\n",
       "   'TotalDeaths': 157,\n",
       "   'NewRecovered': 0,\n",
       "   'TotalRecovered': 4225,\n",
       "   'Date': '2020-11-09T21:01:31Z',\n",
       "   'Premium': {}},\n",
       "  {'Country': 'Niger',\n",
       "   'CountryCode': 'NE',\n",
       "   'Slug': 'niger',\n",
       "   'NewConfirmed': 1,\n",
       "   'TotalConfirmed': 1243,\n",
       "   'NewDeaths': 0,\n",
       "   'TotalDeaths': 69,\n",
       "   'NewRecovered': 1,\n",
       "   'TotalRecovered': 1144,\n",
       "   'Date': '2020-11-09T21:01:31Z',\n",
       "   'Premium': {}},\n",
       "  {'Country': 'Nigeria',\n",
       "   'CountryCode': 'NG',\n",
       "   'Slug': 'nigeria',\n",
       "   'NewConfirmed': 300,\n",
       "   'TotalConfirmed': 64090,\n",
       "   'NewDeaths': 0,\n",
       "   'TotalDeaths': 1155,\n",
       "   'NewRecovered': 26,\n",
       "   'TotalRecovered': 59910,\n",
       "   'Date': '2020-11-09T21:01:31Z',\n",
       "   'Premium': {}},\n",
       "  {'Country': 'Norway',\n",
       "   'CountryCode': 'NO',\n",
       "   'Slug': 'norway',\n",
       "   'NewConfirmed': 489,\n",
       "   'TotalConfirmed': 24732,\n",
       "   'NewDeaths': 0,\n",
       "   'TotalDeaths': 285,\n",
       "   'NewRecovered': 0,\n",
       "   'TotalRecovered': 11863,\n",
       "   'Date': '2020-11-09T21:01:31Z',\n",
       "   'Premium': {}},\n",
       "  {'Country': 'Oman',\n",
       "   'CountryCode': 'OM',\n",
       "   'Slug': 'oman',\n",
       "   'NewConfirmed': 973,\n",
       "   'TotalConfirmed': 118140,\n",
       "   'NewDeaths': 15,\n",
       "   'TotalDeaths': 1301,\n",
       "   'NewRecovered': 1313,\n",
       "   'TotalRecovered': 108681,\n",
       "   'Date': '2020-11-09T21:01:31Z',\n",
       "   'Premium': {}},\n",
       "  {'Country': 'Pakistan',\n",
       "   'CountryCode': 'PK',\n",
       "   'Slug': 'pakistan',\n",
       "   'NewConfirmed': 1650,\n",
       "   'TotalConfirmed': 344839,\n",
       "   'NewDeaths': 9,\n",
       "   'TotalDeaths': 6977,\n",
       "   'NewRecovered': 464,\n",
       "   'TotalRecovered': 318881,\n",
       "   'Date': '2020-11-09T21:01:31Z',\n",
       "   'Premium': {}},\n",
       "  {'Country': 'Palestinian Territory',\n",
       "   'CountryCode': 'PS',\n",
       "   'Slug': 'palestine',\n",
       "   'NewConfirmed': 501,\n",
       "   'TotalConfirmed': 58158,\n",
       "   'NewDeaths': 3,\n",
       "   'TotalDeaths': 515,\n",
       "   'NewRecovered': 432,\n",
       "   'TotalRecovered': 50407,\n",
       "   'Date': '2020-11-09T21:01:31Z',\n",
       "   'Premium': {}},\n",
       "  {'Country': 'Panama',\n",
       "   'CountryCode': 'PA',\n",
       "   'Slug': 'panama',\n",
       "   'NewConfirmed': 1021,\n",
       "   'TotalConfirmed': 139527,\n",
       "   'NewDeaths': 17,\n",
       "   'TotalDeaths': 2798,\n",
       "   'NewRecovered': 947,\n",
       "   'TotalRecovered': 117770,\n",
       "   'Date': '2020-11-09T21:01:31Z',\n",
       "   'Premium': {}},\n",
       "  {'Country': 'Papua New Guinea',\n",
       "   'CountryCode': 'PG',\n",
       "   'Slug': 'papua-new-guinea',\n",
       "   'NewConfirmed': 2,\n",
       "   'TotalConfirmed': 599,\n",
       "   'NewDeaths': 0,\n",
       "   'TotalDeaths': 7,\n",
       "   'NewRecovered': 5,\n",
       "   'TotalRecovered': 585,\n",
       "   'Date': '2020-11-09T21:01:31Z',\n",
       "   'Premium': {}},\n",
       "  {'Country': 'Paraguay',\n",
       "   'CountryCode': 'PY',\n",
       "   'Slug': 'paraguay',\n",
       "   'NewConfirmed': 648,\n",
       "   'TotalConfirmed': 67589,\n",
       "   'NewDeaths': 11,\n",
       "   'TotalDeaths': 1490,\n",
       "   'NewRecovered': 668,\n",
       "   'TotalRecovered': 47822,\n",
       "   'Date': '2020-11-09T21:01:31Z',\n",
       "   'Premium': {}},\n",
       "  {'Country': 'Peru',\n",
       "   'CountryCode': 'PE',\n",
       "   'Slug': 'peru',\n",
       "   'NewConfirmed': 2507,\n",
       "   'TotalConfirmed': 920010,\n",
       "   'NewDeaths': 38,\n",
       "   'TotalDeaths': 34821,\n",
       "   'NewRecovered': 7432,\n",
       "   'TotalRecovered': 846215,\n",
       "   'Date': '2020-11-09T21:01:31Z',\n",
       "   'Premium': {}},\n",
       "  {'Country': 'Philippines',\n",
       "   'CountryCode': 'PH',\n",
       "   'Slug': 'philippines',\n",
       "   'NewConfirmed': 2434,\n",
       "   'TotalConfirmed': 396395,\n",
       "   'NewDeaths': 54,\n",
       "   'TotalDeaths': 7539,\n",
       "   'NewRecovered': 11422,\n",
       "   'TotalRecovered': 361638,\n",
       "   'Date': '2020-11-09T21:01:31Z',\n",
       "   'Premium': {}},\n",
       "  {'Country': 'Poland',\n",
       "   'CountryCode': 'PL',\n",
       "   'Slug': 'poland',\n",
       "   'NewConfirmed': 24785,\n",
       "   'TotalConfirmed': 546425,\n",
       "   'NewDeaths': 236,\n",
       "   'TotalDeaths': 7872,\n",
       "   'NewRecovered': 8853,\n",
       "   'TotalRecovered': 209363,\n",
       "   'Date': '2020-11-09T21:01:31Z',\n",
       "   'Premium': {}},\n",
       "  {'Country': 'Portugal',\n",
       "   'CountryCode': 'PT',\n",
       "   'Slug': 'portugal',\n",
       "   'NewConfirmed': 5784,\n",
       "   'TotalConfirmed': 179324,\n",
       "   'NewDeaths': 48,\n",
       "   'TotalDeaths': 2896,\n",
       "   'NewRecovered': 2034,\n",
       "   'TotalRecovered': 99781,\n",
       "   'Date': '2020-11-09T21:01:31Z',\n",
       "   'Premium': {}},\n",
       "  {'Country': 'Qatar',\n",
       "   'CountryCode': 'QA',\n",
       "   'Slug': 'qatar',\n",
       "   'NewConfirmed': 190,\n",
       "   'TotalConfirmed': 134203,\n",
       "   'NewDeaths': 0,\n",
       "   'TotalDeaths': 232,\n",
       "   'NewRecovered': 201,\n",
       "   'TotalRecovered': 131276,\n",
       "   'Date': '2020-11-09T21:01:31Z',\n",
       "   'Premium': {}},\n",
       "  {'Country': 'Republic of Kosovo',\n",
       "   'CountryCode': 'XK',\n",
       "   'Slug': 'kosovo',\n",
       "   'NewConfirmed': 0,\n",
       "   'TotalConfirmed': 22934,\n",
       "   'NewDeaths': 0,\n",
       "   'TotalDeaths': 732,\n",
       "   'NewRecovered': 0,\n",
       "   'TotalRecovered': 15981,\n",
       "   'Date': '2020-11-09T21:01:31Z',\n",
       "   'Premium': {}},\n",
       "  {'Country': 'Romania',\n",
       "   'CountryCode': 'RO',\n",
       "   'Slug': 'romania',\n",
       "   'NewConfirmed': 6752,\n",
       "   'TotalConfirmed': 303751,\n",
       "   'NewDeaths': 86,\n",
       "   'TotalDeaths': 7879,\n",
       "   'NewRecovered': 3565,\n",
       "   'TotalRecovered': 204679,\n",
       "   'Date': '2020-11-09T21:01:31Z',\n",
       "   'Premium': {}},\n",
       "  {'Country': 'Russian Federation',\n",
       "   'CountryCode': 'RU',\n",
       "   'Slug': 'russia',\n",
       "   'NewConfirmed': 20248,\n",
       "   'TotalConfirmed': 1760420,\n",
       "   'NewDeaths': 282,\n",
       "   'TotalDeaths': 30292,\n",
       "   'NewRecovered': 11321,\n",
       "   'TotalRecovered': 1315928,\n",
       "   'Date': '2020-11-09T21:01:31Z',\n",
       "   'Premium': {}},\n",
       "  {'Country': 'Rwanda',\n",
       "   'CountryCode': 'RW',\n",
       "   'Slug': 'rwanda',\n",
       "   'NewConfirmed': 9,\n",
       "   'TotalConfirmed': 5222,\n",
       "   'NewDeaths': 0,\n",
       "   'TotalDeaths': 36,\n",
       "   'NewRecovered': 7,\n",
       "   'TotalRecovered': 4960,\n",
       "   'Date': '2020-11-09T21:01:31Z',\n",
       "   'Premium': {}},\n",
       "  {'Country': 'Réunion',\n",
       "   'CountryCode': 'RE',\n",
       "   'Slug': 'réunion',\n",
       "   'NewConfirmed': 0,\n",
       "   'TotalConfirmed': 0,\n",
       "   'NewDeaths': 0,\n",
       "   'TotalDeaths': 0,\n",
       "   'NewRecovered': 0,\n",
       "   'TotalRecovered': 0,\n",
       "   'Date': '2020-11-09T21:01:31Z',\n",
       "   'Premium': {}},\n",
       "  {'Country': 'Saint Kitts and Nevis',\n",
       "   'CountryCode': 'KN',\n",
       "   'Slug': 'saint-kitts-and-nevis',\n",
       "   'NewConfirmed': 0,\n",
       "   'TotalConfirmed': 19,\n",
       "   'NewDeaths': 0,\n",
       "   'TotalDeaths': 0,\n",
       "   'NewRecovered': 0,\n",
       "   'TotalRecovered': 19,\n",
       "   'Date': '2020-11-09T21:01:31Z',\n",
       "   'Premium': {}},\n",
       "  {'Country': 'Saint Lucia',\n",
       "   'CountryCode': 'LC',\n",
       "   'Slug': 'saint-lucia',\n",
       "   'NewConfirmed': 8,\n",
       "   'TotalConfirmed': 131,\n",
       "   'NewDeaths': 0,\n",
       "   'TotalDeaths': 0,\n",
       "   'NewRecovered': 0,\n",
       "   'TotalRecovered': 32,\n",
       "   'Date': '2020-11-09T21:01:31Z',\n",
       "   'Premium': {}},\n",
       "  {'Country': 'Saint Vincent and Grenadines',\n",
       "   'CountryCode': 'VC',\n",
       "   'Slug': 'saint-vincent-and-the-grenadines',\n",
       "   'NewConfirmed': 0,\n",
       "   'TotalConfirmed': 76,\n",
       "   'NewDeaths': 0,\n",
       "   'TotalDeaths': 0,\n",
       "   'NewRecovered': 0,\n",
       "   'TotalRecovered': 72,\n",
       "   'Date': '2020-11-09T21:01:31Z',\n",
       "   'Premium': {}},\n",
       "  {'Country': 'San Marino',\n",
       "   'CountryCode': 'SM',\n",
       "   'Slug': 'san-marino',\n",
       "   'NewConfirmed': 0,\n",
       "   'TotalConfirmed': 1043,\n",
       "   'NewDeaths': 0,\n",
       "   'TotalDeaths': 42,\n",
       "   'NewRecovered': 0,\n",
       "   'TotalRecovered': 754,\n",
       "   'Date': '2020-11-09T21:01:31Z',\n",
       "   'Premium': {}},\n",
       "  {'Country': 'Sao Tome and Principe',\n",
       "   'CountryCode': 'ST',\n",
       "   'Slug': 'sao-tome-and-principe',\n",
       "   'NewConfirmed': 0,\n",
       "   'TotalConfirmed': 962,\n",
       "   'NewDeaths': 0,\n",
       "   'TotalDeaths': 16,\n",
       "   'NewRecovered': 2,\n",
       "   'TotalRecovered': 912,\n",
       "   'Date': '2020-11-09T21:01:31Z',\n",
       "   'Premium': {}},\n",
       "  {'Country': 'Saudi Arabia',\n",
       "   'CountryCode': 'SA',\n",
       "   'Slug': 'saudi-arabia',\n",
       "   'NewConfirmed': 363,\n",
       "   'TotalConfirmed': 350592,\n",
       "   'NewDeaths': 15,\n",
       "   'TotalDeaths': 5540,\n",
       "   'NewRecovered': 420,\n",
       "   'TotalRecovered': 337386,\n",
       "   'Date': '2020-11-09T21:01:31Z',\n",
       "   'Premium': {}},\n",
       "  {'Country': 'Senegal',\n",
       "   'CountryCode': 'SN',\n",
       "   'Slug': 'senegal',\n",
       "   'NewConfirmed': 15,\n",
       "   'TotalConfirmed': 15708,\n",
       "   'NewDeaths': 0,\n",
       "   'TotalDeaths': 326,\n",
       "   'NewRecovered': 19,\n",
       "   'TotalRecovered': 15336,\n",
       "   'Date': '2020-11-09T21:01:31Z',\n",
       "   'Premium': {}},\n",
       "  {'Country': 'Serbia',\n",
       "   'CountryCode': 'RS',\n",
       "   'Slug': 'serbia',\n",
       "   'NewConfirmed': 2112,\n",
       "   'TotalConfirmed': 62747,\n",
       "   'NewDeaths': 10,\n",
       "   'TotalDeaths': 890,\n",
       "   'NewRecovered': 0,\n",
       "   'TotalRecovered': 0,\n",
       "   'Date': '2020-11-09T21:01:31Z',\n",
       "   'Premium': {}},\n",
       "  {'Country': 'Seychelles',\n",
       "   'CountryCode': 'SC',\n",
       "   'Slug': 'seychelles',\n",
       "   'NewConfirmed': 0,\n",
       "   'TotalConfirmed': 158,\n",
       "   'NewDeaths': 0,\n",
       "   'TotalDeaths': 0,\n",
       "   'NewRecovered': 0,\n",
       "   'TotalRecovered': 155,\n",
       "   'Date': '2020-11-09T21:01:31Z',\n",
       "   'Premium': {}},\n",
       "  {'Country': 'Sierra Leone',\n",
       "   'CountryCode': 'SL',\n",
       "   'Slug': 'sierra-leone',\n",
       "   'NewConfirmed': 0,\n",
       "   'TotalConfirmed': 2381,\n",
       "   'NewDeaths': 0,\n",
       "   'TotalDeaths': 74,\n",
       "   'NewRecovered': 0,\n",
       "   'TotalRecovered': 1812,\n",
       "   'Date': '2020-11-09T21:01:31Z',\n",
       "   'Premium': {}},\n",
       "  {'Country': 'Singapore',\n",
       "   'CountryCode': 'SG',\n",
       "   'Slug': 'singapore',\n",
       "   'NewConfirmed': 2,\n",
       "   'TotalConfirmed': 58056,\n",
       "   'NewDeaths': 0,\n",
       "   'TotalDeaths': 28,\n",
       "   'NewRecovered': 7,\n",
       "   'TotalRecovered': 57975,\n",
       "   'Date': '2020-11-09T21:01:31Z',\n",
       "   'Premium': {}},\n",
       "  {'Country': 'Slovakia',\n",
       "   'CountryCode': 'SK',\n",
       "   'Slug': 'slovakia',\n",
       "   'NewConfirmed': 1828,\n",
       "   'TotalConfirmed': 75495,\n",
       "   'NewDeaths': 0,\n",
       "   'TotalDeaths': 351,\n",
       "   'NewRecovered': 1127,\n",
       "   'TotalRecovered': 19481,\n",
       "   'Date': '2020-11-09T21:01:31Z',\n",
       "   'Premium': {}},\n",
       "  {'Country': 'Slovenia',\n",
       "   'CountryCode': 'SI',\n",
       "   'Slug': 'slovenia',\n",
       "   'NewConfirmed': 891,\n",
       "   'TotalConfirmed': 45161,\n",
       "   'NewDeaths': 23,\n",
       "   'TotalDeaths': 554,\n",
       "   'NewRecovered': 1676,\n",
       "   'TotalRecovered': 22443,\n",
       "   'Date': '2020-11-09T21:01:31Z',\n",
       "   'Premium': {}},\n",
       "  {'Country': 'Solomon Islands',\n",
       "   'CountryCode': 'SB',\n",
       "   'Slug': 'solomon-islands',\n",
       "   'NewConfirmed': 0,\n",
       "   'TotalConfirmed': 13,\n",
       "   'NewDeaths': 0,\n",
       "   'TotalDeaths': 0,\n",
       "   'NewRecovered': 0,\n",
       "   'TotalRecovered': 4,\n",
       "   'Date': '2020-11-09T21:01:31Z',\n",
       "   'Premium': {}},\n",
       "  {'Country': 'Somalia',\n",
       "   'CountryCode': 'SO',\n",
       "   'Slug': 'somalia',\n",
       "   'NewConfirmed': 0,\n",
       "   'TotalConfirmed': 4229,\n",
       "   'NewDeaths': 0,\n",
       "   'TotalDeaths': 107,\n",
       "   'NewRecovered': 0,\n",
       "   'TotalRecovered': 3247,\n",
       "   'Date': '2020-11-09T21:01:31Z',\n",
       "   'Premium': {}},\n",
       "  {'Country': 'South Africa',\n",
       "   'CountryCode': 'ZA',\n",
       "   'Slug': 'south-africa',\n",
       "   'NewConfirmed': 1372,\n",
       "   'TotalConfirmed': 737278,\n",
       "   'NewDeaths': 20,\n",
       "   'TotalDeaths': 19809,\n",
       "   'NewRecovered': 950,\n",
       "   'TotalRecovered': 679688,\n",
       "   'Date': '2020-11-09T21:01:31Z',\n",
       "   'Premium': {}},\n",
       "  {'Country': 'South Sudan',\n",
       "   'CountryCode': 'SS',\n",
       "   'Slug': 'south-sudan',\n",
       "   'NewConfirmed': 0,\n",
       "   'TotalConfirmed': 2943,\n",
       "   'NewDeaths': 0,\n",
       "   'TotalDeaths': 59,\n",
       "   'NewRecovered': 0,\n",
       "   'TotalRecovered': 1290,\n",
       "   'Date': '2020-11-09T21:01:31Z',\n",
       "   'Premium': {}},\n",
       "  {'Country': 'Spain',\n",
       "   'CountryCode': 'ES',\n",
       "   'Slug': 'spain',\n",
       "   'NewConfirmed': 0,\n",
       "   'TotalConfirmed': 1328832,\n",
       "   'NewDeaths': 0,\n",
       "   'TotalDeaths': 38833,\n",
       "   'NewRecovered': 0,\n",
       "   'TotalRecovered': 150376,\n",
       "   'Date': '2020-11-09T21:01:31Z',\n",
       "   'Premium': {}},\n",
       "  {'Country': 'Sri Lanka',\n",
       "   'CountryCode': 'LK',\n",
       "   'Slug': 'sri-lanka',\n",
       "   'NewConfirmed': 510,\n",
       "   'TotalConfirmed': 13929,\n",
       "   'NewDeaths': 1,\n",
       "   'TotalDeaths': 35,\n",
       "   'NewRecovered': 562,\n",
       "   'TotalRecovered': 8285,\n",
       "   'Date': '2020-11-09T21:01:31Z',\n",
       "   'Premium': {}},\n",
       "  {'Country': 'Sudan',\n",
       "   'CountryCode': 'SD',\n",
       "   'Slug': 'sudan',\n",
       "   'NewConfirmed': 147,\n",
       "   'TotalConfirmed': 14090,\n",
       "   'NewDeaths': 278,\n",
       "   'TotalDeaths': 1115,\n",
       "   'NewRecovered': 2720,\n",
       "   'TotalRecovered': 9484,\n",
       "   'Date': '2020-11-09T21:01:31Z',\n",
       "   'Premium': {}},\n",
       "  {'Country': 'Suriname',\n",
       "   'CountryCode': 'SR',\n",
       "   'Slug': 'suriname',\n",
       "   'NewConfirmed': 5,\n",
       "   'TotalConfirmed': 5239,\n",
       "   'NewDeaths': 0,\n",
       "   'TotalDeaths': 113,\n",
       "   'NewRecovered': 2,\n",
       "   'TotalRecovered': 5107,\n",
       "   'Date': '2020-11-09T21:01:31Z',\n",
       "   'Premium': {}},\n",
       "  {'Country': 'Swaziland',\n",
       "   'CountryCode': 'SZ',\n",
       "   'Slug': 'swaziland',\n",
       "   'NewConfirmed': 14,\n",
       "   'TotalConfirmed': 6003,\n",
       "   'NewDeaths': 0,\n",
       "   'TotalDeaths': 117,\n",
       "   'NewRecovered': 5,\n",
       "   'TotalRecovered': 5724,\n",
       "   'Date': '2020-11-09T21:01:31Z',\n",
       "   'Premium': {}},\n",
       "  {'Country': 'Sweden',\n",
       "   'CountryCode': 'SE',\n",
       "   'Slug': 'sweden',\n",
       "   'NewConfirmed': 0,\n",
       "   'TotalConfirmed': 146461,\n",
       "   'NewDeaths': 0,\n",
       "   'TotalDeaths': 6022,\n",
       "   'NewRecovered': 0,\n",
       "   'TotalRecovered': 0,\n",
       "   'Date': '2020-11-09T21:01:31Z',\n",
       "   'Premium': {}},\n",
       "  {'Country': 'Switzerland',\n",
       "   'CountryCode': 'CH',\n",
       "   'Slug': 'switzerland',\n",
       "   'NewConfirmed': 0,\n",
       "   'TotalConfirmed': 211913,\n",
       "   'NewDeaths': 23,\n",
       "   'TotalDeaths': 2772,\n",
       "   'NewRecovered': 0,\n",
       "   'TotalRecovered': 87300,\n",
       "   'Date': '2020-11-09T21:01:31Z',\n",
       "   'Premium': {}},\n",
       "  {'Country': 'Syrian Arab Republic (Syria)',\n",
       "   'CountryCode': 'SY',\n",
       "   'Slug': 'syria',\n",
       "   'NewConfirmed': 68,\n",
       "   'TotalConfirmed': 6215,\n",
       "   'NewDeaths': 4,\n",
       "   'TotalDeaths': 317,\n",
       "   'NewRecovered': 55,\n",
       "   'TotalRecovered': 2357,\n",
       "   'Date': '2020-11-09T21:01:31Z',\n",
       "   'Premium': {}},\n",
       "  {'Country': 'Taiwan, Republic of China',\n",
       "   'CountryCode': 'TW',\n",
       "   'Slug': 'taiwan',\n",
       "   'NewConfirmed': 4,\n",
       "   'TotalConfirmed': 577,\n",
       "   'NewDeaths': 0,\n",
       "   'TotalDeaths': 7,\n",
       "   'NewRecovered': 1,\n",
       "   'TotalRecovered': 524,\n",
       "   'Date': '2020-11-09T21:01:31Z',\n",
       "   'Premium': {}},\n",
       "  {'Country': 'Tajikistan',\n",
       "   'CountryCode': 'TJ',\n",
       "   'Slug': 'tajikistan',\n",
       "   'NewConfirmed': 42,\n",
       "   'TotalConfirmed': 11336,\n",
       "   'NewDeaths': 0,\n",
       "   'TotalDeaths': 83,\n",
       "   'NewRecovered': 59,\n",
       "   'TotalRecovered': 10653,\n",
       "   'Date': '2020-11-09T21:01:31Z',\n",
       "   'Premium': {}},\n",
       "  {'Country': 'Tanzania, United Republic of',\n",
       "   'CountryCode': 'TZ',\n",
       "   'Slug': 'tanzania',\n",
       "   'NewConfirmed': 0,\n",
       "   'TotalConfirmed': 509,\n",
       "   'NewDeaths': 0,\n",
       "   'TotalDeaths': 21,\n",
       "   'NewRecovered': 0,\n",
       "   'TotalRecovered': 183,\n",
       "   'Date': '2020-11-09T21:01:31Z',\n",
       "   'Premium': {}},\n",
       "  {'Country': 'Thailand',\n",
       "   'CountryCode': 'TH',\n",
       "   'Slug': 'thailand',\n",
       "   'NewConfirmed': 3,\n",
       "   'TotalConfirmed': 3840,\n",
       "   'NewDeaths': 0,\n",
       "   'TotalDeaths': 60,\n",
       "   'NewRecovered': 7,\n",
       "   'TotalRecovered': 3661,\n",
       "   'Date': '2020-11-09T21:01:31Z',\n",
       "   'Premium': {}},\n",
       "  {'Country': 'Timor-Leste',\n",
       "   'CountryCode': 'TL',\n",
       "   'Slug': 'timor-leste',\n",
       "   'NewConfirmed': 0,\n",
       "   'TotalConfirmed': 30,\n",
       "   'NewDeaths': 0,\n",
       "   'TotalDeaths': 0,\n",
       "   'NewRecovered': 0,\n",
       "   'TotalRecovered': 29,\n",
       "   'Date': '2020-11-09T21:01:31Z',\n",
       "   'Premium': {}},\n",
       "  {'Country': 'Togo',\n",
       "   'CountryCode': 'TG',\n",
       "   'Slug': 'togo',\n",
       "   'NewConfirmed': 33,\n",
       "   'TotalConfirmed': 2516,\n",
       "   'NewDeaths': 0,\n",
       "   'TotalDeaths': 57,\n",
       "   'NewRecovered': 5,\n",
       "   'TotalRecovered': 1732,\n",
       "   'Date': '2020-11-09T21:01:31Z',\n",
       "   'Premium': {}},\n",
       "  {'Country': 'Trinidad and Tobago',\n",
       "   'CountryCode': 'TT',\n",
       "   'Slug': 'trinidad-and-tobago',\n",
       "   'NewConfirmed': 11,\n",
       "   'TotalConfirmed': 5849,\n",
       "   'NewDeaths': 0,\n",
       "   'TotalDeaths': 111,\n",
       "   'NewRecovered': 5,\n",
       "   'TotalRecovered': 5132,\n",
       "   'Date': '2020-11-09T21:01:31Z',\n",
       "   'Premium': {}},\n",
       "  {'Country': 'Tunisia',\n",
       "   'CountryCode': 'TN',\n",
       "   'Slug': 'tunisia',\n",
       "   'NewConfirmed': 1576,\n",
       "   'TotalConfirmed': 71119,\n",
       "   'NewDeaths': 79,\n",
       "   'TotalDeaths': 1873,\n",
       "   'NewRecovered': 687,\n",
       "   'TotalRecovered': 48103,\n",
       "   'Date': '2020-11-09T21:01:31Z',\n",
       "   'Premium': {}},\n",
       "  {'Country': 'Turkey',\n",
       "   'CountryCode': 'TR',\n",
       "   'Slug': 'turkey',\n",
       "   'NewConfirmed': 2516,\n",
       "   'TotalConfirmed': 394255,\n",
       "   'NewDeaths': 84,\n",
       "   'TotalDeaths': 10887,\n",
       "   'NewRecovered': 2018,\n",
       "   'TotalRecovered': 338239,\n",
       "   'Date': '2020-11-09T21:01:31Z',\n",
       "   'Premium': {}},\n",
       "  {'Country': 'Uganda',\n",
       "   'CountryCode': 'UG',\n",
       "   'Slug': 'uganda',\n",
       "   'NewConfirmed': 337,\n",
       "   'TotalConfirmed': 14403,\n",
       "   'NewDeaths': 1,\n",
       "   'TotalDeaths': 132,\n",
       "   'NewRecovered': 18,\n",
       "   'TotalRecovered': 7771,\n",
       "   'Date': '2020-11-09T21:01:31Z',\n",
       "   'Premium': {}},\n",
       "  {'Country': 'Ukraine',\n",
       "   'CountryCode': 'UA',\n",
       "   'Slug': 'ukraine',\n",
       "   'NewConfirmed': 9647,\n",
       "   'TotalConfirmed': 474245,\n",
       "   'NewDeaths': 142,\n",
       "   'TotalDeaths': 8695,\n",
       "   'NewRecovered': 2808,\n",
       "   'TotalRecovered': 215357,\n",
       "   'Date': '2020-11-09T21:01:31Z',\n",
       "   'Premium': {}},\n",
       "  {'Country': 'United Arab Emirates',\n",
       "   'CountryCode': 'AE',\n",
       "   'Slug': 'united-arab-emirates',\n",
       "   'NewConfirmed': 1111,\n",
       "   'TotalConfirmed': 142143,\n",
       "   'NewDeaths': 0,\n",
       "   'TotalDeaths': 514,\n",
       "   'NewRecovered': 683,\n",
       "   'TotalRecovered': 138291,\n",
       "   'Date': '2020-11-09T21:01:31Z',\n",
       "   'Premium': {}},\n",
       "  {'Country': 'United Kingdom',\n",
       "   'CountryCode': 'GB',\n",
       "   'Slug': 'united-kingdom',\n",
       "   'NewConfirmed': 20580,\n",
       "   'TotalConfirmed': 1195350,\n",
       "   'NewDeaths': 156,\n",
       "   'TotalDeaths': 49134,\n",
       "   'NewRecovered': 18,\n",
       "   'TotalRecovered': 2983,\n",
       "   'Date': '2020-11-09T21:01:31Z',\n",
       "   'Premium': {}},\n",
       "  {'Country': 'United States of America',\n",
       "   'CountryCode': 'US',\n",
       "   'Slug': 'united-states',\n",
       "   'NewConfirmed': 105927,\n",
       "   'TotalConfirmed': 9968155,\n",
       "   'NewDeaths': 457,\n",
       "   'TotalDeaths': 237570,\n",
       "   'NewRecovered': 30026,\n",
       "   'TotalRecovered': 3881491,\n",
       "   'Date': '2020-11-09T21:01:31Z',\n",
       "   'Premium': {}},\n",
       "  {'Country': 'Uruguay',\n",
       "   'CountryCode': 'UY',\n",
       "   'Slug': 'uruguay',\n",
       "   'NewConfirmed': 73,\n",
       "   'TotalConfirmed': 3514,\n",
       "   'NewDeaths': 1,\n",
       "   'TotalDeaths': 62,\n",
       "   'NewRecovered': 40,\n",
       "   'TotalRecovered': 2943,\n",
       "   'Date': '2020-11-09T21:01:31Z',\n",
       "   'Premium': {}},\n",
       "  {'Country': 'Uzbekistan',\n",
       "   'CountryCode': 'UZ',\n",
       "   'Slug': 'uzbekistan',\n",
       "   'NewConfirmed': 363,\n",
       "   'TotalConfirmed': 68730,\n",
       "   'NewDeaths': 4,\n",
       "   'TotalDeaths': 585,\n",
       "   'NewRecovered': 421,\n",
       "   'TotalRecovered': 65971,\n",
       "   'Date': '2020-11-09T21:01:31Z',\n",
       "   'Premium': {}},\n",
       "  {'Country': 'Venezuela (Bolivarian Republic)',\n",
       "   'CountryCode': 'VE',\n",
       "   'Slug': 'venezuela',\n",
       "   'NewConfirmed': 185,\n",
       "   'TotalConfirmed': 94883,\n",
       "   'NewDeaths': 2,\n",
       "   'TotalDeaths': 826,\n",
       "   'NewRecovered': 253,\n",
       "   'TotalRecovered': 89755,\n",
       "   'Date': '2020-11-09T21:01:31Z',\n",
       "   'Premium': {}},\n",
       "  {'Country': 'Viet Nam',\n",
       "   'CountryCode': 'VN',\n",
       "   'Slug': 'vietnam',\n",
       "   'NewConfirmed': 0,\n",
       "   'TotalConfirmed': 1213,\n",
       "   'NewDeaths': 0,\n",
       "   'TotalDeaths': 35,\n",
       "   'NewRecovered': 0,\n",
       "   'TotalRecovered': 1070,\n",
       "   'Date': '2020-11-09T21:01:31Z',\n",
       "   'Premium': {}},\n",
       "  {'Country': 'Western Sahara',\n",
       "   'CountryCode': 'EH',\n",
       "   'Slug': 'western-sahara',\n",
       "   'NewConfirmed': 0,\n",
       "   'TotalConfirmed': 10,\n",
       "   'NewDeaths': 0,\n",
       "   'TotalDeaths': 1,\n",
       "   'NewRecovered': 0,\n",
       "   'TotalRecovered': 8,\n",
       "   'Date': '2020-11-09T21:01:31Z',\n",
       "   'Premium': {}},\n",
       "  {'Country': 'Yemen',\n",
       "   'CountryCode': 'YE',\n",
       "   'Slug': 'yemen',\n",
       "   'NewConfirmed': 0,\n",
       "   'TotalConfirmed': 2070,\n",
       "   'NewDeaths': 0,\n",
       "   'TotalDeaths': 602,\n",
       "   'NewRecovered': 0,\n",
       "   'TotalRecovered': 1375,\n",
       "   'Date': '2020-11-09T21:01:31Z',\n",
       "   'Premium': {}},\n",
       "  {'Country': 'Zambia',\n",
       "   'CountryCode': 'ZM',\n",
       "   'Slug': 'zambia',\n",
       "   'NewConfirmed': 46,\n",
       "   'TotalConfirmed': 16954,\n",
       "   'NewDeaths': 0,\n",
       "   'TotalDeaths': 349,\n",
       "   'NewRecovered': 77,\n",
       "   'TotalRecovered': 15950,\n",
       "   'Date': '2020-11-09T21:01:31Z',\n",
       "   'Premium': {}},\n",
       "  {'Country': 'Zimbabwe',\n",
       "   'CountryCode': 'ZW',\n",
       "   'Slug': 'zimbabwe',\n",
       "   'NewConfirmed': 33,\n",
       "   'TotalConfirmed': 8531,\n",
       "   'NewDeaths': 2,\n",
       "   'TotalDeaths': 253,\n",
       "   'NewRecovered': 10,\n",
       "   'TotalRecovered': 8005,\n",
       "   'Date': '2020-11-09T21:01:31Z',\n",
       "   'Premium': {}}],\n",
       " 'Date': '2020-11-09T21:01:31Z'}"
      ]
     },
     "execution_count": 76,
     "metadata": {},
     "output_type": "execute_result"
    }
   ],
   "source": [
    "response_info"
   ]
  },
  {
   "cell_type": "code",
   "execution_count": 77,
   "metadata": {},
   "outputs": [
    {
     "data": {
      "text/plain": [
       "<bound method Response.json of <Response [200]>>"
      ]
     },
     "execution_count": 77,
     "metadata": {},
     "output_type": "execute_result"
    }
   ],
   "source": [
    "requests.get('https://api.covid19api.com/summary').json"
   ]
  },
  {
   "cell_type": "code",
   "execution_count": 79,
   "metadata": {},
   "outputs": [],
   "source": [
    "country_list = []\n",
    "for country_info in response_info['Countries']:\n",
    " country_list.append([country_info['Country'], country_info['TotalConfirmed']])"
   ]
  },
  {
   "cell_type": "code",
   "execution_count": 80,
   "metadata": {
    "collapsed": true,
    "jupyter": {
     "outputs_hidden": true
    }
   },
   "outputs": [
    {
     "data": {
      "text/plain": [
       "[['Afghanistan', 42092],\n",
       " ['Albania', 24206],\n",
       " ['Algeria', 62051],\n",
       " ['Andorra', 5383],\n",
       " ['Angola', 12433],\n",
       " ['Antigua and Barbuda', 131],\n",
       " ['Argentina', 1242182],\n",
       " ['Armenia', 106424],\n",
       " ['Australia', 27665],\n",
       " ['Austria', 153153],\n",
       " ['Azerbaijan', 65411],\n",
       " ['Bahamas', 6947],\n",
       " ['Bahrain', 83456],\n",
       " ['Bangladesh', 420238],\n",
       " ['Barbados', 242],\n",
       " ['Belarus', 106279],\n",
       " ['Belgium', 500789],\n",
       " ['Belize', 4176],\n",
       " ['Benin', 2745],\n",
       " ['Bhutan', 359],\n",
       " ['Bolivia', 142475],\n",
       " ['Bosnia and Herzegovina', 62423],\n",
       " ['Botswana', 7835],\n",
       " ['Brazil', 5664115],\n",
       " ['Brunei Darussalam', 148],\n",
       " ['Bulgaria', 75160],\n",
       " ['Burkina Faso', 2569],\n",
       " ['Burundi', 612],\n",
       " ['Cambodia', 297],\n",
       " ['Cameroon', 22421],\n",
       " ['Canada', 267150],\n",
       " ['Cape Verde', 9369],\n",
       " ['Central African Republic', 4879],\n",
       " ['Chad', 1547],\n",
       " ['Chile', 521558],\n",
       " ['China', 91665],\n",
       " ['Colombia', 1143887],\n",
       " ['Comoros', 563],\n",
       " ['Congo (Brazzaville)', 5379],\n",
       " ['Congo (Kinshasa)', 11591],\n",
       " ['Costa Rica', 116363],\n",
       " ['Croatia', 67247],\n",
       " ['Cuba', 7297],\n",
       " ['Cyprus', 5987],\n",
       " ['Czech Republic', 414828],\n",
       " [\"Côte d'Ivoire\", 20832],\n",
       " ['Denmark', 55635],\n",
       " ['Djibouti', 5608],\n",
       " ['Dominica', 63],\n",
       " ['Dominican Republic', 130182],\n",
       " ['Ecuador', 174907],\n",
       " ['Egypt', 109201],\n",
       " ['El Salvador', 35145],\n",
       " ['Equatorial Guinea', 5092],\n",
       " ['Eritrea', 491],\n",
       " ['Estonia', 6125],\n",
       " ['Ethiopia', 99675],\n",
       " ['Fiji', 34],\n",
       " ['Finland', 17797],\n",
       " ['France', 1835187],\n",
       " ['Gabon', 9022],\n",
       " ['Gambia', 3684],\n",
       " ['Georgia', 57753],\n",
       " ['Germany', 682624],\n",
       " ['Ghana', 49102],\n",
       " ['Greece', 56698],\n",
       " ['Grenada', 32],\n",
       " ['Guatemala', 111262],\n",
       " ['Guinea', 12414],\n",
       " ['Guinea-Bissau', 2414],\n",
       " ['Guyana', 4514],\n",
       " ['Haiti', 9127],\n",
       " ['Holy See (Vatican City State)', 27],\n",
       " ['Honduras', 100041],\n",
       " ['Hungary', 109616],\n",
       " ['Iceland', 5078],\n",
       " ['India', 8553657],\n",
       " ['Indonesia', 437716],\n",
       " ['Iran, Islamic Republic of', 682486],\n",
       " ['Iraq', 498549],\n",
       " ['Ireland', 65394],\n",
       " ['Israel', 319241],\n",
       " ['Italy', 935104],\n",
       " ['Jamaica', 9506],\n",
       " ['Japan', 108394],\n",
       " ['Jordan', 109321],\n",
       " ['Kazakhstan', 116772],\n",
       " ['Kenya', 62488],\n",
       " ['Korea (South)', 27553],\n",
       " ['Kuwait', 131743],\n",
       " ['Kyrgyzstan', 62819],\n",
       " ['Lao PDR', 24],\n",
       " ['Latvia', 8095],\n",
       " ['Lebanon', 94236],\n",
       " ['Lesotho', 1967],\n",
       " ['Liberia', 1442],\n",
       " ['Libya', 68117],\n",
       " ['Liechtenstein', 788],\n",
       " ['Lithuania', 24699],\n",
       " ['Luxembourg', 21806],\n",
       " ['Macao, SAR China', 0],\n",
       " ['Macedonia, Republic of', 39760],\n",
       " ['Madagascar', 17223],\n",
       " ['Malawi', 5951],\n",
       " ['Malaysia', 40209],\n",
       " ['Maldives', 11986],\n",
       " ['Mali', 3706],\n",
       " ['Malta', 7141],\n",
       " ['Marshall Islands', 1],\n",
       " ['Mauritania', 7820],\n",
       " ['Mauritius', 453],\n",
       " ['Mexico', 967825],\n",
       " ['Moldova', 82346],\n",
       " ['Monaco', 486],\n",
       " ['Mongolia', 362],\n",
       " ['Montenegro', 22805],\n",
       " ['Morocco', 256781],\n",
       " ['Mozambique', 13768],\n",
       " ['Myanmar', 61377],\n",
       " ['Namibia', 13211],\n",
       " ['Nepal', 194453],\n",
       " ['Netherlands', 410065],\n",
       " ['New Zealand', 1986],\n",
       " ['Nicaragua', 5591],\n",
       " ['Niger', 1243],\n",
       " ['Nigeria', 64090],\n",
       " ['Norway', 24732],\n",
       " ['Oman', 118140],\n",
       " ['Pakistan', 344839],\n",
       " ['Palestinian Territory', 58158],\n",
       " ['Panama', 139527],\n",
       " ['Papua New Guinea', 599],\n",
       " ['Paraguay', 67589],\n",
       " ['Peru', 920010],\n",
       " ['Philippines', 396395],\n",
       " ['Poland', 546425],\n",
       " ['Portugal', 179324],\n",
       " ['Qatar', 134203],\n",
       " ['Republic of Kosovo', 22934],\n",
       " ['Romania', 303751],\n",
       " ['Russian Federation', 1760420],\n",
       " ['Rwanda', 5222],\n",
       " ['Réunion', 0],\n",
       " ['Saint Kitts and Nevis', 19],\n",
       " ['Saint Lucia', 131],\n",
       " ['Saint Vincent and Grenadines', 76],\n",
       " ['San Marino', 1043],\n",
       " ['Sao Tome and Principe', 962],\n",
       " ['Saudi Arabia', 350592],\n",
       " ['Senegal', 15708],\n",
       " ['Serbia', 62747],\n",
       " ['Seychelles', 158],\n",
       " ['Sierra Leone', 2381],\n",
       " ['Singapore', 58056],\n",
       " ['Slovakia', 75495],\n",
       " ['Slovenia', 45161],\n",
       " ['Solomon Islands', 13],\n",
       " ['Somalia', 4229],\n",
       " ['South Africa', 737278],\n",
       " ['South Sudan', 2943],\n",
       " ['Spain', 1328832],\n",
       " ['Sri Lanka', 13929],\n",
       " ['Sudan', 14090],\n",
       " ['Suriname', 5239],\n",
       " ['Swaziland', 6003],\n",
       " ['Sweden', 146461],\n",
       " ['Switzerland', 211913],\n",
       " ['Syrian Arab Republic (Syria)', 6215],\n",
       " ['Taiwan, Republic of China', 577],\n",
       " ['Tajikistan', 11336],\n",
       " ['Tanzania, United Republic of', 509],\n",
       " ['Thailand', 3840],\n",
       " ['Timor-Leste', 30],\n",
       " ['Togo', 2516],\n",
       " ['Trinidad and Tobago', 5849],\n",
       " ['Tunisia', 71119],\n",
       " ['Turkey', 394255],\n",
       " ['Uganda', 14403],\n",
       " ['Ukraine', 474245],\n",
       " ['United Arab Emirates', 142143],\n",
       " ['United Kingdom', 1195350],\n",
       " ['United States of America', 9968155],\n",
       " ['Uruguay', 3514],\n",
       " ['Uzbekistan', 68730],\n",
       " ['Venezuela (Bolivarian Republic)', 94883],\n",
       " ['Viet Nam', 1213],\n",
       " ['Western Sahara', 10],\n",
       " ['Yemen', 2070],\n",
       " ['Zambia', 16954],\n",
       " ['Zimbabwe', 8531]]"
      ]
     },
     "execution_count": 80,
     "metadata": {},
     "output_type": "execute_result"
    }
   ],
   "source": [
    "country_list"
   ]
  },
  {
   "cell_type": "code",
   "execution_count": 81,
   "metadata": {},
   "outputs": [],
   "source": [
    "import pandas as pd"
   ]
  },
  {
   "cell_type": "code",
   "execution_count": 209,
   "metadata": {},
   "outputs": [],
   "source": [
    "country_df = pd.DataFrame(data=country_list, columns=['Country','Total_Confirmed'])"
   ]
  },
  {
   "cell_type": "code",
   "execution_count": 210,
   "metadata": {},
   "outputs": [
    {
     "data": {
      "text/html": [
       "<div>\n",
       "<style scoped>\n",
       "    .dataframe tbody tr th:only-of-type {\n",
       "        vertical-align: middle;\n",
       "    }\n",
       "\n",
       "    .dataframe tbody tr th {\n",
       "        vertical-align: top;\n",
       "    }\n",
       "\n",
       "    .dataframe thead th {\n",
       "        text-align: right;\n",
       "    }\n",
       "</style>\n",
       "<table border=\"1\" class=\"dataframe\">\n",
       "  <thead>\n",
       "    <tr style=\"text-align: right;\">\n",
       "      <th></th>\n",
       "      <th>Country</th>\n",
       "      <th>Total_Confirmed</th>\n",
       "    </tr>\n",
       "  </thead>\n",
       "  <tbody>\n",
       "    <tr>\n",
       "      <th>0</th>\n",
       "      <td>Afghanistan</td>\n",
       "      <td>42092</td>\n",
       "    </tr>\n",
       "    <tr>\n",
       "      <th>1</th>\n",
       "      <td>Albania</td>\n",
       "      <td>24206</td>\n",
       "    </tr>\n",
       "    <tr>\n",
       "      <th>2</th>\n",
       "      <td>Algeria</td>\n",
       "      <td>62051</td>\n",
       "    </tr>\n",
       "    <tr>\n",
       "      <th>3</th>\n",
       "      <td>Andorra</td>\n",
       "      <td>5383</td>\n",
       "    </tr>\n",
       "    <tr>\n",
       "      <th>4</th>\n",
       "      <td>Angola</td>\n",
       "      <td>12433</td>\n",
       "    </tr>\n",
       "    <tr>\n",
       "      <th>...</th>\n",
       "      <td>...</td>\n",
       "      <td>...</td>\n",
       "    </tr>\n",
       "    <tr>\n",
       "      <th>95</th>\n",
       "      <td>Liberia</td>\n",
       "      <td>1442</td>\n",
       "    </tr>\n",
       "    <tr>\n",
       "      <th>96</th>\n",
       "      <td>Libya</td>\n",
       "      <td>68117</td>\n",
       "    </tr>\n",
       "    <tr>\n",
       "      <th>97</th>\n",
       "      <td>Liechtenstein</td>\n",
       "      <td>788</td>\n",
       "    </tr>\n",
       "    <tr>\n",
       "      <th>98</th>\n",
       "      <td>Lithuania</td>\n",
       "      <td>24699</td>\n",
       "    </tr>\n",
       "    <tr>\n",
       "      <th>99</th>\n",
       "      <td>Luxembourg</td>\n",
       "      <td>21806</td>\n",
       "    </tr>\n",
       "  </tbody>\n",
       "</table>\n",
       "<p>100 rows × 2 columns</p>\n",
       "</div>"
      ],
      "text/plain": [
       "          Country  Total_Confirmed\n",
       "0     Afghanistan            42092\n",
       "1         Albania            24206\n",
       "2         Algeria            62051\n",
       "3         Andorra             5383\n",
       "4          Angola            12433\n",
       "..            ...              ...\n",
       "95        Liberia             1442\n",
       "96          Libya            68117\n",
       "97  Liechtenstein              788\n",
       "98      Lithuania            24699\n",
       "99     Luxembourg            21806\n",
       "\n",
       "[100 rows x 2 columns]"
      ]
     },
     "execution_count": 210,
     "metadata": {},
     "output_type": "execute_result"
    }
   ],
   "source": [
    "country_df.head(100)"
   ]
  },
  {
   "cell_type": "code",
   "execution_count": 212,
   "metadata": {},
   "outputs": [
    {
     "data": {
      "text/plain": [
       "<AxesSubplot:>"
      ]
     },
     "execution_count": 212,
     "metadata": {},
     "output_type": "execute_result"
    },
    {
     "data": {
      "image/png": "[encoded data removed]",
      "text/plain": [
       "<Figure size 432x288 with 1 Axes>"
      ]
     },
     "metadata": {
      "needs_background": "light"
     },
     "output_type": "display_data"
    }
   ],
   "source": [
    "country_df.plot.bar()"
   ]
  },
  {
   "cell_type": "code",
   "execution_count": 224,
   "metadata": {},
   "outputs": [],
   "source": [
    "country_df.set_index('Country',drop=True,inplace=True)"
   ]
  },
  {
   "cell_type": "code",
   "execution_count": 225,
   "metadata": {},
   "outputs": [
    {
     "data": {
      "text/plain": [
       "<AxesSubplot:xlabel='Country'>"
      ]
     },
     "execution_count": 225,
     "metadata": {},
     "output_type": "execute_result"
    },
    {
     "data": {
      "image/png": "[encoded data removed]",
      "text/plain": [
       "<Figure size 432x288 with 1 Axes>"
      ]
     },
     "metadata": {
      "needs_background": "light"
     },
     "output_type": "display_data"
    }
   ],
   "source": [
    "country_df.plot.bar()"
   ]
  },
  {
   "cell_type": "code",
   "execution_count": 220,
   "metadata": {},
   "outputs": [],
   "source": [
    "df=country_df.nlargest(n=10,columns=['Total_Confirmed'])"
   ]
  },
  {
   "cell_type": "code",
   "execution_count": 221,
   "metadata": {},
   "outputs": [
    {
     "data": {
      "text/plain": [
       "<AxesSubplot:>"
      ]
     },
     "execution_count": 221,
     "metadata": {},
     "output_type": "execute_result"
    },
    {
     "data": {
      "image/png": "[encoded data removed]",
      "text/plain": [
       "<Figure size 432x288 with 1 Axes>"
      ]
     },
     "metadata": {
      "needs_background": "light"
     },
     "output_type": "display_data"
    }
   ],
   "source": [
    "df.plot.bar()"
   ]
  },
  {
   "cell_type": "code",
   "execution_count": 222,
   "metadata": {},
   "outputs": [
    {
     "data": {
      "text/html": [
       "<div>\n",
       "<style scoped>\n",
       "    .dataframe tbody tr th:only-of-type {\n",
       "        vertical-align: middle;\n",
       "    }\n",
       "\n",
       "    .dataframe tbody tr th {\n",
       "        vertical-align: top;\n",
       "    }\n",
       "\n",
       "    .dataframe thead th {\n",
       "        text-align: right;\n",
       "    }\n",
       "</style>\n",
       "<table border=\"1\" class=\"dataframe\">\n",
       "  <thead>\n",
       "    <tr style=\"text-align: right;\">\n",
       "      <th></th>\n",
       "      <th>Total_Confirmed</th>\n",
       "    </tr>\n",
       "    <tr>\n",
       "      <th>Country</th>\n",
       "      <th></th>\n",
       "    </tr>\n",
       "  </thead>\n",
       "  <tbody>\n",
       "    <tr>\n",
       "      <th>United States of America</th>\n",
       "      <td>9968155</td>\n",
       "    </tr>\n",
       "    <tr>\n",
       "      <th>India</th>\n",
       "      <td>8553657</td>\n",
       "    </tr>\n",
       "    <tr>\n",
       "      <th>Brazil</th>\n",
       "      <td>5664115</td>\n",
       "    </tr>\n",
       "    <tr>\n",
       "      <th>France</th>\n",
       "      <td>1835187</td>\n",
       "    </tr>\n",
       "    <tr>\n",
       "      <th>Russian Federation</th>\n",
       "      <td>1760420</td>\n",
       "    </tr>\n",
       "    <tr>\n",
       "      <th>Spain</th>\n",
       "      <td>1328832</td>\n",
       "    </tr>\n",
       "    <tr>\n",
       "      <th>Argentina</th>\n",
       "      <td>1242182</td>\n",
       "    </tr>\n",
       "    <tr>\n",
       "      <th>United Kingdom</th>\n",
       "      <td>1195350</td>\n",
       "    </tr>\n",
       "    <tr>\n",
       "      <th>Colombia</th>\n",
       "      <td>1143887</td>\n",
       "    </tr>\n",
       "    <tr>\n",
       "      <th>Mexico</th>\n",
       "      <td>967825</td>\n",
       "    </tr>\n",
       "  </tbody>\n",
       "</table>\n",
       "</div>"
      ],
      "text/plain": [
       "                          Total_Confirmed\n",
       "Country                                  \n",
       "United States of America          9968155\n",
       "India                             8553657\n",
       "Brazil                            5664115\n",
       "France                            1835187\n",
       "Russian Federation                1760420\n",
       "Spain                             1328832\n",
       "Argentina                         1242182\n",
       "United Kingdom                    1195350\n",
       "Colombia                          1143887\n",
       "Mexico                             967825"
      ]
     },
     "execution_count": 222,
     "metadata": {},
     "output_type": "execute_result"
    }
   ],
   "source": [
    "df.set_index('Country',drop=True,inplace=True)\n",
    "df"
   ]
  },
  {
   "cell_type": "code",
   "execution_count": 223,
   "metadata": {},
   "outputs": [
    {
     "data": {
      "text/plain": [
       "<AxesSubplot:xlabel='Country'>"
      ]
     },
     "execution_count": 223,
     "metadata": {},
     "output_type": "execute_result"
    },
    {
     "data": {
      "image/png": "[encoded data removed]",
      "text/plain": [
       "<Figure size 432x288 with 1 Axes>"
      ]
     },
     "metadata": {
      "needs_background": "light"
     },
     "output_type": "display_data"
    }
   ],
   "source": [
    "df.plot.bar()"
   ]
  },
  {
   "cell_type": "markdown",
   "metadata": {},
   "source": [
    "## Este notebook está basado en:\n",
    "* https://realpython.com/python-dicts/#conclusion\n",
    "* https://www.datacamp.com/community/tutorials/dictionary-python?utm_source=adwords_ppc&utm_campaignid=1455363063&utm_adgroupid=65083631748&utm_device=c&utm_keyword=&utm_matchtype=b&utm_network=g&utm_adpostion=&utm_creative=278443377086&utm_targetid=aud-392016246653:dsa-429603003980&utm_loc_interest_ms=&utm_loc_physical_ms=1010058&gclid=CjwKCAjwh7H7BRBBEiwAPXjadu2WwIqpuUcctUJu6H8PeZGOAskh4UM84RNIpoLNuB-g6DjUejlqmxoCHVUQAvD_BwE\n",
    "* https://www.geeksforgeeks.org/python-dictionary/\n",
    "* http://introtopython.org/dictionaries.html\n",
    "* https://towardsdatascience.com/json-and-apis-with-python-fba329ef6ef0\n",
    "* https://www.programiz.com/python-programming/nested-dictionary\n",
    "* https://openbookproject.net/thinkcs/python/english3e/dictionaries.html"
   ]
  },
  {
   "cell_type": "code",
   "execution_count": null,
   "metadata": {},
   "outputs": [],
   "source": []
  }
 ],
 "metadata": {
  "kernelspec": {
   "display_name": "Python 3",
   "language": "python",
   "name": "python3"
  },
  "language_info": {
   "codemirror_mode": {
    "name": "ipython",
    "version": 3
   },
   "file_extension": ".py",
   "mimetype": "text/x-python",
   "name": "python",
   "nbconvert_exporter": "python",
   "pygments_lexer": "ipython3",
   "version": "3.7.7"
  }
 },
 "nbformat": 4,
 "nbformat_minor": 4
}
