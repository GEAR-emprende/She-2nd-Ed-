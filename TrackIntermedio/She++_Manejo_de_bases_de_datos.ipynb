{
  "nbformat": 4,
  "nbformat_minor": 0,
  "metadata": {
    "colab": {
      "name": "She++ Manejo de bases de datos",
      "provenance": [],
      "collapsed_sections": [],
      "toc_visible": true
    },
    "kernelspec": {
      "name": "python2",
      "display_name": "Python 2"
    }
  },
  "cells": [
    {
      "cell_type": "markdown",
      "metadata": {
        "id": "M4xyWxZFevtN"
      },
      "source": [
        "# 1) Fuentes de datos\n",
        "\n",
        "Cargaremos la base de datos que está en un archivo tipo .csv que contiene todas las ventas de de la tienda durante un año\n",
        "\n",
        "**Recordar hacer una copia de la Notebook en su Drive personal. NO trabajar en esta Notebook**"
      ]
    },
    {
      "cell_type": "code",
      "metadata": {
        "id": "SonUe-JFTMaE"
      },
      "source": [
        "#1.1 Importar librerías necesarias\n",
        "import pandas as pd\n",
        "import numpy as np"
      ],
      "execution_count": 1,
      "outputs": []
    },
    {
      "cell_type": "code",
      "metadata": {
        "id": "m7wQxtduRA_g"
      },
      "source": [
        "#1.2 Subir el archivo de datos (está en el repositorio como base_muestra.csv)\n",
        "data=pd.read_csv('/content/base_muestra.csv')"
      ],
      "execution_count": 2,
      "outputs": []
    },
    {
      "cell_type": "code",
      "metadata": {
        "id": "RAE0if1RXlMh",
        "outputId": "ba4b9ed6-3262-46da-bd0d-da78754ed041",
        "colab": {
          "base_uri": "https://localhost:8080/",
          "height": 195
        }
      },
      "source": [
        "#1.3 Vistazo rápido a la estructura del data frame\n",
        "data.head()"
      ],
      "execution_count": 3,
      "outputs": [
        {
          "output_type": "execute_result",
          "data": {
            "text/plain": [
              "   CONSECUTIVO InvoiceNo  StockCode                  Description  Quantity  \\\n",
              "0           31    540239      10002  INFLATABLE POLITICAL GLOBE         12   \n",
              "1           39    541277      10002  INFLATABLE POLITICAL GLOBE          1   \n",
              "2           42    541592      10002  INFLATABLE POLITICAL GLOBE          1   \n",
              "3           43    541615      10002  INFLATABLE POLITICAL GLOBE          6   \n",
              "4           47    541878      10002  INFLATABLE POLITICAL GLOBE          1   \n",
              "\n",
              "  InvoiceDate UnitPrice   CustomerID         Country  \n",
              "0  05/01/2011      $0.85     12682.0          France  \n",
              "1  17/01/2011      $0.85     12673.0         Germany  \n",
              "2  19/01/2011      $1.63         NaN  United Kingdom  \n",
              "3  20/01/2011      $0.85     16395.0  United Kingdom  \n",
              "4  24/01/2011      $1.63         NaN  United Kingdom  "
            ],
            "text/html": [
              "<div>\n",
              "<style scoped>\n",
              "    .dataframe tbody tr th:only-of-type {\n",
              "        vertical-align: middle;\n",
              "    }\n",
              "\n",
              "    .dataframe tbody tr th {\n",
              "        vertical-align: top;\n",
              "    }\n",
              "\n",
              "    .dataframe thead th {\n",
              "        text-align: right;\n",
              "    }\n",
              "</style>\n",
              "<table border=\"1\" class=\"dataframe\">\n",
              "  <thead>\n",
              "    <tr style=\"text-align: right;\">\n",
              "      <th></th>\n",
              "      <th>CONSECUTIVO</th>\n",
              "      <th>InvoiceNo</th>\n",
              "      <th>StockCode</th>\n",
              "      <th>Description</th>\n",
              "      <th>Quantity</th>\n",
              "      <th>InvoiceDate</th>\n",
              "      <th>UnitPrice</th>\n",
              "      <th>CustomerID</th>\n",
              "      <th>Country</th>\n",
              "    </tr>\n",
              "  </thead>\n",
              "  <tbody>\n",
              "    <tr>\n",
              "      <th>0</th>\n",
              "      <td>31</td>\n",
              "      <td>540239</td>\n",
              "      <td>10002</td>\n",
              "      <td>INFLATABLE POLITICAL GLOBE</td>\n",
              "      <td>12</td>\n",
              "      <td>05/01/2011</td>\n",
              "      <td>$0.85</td>\n",
              "      <td>12682.0</td>\n",
              "      <td>France</td>\n",
              "    </tr>\n",
              "    <tr>\n",
              "      <th>1</th>\n",
              "      <td>39</td>\n",
              "      <td>541277</td>\n",
              "      <td>10002</td>\n",
              "      <td>INFLATABLE POLITICAL GLOBE</td>\n",
              "      <td>1</td>\n",
              "      <td>17/01/2011</td>\n",
              "      <td>$0.85</td>\n",
              "      <td>12673.0</td>\n",
              "      <td>Germany</td>\n",
              "    </tr>\n",
              "    <tr>\n",
              "      <th>2</th>\n",
              "      <td>42</td>\n",
              "      <td>541592</td>\n",
              "      <td>10002</td>\n",
              "      <td>INFLATABLE POLITICAL GLOBE</td>\n",
              "      <td>1</td>\n",
              "      <td>19/01/2011</td>\n",
              "      <td>$1.63</td>\n",
              "      <td>NaN</td>\n",
              "      <td>United Kingdom</td>\n",
              "    </tr>\n",
              "    <tr>\n",
              "      <th>3</th>\n",
              "      <td>43</td>\n",
              "      <td>541615</td>\n",
              "      <td>10002</td>\n",
              "      <td>INFLATABLE POLITICAL GLOBE</td>\n",
              "      <td>6</td>\n",
              "      <td>20/01/2011</td>\n",
              "      <td>$0.85</td>\n",
              "      <td>16395.0</td>\n",
              "      <td>United Kingdom</td>\n",
              "    </tr>\n",
              "    <tr>\n",
              "      <th>4</th>\n",
              "      <td>47</td>\n",
              "      <td>541878</td>\n",
              "      <td>10002</td>\n",
              "      <td>INFLATABLE POLITICAL GLOBE</td>\n",
              "      <td>1</td>\n",
              "      <td>24/01/2011</td>\n",
              "      <td>$1.63</td>\n",
              "      <td>NaN</td>\n",
              "      <td>United Kingdom</td>\n",
              "    </tr>\n",
              "  </tbody>\n",
              "</table>\n",
              "</div>"
            ]
          },
          "metadata": {
            "tags": []
          },
          "execution_count": 3
        }
      ]
    },
    {
      "cell_type": "markdown",
      "metadata": {
        "id": "EA5lHS8jVPlT"
      },
      "source": [
        "# 2) Calidad de los datos\n",
        "\n",
        "Siempre al revisar cualquier base de datos es importante conocer la calidad de la misma. \n",
        "\n",
        "Es un problema común con el que se debe tener el máximo cuidado para evitar que análisis posteriores muestren resultados incorrectos. \n",
        "\n",
        "**Issues comunes**\n",
        "*   Datos vacíos \n",
        "*   Registros duplicados\n",
        "*   Capturas incorrectas  \n"
      ]
    },
    {
      "cell_type": "code",
      "metadata": {
        "id": "bz_TQttBaLUs",
        "outputId": "b1a90164-3612-4c66-fb34-820a89975872",
        "colab": {
          "base_uri": "https://localhost:8080/"
        }
      },
      "source": [
        "#2.1 Revisaremos el tipo de variables de la base para saber si cada variable es congruente con su información\n",
        "data.dtypes #--también puedes usar: data.info()"
      ],
      "execution_count": 4,
      "outputs": [
        {
          "output_type": "execute_result",
          "data": {
            "text/plain": [
              "CONSECUTIVO      int64\n",
              "InvoiceNo       object\n",
              "StockCode        int64\n",
              "Description     object\n",
              "Quantity         int64\n",
              "InvoiceDate     object\n",
              "UnitPrice       object\n",
              "CustomerID     float64\n",
              "Country         object\n",
              "dtype: object"
            ]
          },
          "metadata": {
            "tags": []
          },
          "execution_count": 4
        }
      ]
    },
    {
      "cell_type": "code",
      "metadata": {
        "id": "VeI9hrkHanx3",
        "outputId": "7bc2d1d6-3103-4e14-fe12-d7a4df217547",
        "colab": {
          "base_uri": "https://localhost:8080/"
        }
      },
      "source": [
        "#2.2 Observamos que la variable 'InvoiceDate' no es de tipo fecha, de hecho 'UnitPrice' tampoco aparece con este formato numérico.\n",
        "\n",
        "#Transformaremos la variable 'InvoiceDate' como fecha para poder manipularla correctamente en el análisis posterior\n",
        "data[\"InvoiceDate\"] = data[\"InvoiceDate\"].astype('datetime64')\n",
        "data.dtypes\n"
      ],
      "execution_count": 6,
      "outputs": [
        {
          "output_type": "execute_result",
          "data": {
            "text/plain": [
              "CONSECUTIVO             int64\n",
              "InvoiceNo              object\n",
              "StockCode               int64\n",
              "Description            object\n",
              "Quantity                int64\n",
              "InvoiceDate    datetime64[ns]\n",
              "UnitPrice              object\n",
              "CustomerID            float64\n",
              "Country                object\n",
              "dtype: object"
            ]
          },
          "metadata": {
            "tags": []
          },
          "execution_count": 6
        }
      ]
    },
    {
      "cell_type": "code",
      "metadata": {
        "id": "x2DF96eSdQnr",
        "outputId": "37e1795c-b3c9-42e6-d873-b3a952a67cf0",
        "colab": {
          "base_uri": "https://localhost:8080/",
          "height": 195
        }
      },
      "source": [
        "#Ahora transofrmaremos la variable \"UnitPrice \". Para convertir a número primero debemos quitarle los carácteres de moneda\n",
        "# \"$\" y \",\", reemplazando por nada y posteriormente convertiremos a número\n",
        "data['UnitPrice ']=data['UnitPrice '].str.replace('$', '')\n",
        "data['UnitPrice ']=data['UnitPrice '].str.replace(',', '')\n",
        "data.head()\n"
      ],
      "execution_count": 7,
      "outputs": [
        {
          "output_type": "execute_result",
          "data": {
            "text/plain": [
              "   CONSECUTIVO InvoiceNo  StockCode                  Description  Quantity  \\\n",
              "0           31    540239      10002  INFLATABLE POLITICAL GLOBE         12   \n",
              "1           39    541277      10002  INFLATABLE POLITICAL GLOBE          1   \n",
              "2           42    541592      10002  INFLATABLE POLITICAL GLOBE          1   \n",
              "3           43    541615      10002  INFLATABLE POLITICAL GLOBE          6   \n",
              "4           47    541878      10002  INFLATABLE POLITICAL GLOBE          1   \n",
              "\n",
              "  InvoiceDate UnitPrice   CustomerID         Country  \n",
              "0  2011-05-01       0.85     12682.0          France  \n",
              "1  2011-01-17       0.85     12673.0         Germany  \n",
              "2  2011-01-19       1.63         NaN  United Kingdom  \n",
              "3  2011-01-20       0.85     16395.0  United Kingdom  \n",
              "4  2011-01-24       1.63         NaN  United Kingdom  "
            ],
            "text/html": [
              "<div>\n",
              "<style scoped>\n",
              "    .dataframe tbody tr th:only-of-type {\n",
              "        vertical-align: middle;\n",
              "    }\n",
              "\n",
              "    .dataframe tbody tr th {\n",
              "        vertical-align: top;\n",
              "    }\n",
              "\n",
              "    .dataframe thead th {\n",
              "        text-align: right;\n",
              "    }\n",
              "</style>\n",
              "<table border=\"1\" class=\"dataframe\">\n",
              "  <thead>\n",
              "    <tr style=\"text-align: right;\">\n",
              "      <th></th>\n",
              "      <th>CONSECUTIVO</th>\n",
              "      <th>InvoiceNo</th>\n",
              "      <th>StockCode</th>\n",
              "      <th>Description</th>\n",
              "      <th>Quantity</th>\n",
              "      <th>InvoiceDate</th>\n",
              "      <th>UnitPrice</th>\n",
              "      <th>CustomerID</th>\n",
              "      <th>Country</th>\n",
              "    </tr>\n",
              "  </thead>\n",
              "  <tbody>\n",
              "    <tr>\n",
              "      <th>0</th>\n",
              "      <td>31</td>\n",
              "      <td>540239</td>\n",
              "      <td>10002</td>\n",
              "      <td>INFLATABLE POLITICAL GLOBE</td>\n",
              "      <td>12</td>\n",
              "      <td>2011-05-01</td>\n",
              "      <td>0.85</td>\n",
              "      <td>12682.0</td>\n",
              "      <td>France</td>\n",
              "    </tr>\n",
              "    <tr>\n",
              "      <th>1</th>\n",
              "      <td>39</td>\n",
              "      <td>541277</td>\n",
              "      <td>10002</td>\n",
              "      <td>INFLATABLE POLITICAL GLOBE</td>\n",
              "      <td>1</td>\n",
              "      <td>2011-01-17</td>\n",
              "      <td>0.85</td>\n",
              "      <td>12673.0</td>\n",
              "      <td>Germany</td>\n",
              "    </tr>\n",
              "    <tr>\n",
              "      <th>2</th>\n",
              "      <td>42</td>\n",
              "      <td>541592</td>\n",
              "      <td>10002</td>\n",
              "      <td>INFLATABLE POLITICAL GLOBE</td>\n",
              "      <td>1</td>\n",
              "      <td>2011-01-19</td>\n",
              "      <td>1.63</td>\n",
              "      <td>NaN</td>\n",
              "      <td>United Kingdom</td>\n",
              "    </tr>\n",
              "    <tr>\n",
              "      <th>3</th>\n",
              "      <td>43</td>\n",
              "      <td>541615</td>\n",
              "      <td>10002</td>\n",
              "      <td>INFLATABLE POLITICAL GLOBE</td>\n",
              "      <td>6</td>\n",
              "      <td>2011-01-20</td>\n",
              "      <td>0.85</td>\n",
              "      <td>16395.0</td>\n",
              "      <td>United Kingdom</td>\n",
              "    </tr>\n",
              "    <tr>\n",
              "      <th>4</th>\n",
              "      <td>47</td>\n",
              "      <td>541878</td>\n",
              "      <td>10002</td>\n",
              "      <td>INFLATABLE POLITICAL GLOBE</td>\n",
              "      <td>1</td>\n",
              "      <td>2011-01-24</td>\n",
              "      <td>1.63</td>\n",
              "      <td>NaN</td>\n",
              "      <td>United Kingdom</td>\n",
              "    </tr>\n",
              "  </tbody>\n",
              "</table>\n",
              "</div>"
            ]
          },
          "metadata": {
            "tags": []
          },
          "execution_count": 7
        }
      ]
    },
    {
      "cell_type": "code",
      "metadata": {
        "id": "NAtlgpDji4Vu"
      },
      "source": [
        "data[\"UnitPrice \"] = data[\"UnitPrice \"].astype('float')\n"
      ],
      "execution_count": 8,
      "outputs": []
    },
    {
      "cell_type": "code",
      "metadata": {
        "id": "o7sFZ9BFtToW",
        "outputId": "8c4b2049-9489-4bca-879e-dca1b77419fc",
        "colab": {
          "base_uri": "https://localhost:8080/"
        }
      },
      "source": [
        "data.info()"
      ],
      "execution_count": 9,
      "outputs": [
        {
          "output_type": "stream",
          "text": [
            "<class 'pandas.core.frame.DataFrame'>\n",
            "RangeIndex: 12247 entries, 0 to 12246\n",
            "Data columns (total 9 columns):\n",
            "CONSECUTIVO    12247 non-null int64\n",
            "InvoiceNo      12247 non-null object\n",
            "StockCode      12247 non-null int64\n",
            "Description    12205 non-null object\n",
            "Quantity       12247 non-null int64\n",
            "InvoiceDate    12247 non-null datetime64[ns]\n",
            "UnitPrice      12187 non-null float64\n",
            "CustomerID     8879 non-null float64\n",
            "Country        12247 non-null object\n",
            "dtypes: datetime64[ns](1), float64(2), int64(3), object(3)\n",
            "memory usage: 861.2+ KB\n"
          ],
          "name": "stdout"
        }
      ]
    },
    {
      "cell_type": "code",
      "metadata": {
        "id": "qpFzuwvgO2sL",
        "outputId": "fb7c97b9-1869-46f5-f157-636df3c87ecf",
        "colab": {
          "base_uri": "https://localhost:8080/"
        }
      },
      "source": [
        "#2.5 Revisamos si hay valores nulos en la base\n",
        "missing_values_count = data.isnull().sum()\n",
        "missing_values_count"
      ],
      "execution_count": 10,
      "outputs": [
        {
          "output_type": "execute_result",
          "data": {
            "text/plain": [
              "CONSECUTIVO       0\n",
              "InvoiceNo         0\n",
              "StockCode         0\n",
              "Description      42\n",
              "Quantity          0\n",
              "InvoiceDate       0\n",
              "UnitPrice        60\n",
              "CustomerID     3368\n",
              "Country           0\n",
              "dtype: int64"
            ]
          },
          "metadata": {
            "tags": []
          },
          "execution_count": 10
        }
      ]
    },
    {
      "cell_type": "code",
      "metadata": {
        "id": "lah9b9U3xfwY",
        "outputId": "a24d20c5-b3d3-47c5-8e77-232650440dad",
        "colab": {
          "base_uri": "https://localhost:8080/"
        }
      },
      "source": [
        "#No queremos los registros vacíos de la variable 'UnitPrice '  ya que, supongamos, fueron registros de sistema y no de compras como tal\n",
        "#Filtraremos una nueva base de datos 'data2' con esta variable limpia\n",
        "\n",
        "data2 = data[data[\"UnitPrice \"].notna()]\n",
        "missing_values_count = data2.isnull().sum()\n",
        "missing_values_count"
      ],
      "execution_count": 11,
      "outputs": [
        {
          "output_type": "execute_result",
          "data": {
            "text/plain": [
              "CONSECUTIVO       0\n",
              "InvoiceNo         0\n",
              "StockCode         0\n",
              "Description       0\n",
              "Quantity          0\n",
              "InvoiceDate       0\n",
              "UnitPrice         0\n",
              "CustomerID     3308\n",
              "Country           0\n",
              "dtype: int64"
            ]
          },
          "metadata": {
            "tags": []
          },
          "execution_count": 11
        }
      ]
    },
    {
      "cell_type": "markdown",
      "metadata": {
        "id": "3bKdF1enPaXI"
      },
      "source": [
        "# 3) Procedimientos comunes para el análisis de bases de datos\n",
        "\n",
        "Manipular data frames siempre depende del objetivo del análisis.\n",
        "Entre algunos procedimientos comunes al trabajar con bases de datos están:\n",
        "\n",
        "*   Pegar información adicional\n",
        "*   Realizar filtros sobre la información\n",
        "*   Reagrupar la información en tablas pivote\n",
        "*   Revisar distribuciones\n",
        "*   Graficar variables de interés\n"
      ]
    },
    {
      "cell_type": "code",
      "metadata": {
        "id": "xVSg78LXRESo",
        "outputId": "b5cbce40-bf63-47d2-8a93-23a14f3a053e",
        "colab": {
          "base_uri": "https://localhost:8080/"
        }
      },
      "source": [
        "#3.1 Pegar información adicional\n",
        "#En la base de datos se encuentra la variable 'Country'\n",
        "#Paso 1: Revisaremos primero cuantos diferentes paises existen dentro de esta variable\n",
        "data2['Country'].unique()\n",
        "\n"
      ],
      "execution_count": 12,
      "outputs": [
        {
          "output_type": "execute_result",
          "data": {
            "text/plain": [
              "array(['France', 'Germany', 'United Kingdom', 'Canada', 'EIRE', 'Spain',\n",
              "       'Unspecified', 'Sweden', 'Iceland', 'Poland', 'Norway',\n",
              "       'Switzerland', 'Portugal', 'Cyprus', 'Belgium', 'Israel', 'USA',\n",
              "       'Australia', 'Netherlands', 'Austria', 'Finland', 'Hong Kong',\n",
              "       'Channel Islands', 'Singapore', 'Italy', 'Japan', 'Greece',\n",
              "       'Denmark', 'Saudi Arabia', 'Czech Republic', 'Brazil', 'Lebanon',\n",
              "       'RSA'], dtype=object)"
            ]
          },
          "metadata": {
            "tags": []
          },
          "execution_count": 12
        }
      ]
    },
    {
      "cell_type": "code",
      "metadata": {
        "id": "eb5mkZTu9FGt",
        "outputId": "9f331d6d-e8ad-4527-f326-b98469dbc2e5",
        "colab": {
          "base_uri": "https://localhost:8080/",
          "height": 195
        }
      },
      "source": [
        "#Agregaremos una variable adicional que sea el continente del país. Para realizar vamos a subir el catálogo de países y continentes \n",
        "#y lo agregaremos a nuestra 'data2'\n",
        "#Recuerda cargar el archivo primero y duepués leerlo en esta notebook\n",
        "\n",
        "catalogo=pd.read_csv('/content/catalogo_continentes.csv')\n",
        "catalogo.head()"
      ],
      "execution_count": 13,
      "outputs": [
        {
          "output_type": "execute_result",
          "data": {
            "text/plain": [
              "     Country  continent\n",
              "0  Australia  Australia\n",
              "1    Austria     Europe\n",
              "2    Bahrain       Asia\n",
              "3    Belgium     Europe\n",
              "4     Brazil    America"
            ],
            "text/html": [
              "<div>\n",
              "<style scoped>\n",
              "    .dataframe tbody tr th:only-of-type {\n",
              "        vertical-align: middle;\n",
              "    }\n",
              "\n",
              "    .dataframe tbody tr th {\n",
              "        vertical-align: top;\n",
              "    }\n",
              "\n",
              "    .dataframe thead th {\n",
              "        text-align: right;\n",
              "    }\n",
              "</style>\n",
              "<table border=\"1\" class=\"dataframe\">\n",
              "  <thead>\n",
              "    <tr style=\"text-align: right;\">\n",
              "      <th></th>\n",
              "      <th>Country</th>\n",
              "      <th>continent</th>\n",
              "    </tr>\n",
              "  </thead>\n",
              "  <tbody>\n",
              "    <tr>\n",
              "      <th>0</th>\n",
              "      <td>Australia</td>\n",
              "      <td>Australia</td>\n",
              "    </tr>\n",
              "    <tr>\n",
              "      <th>1</th>\n",
              "      <td>Austria</td>\n",
              "      <td>Europe</td>\n",
              "    </tr>\n",
              "    <tr>\n",
              "      <th>2</th>\n",
              "      <td>Bahrain</td>\n",
              "      <td>Asia</td>\n",
              "    </tr>\n",
              "    <tr>\n",
              "      <th>3</th>\n",
              "      <td>Belgium</td>\n",
              "      <td>Europe</td>\n",
              "    </tr>\n",
              "    <tr>\n",
              "      <th>4</th>\n",
              "      <td>Brazil</td>\n",
              "      <td>America</td>\n",
              "    </tr>\n",
              "  </tbody>\n",
              "</table>\n",
              "</div>"
            ]
          },
          "metadata": {
            "tags": []
          },
          "execution_count": 13
        }
      ]
    },
    {
      "cell_type": "code",
      "metadata": {
        "id": "yJsMarWE-CtX",
        "outputId": "f899ea43-c1c9-4968-a565-3f738967daca",
        "colab": {
          "base_uri": "https://localhost:8080/",
          "height": 195
        }
      },
      "source": [
        "#Para unir cada pais con su contienente usaremos la siguiente instrucción\n",
        "data2=data2.merge(catalogo, on='Country', how='left')\n",
        "data2.head()"
      ],
      "execution_count": 14,
      "outputs": [
        {
          "output_type": "execute_result",
          "data": {
            "text/plain": [
              "   CONSECUTIVO InvoiceNo  StockCode                  Description  Quantity  \\\n",
              "0           31    540239      10002  INFLATABLE POLITICAL GLOBE         12   \n",
              "1           39    541277      10002  INFLATABLE POLITICAL GLOBE          1   \n",
              "2           42    541592      10002  INFLATABLE POLITICAL GLOBE          1   \n",
              "3           43    541615      10002  INFLATABLE POLITICAL GLOBE          6   \n",
              "4           47    541878      10002  INFLATABLE POLITICAL GLOBE          1   \n",
              "\n",
              "  InvoiceDate  UnitPrice   CustomerID         Country continent  \n",
              "0  2011-05-01        0.85     12682.0          France    Europe  \n",
              "1  2011-01-17        0.85     12673.0         Germany    Europe  \n",
              "2  2011-01-19        1.63         NaN  United Kingdom    Europe  \n",
              "3  2011-01-20        0.85     16395.0  United Kingdom    Europe  \n",
              "4  2011-01-24        1.63         NaN  United Kingdom    Europe  "
            ],
            "text/html": [
              "<div>\n",
              "<style scoped>\n",
              "    .dataframe tbody tr th:only-of-type {\n",
              "        vertical-align: middle;\n",
              "    }\n",
              "\n",
              "    .dataframe tbody tr th {\n",
              "        vertical-align: top;\n",
              "    }\n",
              "\n",
              "    .dataframe thead th {\n",
              "        text-align: right;\n",
              "    }\n",
              "</style>\n",
              "<table border=\"1\" class=\"dataframe\">\n",
              "  <thead>\n",
              "    <tr style=\"text-align: right;\">\n",
              "      <th></th>\n",
              "      <th>CONSECUTIVO</th>\n",
              "      <th>InvoiceNo</th>\n",
              "      <th>StockCode</th>\n",
              "      <th>Description</th>\n",
              "      <th>Quantity</th>\n",
              "      <th>InvoiceDate</th>\n",
              "      <th>UnitPrice</th>\n",
              "      <th>CustomerID</th>\n",
              "      <th>Country</th>\n",
              "      <th>continent</th>\n",
              "    </tr>\n",
              "  </thead>\n",
              "  <tbody>\n",
              "    <tr>\n",
              "      <th>0</th>\n",
              "      <td>31</td>\n",
              "      <td>540239</td>\n",
              "      <td>10002</td>\n",
              "      <td>INFLATABLE POLITICAL GLOBE</td>\n",
              "      <td>12</td>\n",
              "      <td>2011-05-01</td>\n",
              "      <td>0.85</td>\n",
              "      <td>12682.0</td>\n",
              "      <td>France</td>\n",
              "      <td>Europe</td>\n",
              "    </tr>\n",
              "    <tr>\n",
              "      <th>1</th>\n",
              "      <td>39</td>\n",
              "      <td>541277</td>\n",
              "      <td>10002</td>\n",
              "      <td>INFLATABLE POLITICAL GLOBE</td>\n",
              "      <td>1</td>\n",
              "      <td>2011-01-17</td>\n",
              "      <td>0.85</td>\n",
              "      <td>12673.0</td>\n",
              "      <td>Germany</td>\n",
              "      <td>Europe</td>\n",
              "    </tr>\n",
              "    <tr>\n",
              "      <th>2</th>\n",
              "      <td>42</td>\n",
              "      <td>541592</td>\n",
              "      <td>10002</td>\n",
              "      <td>INFLATABLE POLITICAL GLOBE</td>\n",
              "      <td>1</td>\n",
              "      <td>2011-01-19</td>\n",
              "      <td>1.63</td>\n",
              "      <td>NaN</td>\n",
              "      <td>United Kingdom</td>\n",
              "      <td>Europe</td>\n",
              "    </tr>\n",
              "    <tr>\n",
              "      <th>3</th>\n",
              "      <td>43</td>\n",
              "      <td>541615</td>\n",
              "      <td>10002</td>\n",
              "      <td>INFLATABLE POLITICAL GLOBE</td>\n",
              "      <td>6</td>\n",
              "      <td>2011-01-20</td>\n",
              "      <td>0.85</td>\n",
              "      <td>16395.0</td>\n",
              "      <td>United Kingdom</td>\n",
              "      <td>Europe</td>\n",
              "    </tr>\n",
              "    <tr>\n",
              "      <th>4</th>\n",
              "      <td>47</td>\n",
              "      <td>541878</td>\n",
              "      <td>10002</td>\n",
              "      <td>INFLATABLE POLITICAL GLOBE</td>\n",
              "      <td>1</td>\n",
              "      <td>2011-01-24</td>\n",
              "      <td>1.63</td>\n",
              "      <td>NaN</td>\n",
              "      <td>United Kingdom</td>\n",
              "      <td>Europe</td>\n",
              "    </tr>\n",
              "  </tbody>\n",
              "</table>\n",
              "</div>"
            ]
          },
          "metadata": {
            "tags": []
          },
          "execution_count": 14
        }
      ]
    },
    {
      "cell_type": "markdown",
      "metadata": {
        "id": "GvOnHn8HBaWQ"
      },
      "source": [
        "# 4) Análisis\n",
        "\n",
        "*   4.1 ¿En qué continente hay mayores ventas (en número de productos y en monto de ventas)\n",
        "*   4.2 Hacer una gráfica del número de ventas por país solo del contienente con mayores ventas\n",
        "*   4.3 TOP 10 productos vendidos en el país con mayores ventas\n",
        "*   4.4 Serie de tiempo en ventas"
      ]
    },
    {
      "cell_type": "code",
      "metadata": {
        "id": "Klrd7XJF_sxg",
        "outputId": "f9f463f4-df7d-49c0-b97a-ddf561141900",
        "colab": {
          "base_uri": "https://localhost:8080/",
          "height": 350
        }
      },
      "source": [
        "#4.1 ¿En qué continente hay mayores ventas (en número de productos y en monto de ventas)\n",
        "import matplotlib\n",
        "import matplotlib.pyplot as plt\n",
        "import numpy as np\n",
        "\n",
        "#comentar la linea de cosigo que no se quiera graficar\n",
        "data2.groupby('continent').sum()[\"UnitPrice \"].plot(kind='bar') #Para graficar monto\n",
        "#data2.groupby('continent').sum()[\"Quantity\"].plot(kind='bar') #Para graficar cantidad"
      ],
      "execution_count": 15,
      "outputs": [
        {
          "output_type": "execute_result",
          "data": {
            "text/plain": [
              "<matplotlib.axes._subplots.AxesSubplot at 0x7fa87258e550>"
            ]
          },
          "metadata": {
            "tags": []
          },
          "execution_count": 15
        },
        {
          "output_type": "display_data",
          "data": {
            "image/png": "[encoded data removed]",
            "text/plain": [
              "<Figure size 432x288 with 1 Axes>"
            ]
          },
          "metadata": {
            "tags": [],
            "needs_background": "light"
          }
        }
      ]
    },
    {
      "cell_type": "code",
      "metadata": {
        "id": "Cf3H1MYsHQmq",
        "outputId": "f612ffc2-122a-443f-c974-ab675f8e3f54",
        "colab": {
          "base_uri": "https://localhost:8080/",
          "height": 370
        }
      },
      "source": [
        "#4.2 Hacer una gráfica del número de ventas por país solo del contienente con mayores ventas\n",
        "\n",
        "europe=data2[data2['continent']=='Europe']\n",
        "europe.groupby('Country').sum()[\"Quantity\"].plot(kind='bar')\n"
      ],
      "execution_count": 16,
      "outputs": [
        {
          "output_type": "execute_result",
          "data": {
            "text/plain": [
              "<matplotlib.axes._subplots.AxesSubplot at 0x7fa87255c290>"
            ]
          },
          "metadata": {
            "tags": []
          },
          "execution_count": 16
        },
        {
          "output_type": "display_data",
          "data": {
            "image/png": "[encoded data removed]",
            "text/plain": [
              "<Figure size 432x288 with 1 Axes>"
            ]
          },
          "metadata": {
            "tags": [],
            "needs_background": "light"
          }
        }
      ]
    },
    {
      "cell_type": "code",
      "metadata": {
        "id": "Psa3I7EKLfCf",
        "outputId": "cc6de94e-80bc-4fd1-ad37-182502dccd4c",
        "colab": {
          "base_uri": "https://localhost:8080/",
          "height": 373
        }
      },
      "source": [
        "#4.3 TOP 10  productos vendidos en el país con mayores ventas\n",
        "UK=europe[europe['Country']=='United Kingdom']\n",
        "UK2=pd.DataFrame(UK.groupby('Description').sum()[\"Quantity\"])\n",
        "UK2.sort_values(\"Quantity\").head(10)\n"
      ],
      "execution_count": 17,
      "outputs": [
        {
          "output_type": "execute_result",
          "data": {
            "text/plain": [
              "                                     Quantity\n",
              "Description                                  \n",
              "*USB Office Mirror Ball                     1\n",
              "CHERRY BLOSSOM PURSE                        1\n",
              "CHRISTMAS TREE T-LIGHT HOLDER               1\n",
              "EIGHT PIECE CREEPY CRAWLIE SET              1\n",
              "FOLDING UMBRELLA WHITE/RED POLKADOT         1\n",
              "ASSORTED LAQUERED INCENSE HOLDERS           1\n",
              "GOLD FABRIC MIRROR                          1\n",
              "HANGING MEDINA LANTERN SMALL                1\n",
              "LITTLE GREEN MONSTER SOFT TOY               1\n",
              "MEDINA STAMPED METAL STOOL                  1"
            ],
            "text/html": [
              "<div>\n",
              "<style scoped>\n",
              "    .dataframe tbody tr th:only-of-type {\n",
              "        vertical-align: middle;\n",
              "    }\n",
              "\n",
              "    .dataframe tbody tr th {\n",
              "        vertical-align: top;\n",
              "    }\n",
              "\n",
              "    .dataframe thead th {\n",
              "        text-align: right;\n",
              "    }\n",
              "</style>\n",
              "<table border=\"1\" class=\"dataframe\">\n",
              "  <thead>\n",
              "    <tr style=\"text-align: right;\">\n",
              "      <th></th>\n",
              "      <th>Quantity</th>\n",
              "    </tr>\n",
              "    <tr>\n",
              "      <th>Description</th>\n",
              "      <th></th>\n",
              "    </tr>\n",
              "  </thead>\n",
              "  <tbody>\n",
              "    <tr>\n",
              "      <th>*USB Office Mirror Ball</th>\n",
              "      <td>1</td>\n",
              "    </tr>\n",
              "    <tr>\n",
              "      <th>CHERRY BLOSSOM PURSE</th>\n",
              "      <td>1</td>\n",
              "    </tr>\n",
              "    <tr>\n",
              "      <th>CHRISTMAS TREE T-LIGHT HOLDER</th>\n",
              "      <td>1</td>\n",
              "    </tr>\n",
              "    <tr>\n",
              "      <th>EIGHT PIECE CREEPY CRAWLIE SET</th>\n",
              "      <td>1</td>\n",
              "    </tr>\n",
              "    <tr>\n",
              "      <th>FOLDING UMBRELLA WHITE/RED POLKADOT</th>\n",
              "      <td>1</td>\n",
              "    </tr>\n",
              "    <tr>\n",
              "      <th>ASSORTED LAQUERED INCENSE HOLDERS</th>\n",
              "      <td>1</td>\n",
              "    </tr>\n",
              "    <tr>\n",
              "      <th>GOLD FABRIC MIRROR</th>\n",
              "      <td>1</td>\n",
              "    </tr>\n",
              "    <tr>\n",
              "      <th>HANGING MEDINA LANTERN SMALL</th>\n",
              "      <td>1</td>\n",
              "    </tr>\n",
              "    <tr>\n",
              "      <th>LITTLE GREEN MONSTER SOFT TOY</th>\n",
              "      <td>1</td>\n",
              "    </tr>\n",
              "    <tr>\n",
              "      <th>MEDINA STAMPED METAL STOOL</th>\n",
              "      <td>1</td>\n",
              "    </tr>\n",
              "  </tbody>\n",
              "</table>\n",
              "</div>"
            ]
          },
          "metadata": {
            "tags": []
          },
          "execution_count": 17
        }
      ]
    },
    {
      "cell_type": "code",
      "metadata": {
        "id": "NxP0BiPST9cX",
        "outputId": "793377e3-3c33-4a68-da06-7036ee038de8",
        "colab": {
          "base_uri": "https://localhost:8080/",
          "height": 298
        }
      },
      "source": [
        "#4.4 Serie de tiempo en ventas\n",
        "UK3=pd.DataFrame(UK.groupby('InvoiceDate').sum()[\"Quantity\"])\n",
        "\n",
        "UK3.plot(grid=True)#, figsize=(15,5))"
      ],
      "execution_count": 18,
      "outputs": [
        {
          "output_type": "execute_result",
          "data": {
            "text/plain": [
              "<matplotlib.axes._subplots.AxesSubplot at 0x7fa870392bd0>"
            ]
          },
          "metadata": {
            "tags": []
          },
          "execution_count": 18
        },
        {
          "output_type": "display_data",
          "data": {
            "image/png": "[encoded data removed]",
            "text/plain": [
              "<Figure size 432x288 with 1 Axes>"
            ]
          },
          "metadata": {
            "tags": [],
            "needs_background": "light"
          }
        }
      ]
    }
  ]
}