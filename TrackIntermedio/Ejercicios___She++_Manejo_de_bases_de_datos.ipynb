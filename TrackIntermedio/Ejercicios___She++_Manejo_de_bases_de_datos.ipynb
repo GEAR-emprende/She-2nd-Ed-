{
  "nbformat": 4,
  "nbformat_minor": 0,
  "metadata": {
    "colab": {
      "name": "Ejercicios | She++ Manejo de bases de datos",
      "provenance": [],
      "collapsed_sections": [],
      "toc_visible": true
    },
    "kernelspec": {
      "name": "python2",
      "display_name": "Python 2"
    }
  },
  "cells": [
    {
      "cell_type": "markdown",
      "metadata": {
        "id": "M4xyWxZFevtN"
      },
      "source": [
        "# 1) Fuentes de datos\n",
        "\n",
        "Cargaremos la base de datos que está en un archivo tipo .csv que contiene todas las ventas de de la tienda durante un año\n",
        "\n",
        "**Recordar hacer una copia de la Notebook en su Drive personal. NO trabajar en esta Notebook**"
      ]
    },
    {
      "cell_type": "code",
      "metadata": {
        "id": "SonUe-JFTMaE"
      },
      "source": [
        "#1.1 Importar librerías necesarias\n"
      ],
      "execution_count": 1,
      "outputs": []
    },
    {
      "cell_type": "code",
      "metadata": {
        "id": "m7wQxtduRA_g"
      },
      "source": [
        "#1.2 Subir el archivo de datos\n"
      ],
      "execution_count": 2,
      "outputs": []
    },
    {
      "cell_type": "code",
      "metadata": {
        "id": "RAE0if1RXlMh"
      },
      "source": [
        "#1.3 Vistazo rápido a la estructura del data frame\n"
      ],
      "execution_count": 3,
      "outputs": []
    },
    {
      "cell_type": "markdown",
      "metadata": {
        "id": "EA5lHS8jVPlT"
      },
      "source": [
        "# 2) Calidad de los datos\n",
        "\n",
        "Siempre al revisar cualquier base de datos es importante conocer la calidad de la misma. \n",
        "\n",
        "Es un problema común con el que se debe tener el máximo cuidado para evitar que análisis posteriores muestren resultados incorrectos. \n",
        "\n",
        "**Issues comunes**\n",
        "*   Datos vacíos \n",
        "*   Registros duplicados\n",
        "*   Capturas incorrectas  \n"
      ]
    },
    {
      "cell_type": "code",
      "metadata": {
        "id": "bz_TQttBaLUs"
      },
      "source": [
        "#2.1 Revisaremos el tipo de variables de la base para saber si cada variable es congruente con su información\n"
      ],
      "execution_count": 4,
      "outputs": []
    },
    {
      "cell_type": "code",
      "metadata": {
        "id": "VeI9hrkHanx3"
      },
      "source": [
        "#2.2 Observamos que la variable 'InvoiceDate' no es de tipo fecha, de hecho 'UnitPrice' tampoco aparece con este formato numérico.\n",
        "\n",
        "#Transformaremos la variable 'InvoiceDate' como fecha para poder manipularla correctamente en el análisis posterior\n",
        "\n"
      ],
      "execution_count": 5,
      "outputs": []
    },
    {
      "cell_type": "code",
      "metadata": {
        "id": "x2DF96eSdQnr"
      },
      "source": [
        "#Ahora transofrmaremos la variable \"UnitPrice \". Para convertir a número primero debemos quitarle los carácteres de moneda\n",
        "# \"$\" y \",\", reemplazando por nada y posteriormente convertiremos a número\n",
        "\n"
      ],
      "execution_count": 6,
      "outputs": []
    },
    {
      "cell_type": "code",
      "metadata": {
        "id": "NAtlgpDji4Vu"
      },
      "source": [
        "#A continuación transformaremos la variable\n",
        "\n"
      ],
      "execution_count": null,
      "outputs": []
    },
    {
      "cell_type": "code",
      "metadata": {
        "id": "o7sFZ9BFtToW"
      },
      "source": [
        "#Revisamos que el cambio se haya realizado correctamente\n"
      ],
      "execution_count": 7,
      "outputs": []
    },
    {
      "cell_type": "code",
      "metadata": {
        "id": "qpFzuwvgO2sL"
      },
      "source": [
        "#2.5 Revisamos si hay valores nulos en la base\n"
      ],
      "execution_count": 8,
      "outputs": []
    },
    {
      "cell_type": "code",
      "metadata": {
        "id": "lah9b9U3xfwY"
      },
      "source": [
        "#No queremos los registros vacíos de la variable 'UnitPrice '  ya que, supongamos, fueron registros de sistema y no de compras como tal\n",
        "#Filtraremos una nueva base de datos 'data2' con esta variable limpia\n",
        "\n"
      ],
      "execution_count": 9,
      "outputs": []
    },
    {
      "cell_type": "markdown",
      "metadata": {
        "id": "3bKdF1enPaXI"
      },
      "source": [
        "# 3) Procedimientos comunes para el análisis de bases de datos\n",
        "\n",
        "Manipular data frames siempre depende del objetivo del análisis.\n",
        "Entre algunos procedimientos comunes al trabajar con bases de datos están:\n",
        "\n",
        "*   Pegar información adicional\n",
        "*   Realizar filtros sobre la información\n",
        "*   Reagrupar la información en tablas pivote\n",
        "*   Revisar distribuciones\n",
        "*   Graficar variables de interés\n"
      ]
    },
    {
      "cell_type": "code",
      "metadata": {
        "id": "xVSg78LXRESo"
      },
      "source": [
        "#3.1 Pegar información adicional\n",
        "#En la base de datos se encuentra la variable 'Country'\n",
        "#Paso 1: Revisaremos primero cuantos diferentes paises existen dentro de esta variable\n",
        "\n",
        "\n"
      ],
      "execution_count": 10,
      "outputs": []
    },
    {
      "cell_type": "code",
      "metadata": {
        "id": "eb5mkZTu9FGt"
      },
      "source": [
        "#Agregaremos una variable adicional que sea el continente del país. Para realizar vamos a subir el catálogo de países y continentes \n",
        "#y lo agregaremos a nuestra 'data2'\n",
        "#Recuerda cargar el archivo primero y duepués leerlo en esta notebook\n",
        "\n"
      ],
      "execution_count": 11,
      "outputs": []
    },
    {
      "cell_type": "code",
      "metadata": {
        "id": "yJsMarWE-CtX"
      },
      "source": [
        "#Para unir cada pais con su contienente usaremos la siguiente instrucción\n"
      ],
      "execution_count": 12,
      "outputs": []
    },
    {
      "cell_type": "markdown",
      "metadata": {
        "id": "GvOnHn8HBaWQ"
      },
      "source": [
        "# 4) Análisis\n",
        "\n",
        "*   4.1 ¿En qué continente hay mayores ventas (en número de productos y en monto de ventas)\n",
        "*   4.2 Hacer una gráfica del número de ventas por país solo del contienente con mayores ventas\n",
        "*   4.3 TOP 10 productos vendidos en el país con mayores ventas\n",
        "*   4.4 Serie de tiempo en ventas"
      ]
    },
    {
      "cell_type": "code",
      "metadata": {
        "id": "Klrd7XJF_sxg"
      },
      "source": [
        "#4.1 ¿En qué continente hay mayores ventas (en número de productos y en monto de ventas)\n",
        "\n",
        "#Para hacer las gráficas debemos importar las librerías correspondientes\n",
        "\n",
        "#Hacemos una gráfica por continente con las ventas en número de productos y montos\n"
      ],
      "execution_count": 13,
      "outputs": []
    },
    {
      "cell_type": "code",
      "metadata": {
        "id": "Cf3H1MYsHQmq"
      },
      "source": [
        "#4.2 Hacer una gráfica del número de ventas por país solo del contienente con mayores ventas\n"
      ],
      "execution_count": 15,
      "outputs": []
    },
    {
      "cell_type": "code",
      "metadata": {
        "id": "Psa3I7EKLfCf"
      },
      "source": [
        "#4.3 TOP 10  productos vendidos en el país con mayores ventas\n"
      ],
      "execution_count": 14,
      "outputs": []
    },
    {
      "cell_type": "code",
      "metadata": {
        "id": "NxP0BiPST9cX"
      },
      "source": [
        "#4.4 Serie de tiempo en ventas \n"
      ],
      "execution_count": 16,
      "outputs": []
    }
  ]
}